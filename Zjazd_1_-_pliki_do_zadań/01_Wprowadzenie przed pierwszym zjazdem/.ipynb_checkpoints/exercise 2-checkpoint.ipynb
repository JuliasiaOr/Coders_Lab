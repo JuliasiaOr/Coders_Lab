{
 "cells": [
  {
   "cell_type": "markdown",
   "metadata": {},
   "source": [
    "## Zadanie 2\n",
    "\n",
    "Poniżej znajdziesz kod, który zawiera kilka informacji na temat spalania paliwa różnych silników. Twoim zadaniem jest obliczenie, ile paliwa **średnio** spalają silniki benzynowe, a ile diesla. Wyniki wyświetl za pomocą funkcji `print`"
   ]
  },
  {
   "cell_type": "code",
   "execution_count": 2,
   "metadata": {},
   "outputs": [],
   "source": [
    "fuel_consumption = {  # in litre/100km\n",
    "  'Citroen': {\n",
    "    'Berlingo': {\n",
    "      'petrol_engine': 8.25,\n",
    "      'diesel_engine': 5.75,\n",
    "    },\n",
    "    'C3': {\n",
    "      'petrol_engine': 7.0,\n",
    "      'diesel_engine': 5.0,\n",
    "    },\n",
    "  },\n",
    "}"
   ]
  },
  {
   "cell_type": "code",
   "execution_count": 36,
   "metadata": {},
   "outputs": [
    {
     "name": "stdout",
     "output_type": "stream",
     "text": [
      "Benzynowy Citroen pali 7.625 litrow/100km\n",
      "Dyzelny Citroen pali 5.375 litrow/100km\n"
     ]
    }
   ],
   "source": [
    "\n",
    "print ('Benzynowy Citroen pali', result, 'litrow/100km')\n",
    "# tu oblicz i wyświetl ile średnio paliwa spalają oba rodzaje silników\n",
    "\n",
    "result = ((8.25 + 7.0) / 2)\n",
    "result_2 = ((5.75 + 5.0) / 2)\n",
    "print('Dyzelny Citroen pali', result_2, 'litrow/100km')"
   ]
  },
  {
   "cell_type": "code",
   "execution_count": 35,
   "metadata": {},
   "outputs": [
    {
     "name": "stdout",
     "output_type": "stream",
     "text": [
      "Benzynowy Citroen Berlingo pali 8.25 litrów/100km\n",
      "Dyzelny Citeroen Berlingo pali 5.75 litrów/100km\n"
     ]
    }
   ],
   "source": [
    "print('Benzynowy Citroen Berlingo pali', fuel_consumption['Citroen']['Berlingo']['petrol_engine'], 'litrów/100km')\n",
    "print('Dyzelny Citeroen Berlingo pali', fuel_consumption ['Citroen']['Berlingo']['diesel_engine'], 'litrów/100km')"
   ]
  },
  {
   "cell_type": "code",
   "execution_count": null,
   "metadata": {},
   "outputs": [],
   "source": [
    "fuel_consumption = {'Citroen': {'Berlingo': {'petrol_engine': 8.25,'diesel_engine': 5.75,},'C3': {'petrol_engine': 7.0,'diesel_engine': 5.0,},},}"
   ]
  }
 ],
 "metadata": {
  "kernelspec": {
   "display_name": "Python 3 (ipykernel)",
   "language": "python",
   "name": "python3"
  },
  "language_info": {
   "codemirror_mode": {
    "name": "ipython",
    "version": 3
   },
   "file_extension": ".py",
   "mimetype": "text/x-python",
   "name": "python",
   "nbconvert_exporter": "python",
   "pygments_lexer": "ipython3",
   "version": "3.9.13"
  }
 },
 "nbformat": 4,
 "nbformat_minor": 4
}
