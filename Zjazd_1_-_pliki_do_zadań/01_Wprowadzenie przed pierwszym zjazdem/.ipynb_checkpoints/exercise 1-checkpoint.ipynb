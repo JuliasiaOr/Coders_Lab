{
 "cells": [
  {
   "cell_type": "markdown",
   "metadata": {},
   "source": [
    "## Zadanie 1\n",
    "\n",
    "Zadanie polega na zainstalowaniu biblioteki `openpyxl`, a następnie wyciągnięcie pewnych informacji z przygotowanego arkusza. Część kodu jest już napisana i wymaga jedynie uzupełnienia."
   ]
  },
  {
   "cell_type": "code",
   "execution_count": 1,
   "metadata": {},
   "outputs": [
    {
     "name": "stdout",
     "output_type": "stream",
     "text": [
      "Requirement already satisfied: openpyxl in /opt/anaconda3/lib/python3.9/site-packages (3.0.10)\r\n",
      "Requirement already satisfied: et_xmlfile in /opt/anaconda3/lib/python3.9/site-packages (from openpyxl) (1.1.0)\r\n"
     ]
    }
   ],
   "source": [
    "!pip install openpyxl\n",
    "\n",
    "# tu wpisz polecenie instalujące bibliotekę openpyxl"
   ]
  },
  {
   "cell_type": "code",
   "execution_count": 7,
   "metadata": {},
   "outputs": [],
   "source": [
    "from openpyxl import load_workbook\n",
    "demo = load_workbook(filename='demo.xlsx', read_only=True)\n",
    "sheet = demo['Sheet1']"
   ]
  },
  {
   "cell_type": "code",
   "execution_count": 5,
   "metadata": {},
   "outputs": [],
   "source": [
    "Cells = ('Zostan', 'ekspertem', 'analizy', 'danych', 'dzieki', 'znajomosci', 'Python')\n",
    "# tu uzupełnij listę \"cells\", aby zawierała stringi: A1, B4, C2, A2, B3, C1, A3\n",
    "cells = [\"A1\", \"B4\"]"
   ]
  },
  {
   "cell_type": "code",
   "execution_count": null,
   "metadata": {},
   "outputs": [],
   "source": [
    "for cell in cells:\n",
    "    print(sheet[cell].value)"
   ]
  },
  {
   "cell_type": "code",
   "execution_count": 12,
   "metadata": {},
   "outputs": [
    {
     "name": "stdout",
     "output_type": "stream",
     "text": [
      "Zostań\n",
      "ekspertem\n"
     ]
    }
   ],
   "source": [
    "from openpyxl import load_workbook\n",
    "demo = load_workbook(filename='demo.xlsx', read_only=True)\n",
    "sheet = demo['Sheet1']\n",
    "\n",
    "# tu uzupełnij listę \"cells\", aby zawierała stringi: A1, B4, C2, A2, B3, C1, A3\n",
    "cells = [\"A1\", \"B4\"]\n",
    "for cell in cells:\n",
    "    print(sheet[cell].value)"
   ]
  },
  {
   "cell_type": "code",
   "execution_count": 11,
   "metadata": {},
   "outputs": [
    {
     "name": "stdout",
     "output_type": "stream",
     "text": [
      "Pythona!\n",
      "analizy\n"
     ]
    }
   ],
   "source": [
    "from openpyxl import load_workbook\n",
    "demo = load_workbook(filename='demo.xlsx', read_only=True)\n",
    "sheet = demo['Sheet1']\n",
    "cells = [\"A3\", \"C2\"]\n",
    "for cell in cells:\n",
    "    print(sheet[cell].value)"
   ]
  },
  {
   "cell_type": "code",
   "execution_count": null,
   "metadata": {},
   "outputs": [],
   "source": []
  }
 ],
 "metadata": {
  "kernelspec": {
   "display_name": "Python 3 (ipykernel)",
   "language": "python",
   "name": "python3"
  },
  "language_info": {
   "codemirror_mode": {
    "name": "ipython",
    "version": 3
   },
   "file_extension": ".py",
   "mimetype": "text/x-python",
   "name": "python",
   "nbconvert_exporter": "python",
   "pygments_lexer": "ipython3",
   "version": "3.9.13"
  }
 },
 "nbformat": 4,
 "nbformat_minor": 4
}
