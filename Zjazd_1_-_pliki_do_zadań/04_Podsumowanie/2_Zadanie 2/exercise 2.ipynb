{
 "cells": [
  {
   "cell_type": "markdown",
   "metadata": {},
   "source": [
    "# Zadanie 2\n",
    "\n",
    "Napisz funkcję `find_first_duplicate(text)`, która jako argument przyjmie string, a zwróci pierwszą literę, która występuje więcej niż jeden raz. Jeśli litery się nie powtarzają, funkcja powinna zwrócić `None`.\n",
    "\n",
    "Przykład:\n",
    "\n",
    "```python\n",
    "print(find('Kalambury'))\n",
    "```\n",
    "\n",
    "Wynik:\n",
    "```\n",
    "a\n",
    "```\n"
   ]
  },
  {
   "cell_type": "code",
   "execution_count": null,
   "metadata": {},
   "outputs": [],
   "source": [
    "def find_first_duplicate(text):\n",
    "    p = dict(Counter(text))\n",
    "    for i in p:\n",
    "        if p[i] > 1:\n",
    "            return i"
   ]
  },
  {
   "cell_type": "code",
   "execution_count": null,
   "metadata": {},
   "outputs": [],
   "source": [
    "if find_first_duplicate('procesor') == 'r':\n",
    "    print('Zaliczone!')\n",
    "else:\n",
    "    print(\"Oczekiwano, że dla argumentu 'procesor' funkcja zwróci 'r'\")\n",
    "    print('Twoja funkcja zwróciła:', find_first_duplicate('procesor'))\n",
    "\n",
    "if find_first_duplicate('klawiatura') == 'a':\n",
    "    print('Zaliczone!')\n",
    "else:\n",
    "    print(\"Oczekiwano, że dla argumentu 'klawiatura' funkcja zwróci 'a'\")\n",
    "    print('Twoja funkcja zwróciła:', find_first_duplicate('klawiatura'))\n",
    "\n",
    "if find_first_duplicate('mysz') == None:\n",
    "    print('Zaliczone!')\n",
    "else:\n",
    "    print(\"Oczekiwano, że dla argumentu 'mysz' funkcja zwróci None\")\n",
    "    print('Twoja funkcja zwróciła:', find_first_duplicate('mysz'))"
   ]
  },
  {
   "cell_type": "code",
   "execution_count": null,
   "metadata": {},
   "outputs": [],
   "source": []
  }
 ],
 "metadata": {
  "kernelspec": {
   "display_name": "Python 3 (ipykernel)",
   "language": "python",
   "name": "python3"
  },
  "language_info": {
   "codemirror_mode": {
    "name": "ipython",
    "version": 3
   },
   "file_extension": ".py",
   "mimetype": "text/x-python",
   "name": "python",
   "nbconvert_exporter": "python",
   "pygments_lexer": "ipython3",
   "version": "3.9.13"
  }
 },
 "nbformat": 4,
 "nbformat_minor": 4
}
