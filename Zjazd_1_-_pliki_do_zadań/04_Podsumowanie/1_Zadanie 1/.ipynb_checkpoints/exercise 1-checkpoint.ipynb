{
 "cells": [
  {
   "cell_type": "markdown",
   "metadata": {},
   "source": [
    "# Zadanie 1\n",
    "\n",
    "Napisz funkcję `count_letters(text)`, która jako argument przyjmie string, a zwróci słownik, w którym kluczem będą znaki ze stringa, a wartościami liczba ich wystąpień.\n",
    "\n",
    "Przykład:\n",
    "```python\n",
    "print(count_letters('Katarzyna'))\n",
    "```\n",
    "\n",
    "Wynik:\n",
    "```\n",
    "{'K': 1, 'a': 3, 't': 1, 'r': 1, 'z': z, 'y': 1, 'n': 1}\n",
    "```"
   ]
  },
  {
   "cell_type": "code",
   "execution_count": 5,
   "metadata": {},
   "outputs": [
    {
     "data": {
      "text/plain": [
       "{'K': 1, 'a': 3, 't': 1, 'r': 1, 'z': 1, 'y': 1, 'n': 1}"
      ]
     },
     "execution_count": 5,
     "metadata": {},
     "output_type": "execute_result"
    }
   ],
   "source": [
    "from collections import Counter\n",
    "\n",
    "def count_letters(text):\n",
    "    return dict(Counter(text))\n",
    "\n",
    "count_letters('Katarzyna')"
   ]
  },
  {
   "cell_type": "code",
   "execution_count": 6,
   "metadata": {},
   "outputs": [
    {
     "name": "stdout",
     "output_type": "stream",
     "text": [
      "Zaliczone!\n",
      "Zaliczone!\n"
     ]
    }
   ],
   "source": [
    "if count_letters('Anna') == {'A': 1, 'n': 2, 'a': 1}:\n",
    "    print('Zaliczone!')\n",
    "else:\n",
    "    print(\"Oczekiwano, że dla argumentu 'Anna' funkcja zwróci {'A': 1, 'n': 2, 'a': 1} (kolejność liter nie jest istotna, tylko poprawne ich zliczenie)\")\n",
    "    print('Twoja funkcja zwróciła:', count_letters('Anna'))\n",
    "\n",
    "if count_letters('Kajak') == {'K': 1, 'a': 2, 'j': 1, 'k': 1}:\n",
    "    print('Zaliczone!')\n",
    "else:\n",
    "    print(\"Oczekiwano, że dla argumentu 'Kajak' funkcja zwróci {'K': 1, 'a': 2, 'j': 1, 'k': 1} (kolejność liter nie jest istotna, tylko poprawne ich zliczenie)\")\n",
    "    print('Twoja funkcja zwróciła:', count_letters('Kajak'))\n"
   ]
  }
 ],
 "metadata": {
  "kernelspec": {
   "display_name": "Python 3 (ipykernel)",
   "language": "python",
   "name": "python3"
  },
  "language_info": {
   "codemirror_mode": {
    "name": "ipython",
    "version": 3
   },
   "file_extension": ".py",
   "mimetype": "text/x-python",
   "name": "python",
   "nbconvert_exporter": "python",
   "pygments_lexer": "ipython3",
   "version": "3.9.13"
  }
 },
 "nbformat": 4,
 "nbformat_minor": 4
}
