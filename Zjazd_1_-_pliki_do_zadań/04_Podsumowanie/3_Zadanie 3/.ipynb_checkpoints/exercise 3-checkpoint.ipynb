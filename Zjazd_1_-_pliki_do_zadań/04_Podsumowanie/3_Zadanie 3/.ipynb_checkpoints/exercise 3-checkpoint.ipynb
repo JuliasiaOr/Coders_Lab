{
 "cells": [
  {
   "cell_type": "markdown",
   "metadata": {},
   "source": [
    "# Zadanie 3\n",
    "\n",
    "W folderze `archive/` znajdziesz foldery `2018`, `2019` oraz `2020`,a w każdym z nich foldery nazwane trzyliterowymi skrótami angielskich miesięcy (`jan`, `feb`, etc.).\n",
    "\n",
    "W każdym z tych folderów znajdziesz pliki `.csv`, które zawierają informacje o tym, ilu nowych klientów, stałych klientów oraz klientów VIP odwiedziło tego dnia sklep.\n",
    "\n",
    "Napisz skrypt, który podsumuje, ilu klientów nowych, stałych oraz VIP odwiedziło sklep w roku 2018, 2019 oraz 2020.\n",
    "\n",
    "Spodziewane wyniki:\n",
    "\n",
    "```\n",
    "W roku 2018 sklep odwiedziło:\n",
    " - 853 nowych klientów\n",
    " - 2842 powracających klientów\n",
    " - 315 klientów VIP\n",
    "W roku 2019 sklep odwiedziło:\n",
    " - 851 nowych klientów\n",
    " - 2859 powracających klientów\n",
    " - 252 klientów VIP\n",
    "W roku 2020 sklep odwiedziło:\n",
    " - 757 nowych klientów\n",
    " - 2767 powracających klientów\n",
    " - 255 klientów VIP\n",
    "```"
   ]
  },
  {
   "cell_type": "code",
   "execution_count": 2,
   "metadata": {},
   "outputs": [
    {
     "name": "stdout",
     "output_type": "stream",
     "text": [
      "W roku 2018 sklep odwiedziło:\n",
      " - 853 nowych klientów\n",
      " - 2842 powracających klientów\n",
      " - 315 klientów VIP\n",
      "W roku 2019 sklep odwiedziło:\n",
      " - 851 nowych klientów\n",
      " - 2859 powracających klientów\n",
      " - 252 klientów VIP\n",
      "W roku 2020 sklep odwiedziło:\n",
      " - 757 nowych klientów\n",
      " - 2767 powracających klientów\n",
      " - 255 klientów VIP\n"
     ]
    }
   ],
   "source": [
    "import glob\n",
    "import csv\n",
    "\n",
    "def customers_all(year):\n",
    "    return glob.glob(f'archive/{year}/**/*.csv', recursive=True)\n",
    "\n",
    "years = (2018, 2019, 2020)\n",
    "for year in years:\n",
    "    new = 0\n",
    "    loyal = 0\n",
    "    vip = 0\n",
    "    all_files = customers_all(year)\n",
    "    for file in all_files:\n",
    "        with open(file, newline='') as new_file:\n",
    "            full_data = csv.reader(new_file)\n",
    "            data = list(full_data)\n",
    "            new = new + int(data[0][1])\n",
    "            loyal = loyal + int(data[1][1])\n",
    "            vip = vip + int(data[2][1])\n",
    "    print(f'W roku {year} sklep odwiedziło:\\n - {new} nowych klientów\\n - {loyal} powracających klientów\\n - {vip} klientów VIP')"
   ]
  }
 ],
 "metadata": {
  "kernelspec": {
   "display_name": "Python 3 (ipykernel)",
   "language": "python",
   "name": "python3"
  },
  "language_info": {
   "codemirror_mode": {
    "name": "ipython",
    "version": 3
   },
   "file_extension": ".py",
   "mimetype": "text/x-python",
   "name": "python",
   "nbconvert_exporter": "python",
   "pygments_lexer": "ipython3",
   "version": "3.9.13"
  }
 },
 "nbformat": 4,
 "nbformat_minor": 4
}
