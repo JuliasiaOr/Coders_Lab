{
 "cells": [
  {
   "cell_type": "markdown",
   "metadata": {},
   "source": [
    "# Zadanie 1\n",
    "\n",
    "Napisz funkcję `user_data(first_name, last_name)`, która jako argumenty przyjmie imię i nazwisko, a zwróci słownik po podanych kluczach i wartościach:\n",
    "- `\"first_name\"` - jak w argumencie,\n",
    "- `\"last_name\"` - jak w argumencie,\n",
    "- `\"full_name\"` - złożony z obu argumentów, oddzielonych spacją,\n",
    "- `\"initials\"` - pierwsze litery obu argumentów, po których następują kropki; obie części oddzielone spacją.\n",
    "\n",
    "Przykład:\n",
    "```python\n",
    "user_data('Jan', 'Kowalski')\n",
    "```\n",
    "\n",
    "Wynik:\n",
    "```\n",
    "{\"first_name\": \"Jan\", \"last_name\": \"Kowalski\", \"full_name\": \"Jan Kowalski\", \"initials\": \"J. K.\"}\n",
    "```"
   ]
  },
  {
   "cell_type": "code",
   "execution_count": 17,
   "metadata": {},
   "outputs": [],
   "source": [
    "# Tu napisz funkcję \"user_data\"\n",
    "def user_data(first_name, last_name):\n",
    "    a = (first_name + \" \" + last_name)\n",
    "    b = (first_name[0] + \". \" + last_name[0] + \".\")\n",
    "    return {\"first_name\": first_name, \"last_name\": last_name, \"full_name\": a, \"initials\": b}\n"
   ]
  },
  {
   "cell_type": "code",
   "execution_count": 18,
   "metadata": {},
   "outputs": [
    {
     "name": "stdout",
     "output_type": "stream",
     "text": [
      "Zaliczone!\n",
      "Zaliczone!\n"
     ]
    }
   ],
   "source": [
    "if user_data('Jan', 'Kowalski') == {\n",
    "        \"first_name\": \"Jan\",\n",
    "        \"last_name\": \"Kowalski\",\n",
    "        \"full_name\": \"Jan Kowalski\",\n",
    "        \"initials\": \"J. K.\"\n",
    "}:\n",
    "    print('Zaliczone!')\n",
    "else:\n",
    "    print('Funkcja user_data nie zwróciła oczekiwanej treści. Oczekiwano:')\n",
    "    print('{\"first_name\": \"Jan\", \"last_name\": \"Kowalski\", \"full_name\": \"Jan Kowalski\", \"initials\": \"J. K.\"}')\n",
    "    print('Funkcja zwróciła:')\n",
    "    print(user_data('Jan', 'Kowalski'))\n",
    "\n",
    "if user_data('Anna', 'Nowak') == {\n",
    "        \"first_name\": \"Anna\",\n",
    "        \"last_name\": \"Nowak\",\n",
    "        \"full_name\": \"Anna Nowak\",\n",
    "        \"initials\": \"A. N.\"\n",
    "}:\n",
    "    print('Zaliczone!')\n",
    "else:\n",
    "    print('Funkcja user_data nie zwróciła oczekiwanej treści. Oczekiwano:')\n",
    "    print('{\"first_name\": \"Anna\", \"last_name\": \"Nowak\", \"full_name\": \"Anna Nowak\", \"initials\": \"A. N.\"}')\n",
    "    print('Funkcja zwróciła:')\n",
    "    print(user_data('Anna', 'Nowak'))"
   ]
  },
  {
   "cell_type": "code",
   "execution_count": null,
   "metadata": {},
   "outputs": [],
   "source": []
  }
 ],
 "metadata": {
  "kernelspec": {
   "display_name": "Python 3 (ipykernel)",
   "language": "python",
   "name": "python3"
  },
  "language_info": {
   "codemirror_mode": {
    "name": "ipython",
    "version": 3
   },
   "file_extension": ".py",
   "mimetype": "text/x-python",
   "name": "python",
   "nbconvert_exporter": "python",
   "pygments_lexer": "ipython3",
   "version": "3.9.13"
  }
 },
 "nbformat": 4,
 "nbformat_minor": 4
}
