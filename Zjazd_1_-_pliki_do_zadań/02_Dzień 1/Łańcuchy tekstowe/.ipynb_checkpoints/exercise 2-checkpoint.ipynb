{
 "cells": [
  {
   "cell_type": "code",
   "execution_count": null,
   "metadata": {},
   "outputs": [],
   "source": [
    "# Zadanie 1\n",
    "\n",
    "Napisz funkcję `create_address(first_name, last_name, street, number, city, zipcode)`, która wygeneruje ładnie sformatowany adres - zobacz przykład poniżej:\n",
    "\n",
    "Przykład:\n",
    "```python\n",
    "print(create_address('Jan', 'Kowalski', 'Lipowa', 4, 'Warszawa', '00-123'))\n",
    "```\n",
    "\n",
    "Wynik:\n",
    "```\n",
    "Sz. P. Jan Kowalski\n",
    "ul. Lipowa 4\n",
    "00-123 Warszawa\n",
    "```\n",
    "\n",
    "**Zadanie rozwiąż za pomocą składni f-string**\n",
    "\n",
    "Podpowiedź: znak nowej linii możesz zapisać jako `\\\\n`:\n",
    "```python\n",
    "print(\"Linia 1\\nLinia 2\")\n",
    "```\n",
    "\n",
    "```\n",
    "Linia 1\n",
    "Linia 2\n",
    "```"
   ]
  },
  {
   "cell_type": "code",
   "execution_count": 30,
   "metadata": {},
   "outputs": [],
   "source": [
    "# Tu napisz funkcję \"create_address\" \n",
    "def create_address(first_name, last_name, street, number, city, zipcode):\n",
    "    result = (f'Sz. P. {first_name} {last_name}\\nul. {street} {number}\\n{zipcode} {city}')\n",
    "    return result"
   ]
  },
  {
   "cell_type": "code",
   "execution_count": 31,
   "metadata": {},
   "outputs": [
    {
     "name": "stdout",
     "output_type": "stream",
     "text": [
      "Zaliczone!\n",
      "Zaliczone!\n"
     ]
    }
   ],
   "source": [
    "if create_address('Jan', 'Kowalski', 'Lipowa', 4, 'Warszawa', '00-123') == 'Sz. P. Jan Kowalski\\nul. Lipowa 4\\n00-123 Warszawa':\n",
    "    print('Zaliczone!')\n",
    "else:\n",
    "    print('Oczekiwano, że dla argumentów \"Jan\", \"Kowalski\", \"Lipowa\", 4, \"Warszawa\", \"00-123\" funkcja zwróci:')\n",
    "    print('Sz. P. Jan Kowalski\\nul. Lipowa 4\\n00-123 Warszawa')\n",
    "    print('Twoja funkcja zwróciła:', create_address('Jan', 'Kowalski', 'Lipowa', 4, 'Warszawa', '00-123'))\n",
    "\n",
    "if create_address('Anna', 'Nowak', 'Brzozowa', 77, 'Wrocław', '50-123') == 'Sz. P. Anna Nowak\\nul. Brzozowa 77\\n50-123 Wrocław':\n",
    "    print('Zaliczone!')\n",
    "else:\n",
    "    print('Oczekiwano, że dla argumentów \"Anna\", \"Nowak\", \"Brzozowa\", 77, \"Wrocław\", \"50-123\" funkcja zwróci:')\n",
    "    print('Sz. P. Anna Nowak\\nul. Brzozowa 77\\n50-123 Wrocław')\n",
    "    print('Twoja funkcja zwróciła:', create_address('Anna', 'Nowak', 'Brzozowa', 77, 'Wrocław', '50-123'))"
   ]
  },
  {
   "cell_type": "code",
   "execution_count": null,
   "metadata": {},
   "outputs": [],
   "source": []
  }
 ],
 "metadata": {
  "kernelspec": {
   "display_name": "Python 3 (ipykernel)",
   "language": "python",
   "name": "python3"
  },
  "language_info": {
   "codemirror_mode": {
    "name": "ipython",
    "version": 3
   },
   "file_extension": ".py",
   "mimetype": "text/x-python",
   "name": "python",
   "nbconvert_exporter": "python",
   "pygments_lexer": "ipython3",
   "version": "3.9.13"
  }
 },
 "nbformat": 4,
 "nbformat_minor": 4
}
