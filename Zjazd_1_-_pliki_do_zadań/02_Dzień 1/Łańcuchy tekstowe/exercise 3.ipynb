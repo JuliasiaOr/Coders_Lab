{
 "cells": [
  {
   "cell_type": "markdown",
   "metadata": {},
   "source": [
    "# Zadanie 3\n",
    "\n",
    "Napisz funkcję `anonymize(email)`, która jako argument przyjmie adres email, a zwróci tekst składający się z:\n",
    "- pierwszych trzech znaków adresu email\n",
    "- trzech gwiazdek: `'***'`\n",
    "- ostatnich pięciu znaków adresu email\n",
    "\n",
    "Jeśli adres ma mniej niż 10 znaków, funkcja powinna zwrócić tekst składający się z:\n",
    "- trzech gwiazdek: `'***'`\n",
    "- ostatnich pięciu znaków adresu email\n",
    "\n",
    "Przykład:\n",
    "```python\n",
    "anonymize('j.kowalski@gmail.com')\n",
    "```\n",
    "\n",
    "```\n",
    "j.k***l.com\n",
    "```\n",
    "\n",
    "```python\n",
    "anonymize('jko@o2.pl')\n",
    "```\n",
    "\n",
    "```\n",
    "***o2.pl\n",
    "```"
   ]
  },
  {
   "cell_type": "code",
   "execution_count": 7,
   "metadata": {},
   "outputs": [],
   "source": [
    "def anonymize(email):\n",
    "    if len(email) >= 10:\n",
    "        return email[:3] + \"***\" + email [-5:]\n",
    "    else:\n",
    "        return \"***\" + email[-5:]"
   ]
  },
  {
   "cell_type": "code",
   "execution_count": 8,
   "metadata": {},
   "outputs": [
    {
     "name": "stdout",
     "output_type": "stream",
     "text": [
      "Zaliczone!\n",
      "Zaliczone!\n",
      "Zaliczone!\n",
      "Zaliczone!\n"
     ]
    }
   ],
   "source": [
    "if anonymize('jan.kowalski@microsoft.com') == 'jan***t.com':\n",
    "    print('Zaliczone!')\n",
    "else:\n",
    "    print('Oczekiwano, że dla argumentu \"jan.kowalski@microsoft.com\" funkcja zwróci jan***t.com')\n",
    "    print('Twoja funkcja zwróciła:', anonymize('jan.kowalski@microsoft.com'))\n",
    "\n",
    "if anonymize('jk@xd.pl') == '***xd.pl':\n",
    "    print('Zaliczone!')\n",
    "else:\n",
    "    print('Oczekiwano, że dla argumentu \"jk@xd.pl\" funkcja zwróci ***xd.pl')\n",
    "    print('Twoja funkcja zwróciła:', anonymize('jk@xd.pl'))\n",
    "\n",
    "if anonymize('abcd@xd.pl') == 'abc***xd.pl':\n",
    "    print('Zaliczone!')\n",
    "else:\n",
    "    print('Oczekiwano, że dla argumentu \"abcd@xd.pl\" funkcja zwróci abc***xd.pl')\n",
    "    print('Twoja funkcja zwróciła:', anonymize('abcd@xd.pl'))\n",
    "\n",
    "if anonymize('abc@xd.pl') == '***xd.pl':\n",
    "    print('Zaliczone!')\n",
    "else:\n",
    "    print('Oczekiwano, że dla argumentu \"abc@xd.pl\" funkcja zwróci ***xd.pl')\n",
    "    print('Twoja funkcja zwróciła:', anonymize('abc@xd.pl'))"
   ]
  }
 ],
 "metadata": {
  "kernelspec": {
   "display_name": "Python 3 (ipykernel)",
   "language": "python",
   "name": "python3"
  },
  "language_info": {
   "codemirror_mode": {
    "name": "ipython",
    "version": 3
   },
   "file_extension": ".py",
   "mimetype": "text/x-python",
   "name": "python",
   "nbconvert_exporter": "python",
   "pygments_lexer": "ipython3",
   "version": "3.9.13"
  }
 },
 "nbformat": 4,
 "nbformat_minor": 4
}
