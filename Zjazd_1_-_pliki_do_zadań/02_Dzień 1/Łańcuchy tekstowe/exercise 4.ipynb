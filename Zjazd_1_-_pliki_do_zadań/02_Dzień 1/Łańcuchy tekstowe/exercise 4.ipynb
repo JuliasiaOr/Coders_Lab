{
 "cells": [
  {
   "cell_type": "markdown",
   "metadata": {},
   "source": [
    "# Zadanie 4\n",
    "\n",
    "Napisz funkcję `reverse_str(text)`, która jako argument przyjmie string, a zwróci string będący argumentem napisanym od końca do początku.\n",
    "\n",
    "Przykład:\n",
    "```python\n",
    "reverse_str('Test')\n",
    "```\n",
    "\n",
    "```\n",
    "tseT\n",
    "```"
   ]
  },
  {
   "cell_type": "code",
   "execution_count": 5,
   "metadata": {},
   "outputs": [],
   "source": [
    "def reverse_str(text):\n",
    "    return text[::-1]\n",
    "    "
   ]
  },
  {
   "cell_type": "code",
   "execution_count": 6,
   "metadata": {},
   "outputs": [
    {
     "name": "stdout",
     "output_type": "stream",
     "text": [
      "Zaliczone!\n",
      "Zaliczone!\n"
     ]
    }
   ],
   "source": [
    "if reverse_str('ABCDefg') == 'gfeDCBA':\n",
    "    print('Zaliczone!')\n",
    "else:\n",
    "    print('Oczekiwano, że dla argumentu \"ABCDefg\" funkcja zwróci gfeDCBA')\n",
    "    print('Twoja funkcja zwróciła:', reverse_str('ABCDefg'))\n",
    "\n",
    "if reverse_str('12345') == '54321':\n",
    "    print('Zaliczone!')\n",
    "else:\n",
    "    print('Oczekiwano, że dla argumentu \"12345\" funkcja zwróci 54321')\n",
    "    print('Twoja funkcja zwróciła:', reverse_str('12345'))"
   ]
  }
 ],
 "metadata": {
  "kernelspec": {
   "display_name": "Python 3 (ipykernel)",
   "language": "python",
   "name": "python3"
  },
  "language_info": {
   "codemirror_mode": {
    "name": "ipython",
    "version": 3
   },
   "file_extension": ".py",
   "mimetype": "text/x-python",
   "name": "python",
   "nbconvert_exporter": "python",
   "pygments_lexer": "ipython3",
   "version": "3.9.13"
  }
 },
 "nbformat": 4,
 "nbformat_minor": 4
}
