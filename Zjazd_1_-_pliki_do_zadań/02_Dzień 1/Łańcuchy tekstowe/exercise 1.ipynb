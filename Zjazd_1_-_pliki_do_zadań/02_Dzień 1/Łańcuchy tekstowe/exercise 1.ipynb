{
 "cells": [
  {
   "cell_type": "markdown",
   "metadata": {},
   "source": [
    "# Zadanie 1\n",
    "\n",
    "Napisz funkcję `create_email(first_name, last_name)`, która wygeneruje adres email w domenie `mojasuperfirma.com`. Nazwa użytkownika powinna być utworzona na podstawie argumentów: pierwsza litera imienia, kropka, nazwisko - wszystko pisane małymi literami.\n",
    "\n",
    "Przykład:\n",
    "```python\n",
    "print(create_email('Jan', 'Kowalski'))\n",
    "```\n",
    "\n",
    "Wynik:\n",
    "```\n",
    "j.kowalski@mojasuperfirma.com\n",
    "```\n",
    "**Zadanie rozwiąż za pomocą metody .format()**"
   ]
  },
  {
   "cell_type": "code",
   "execution_count": 7,
   "metadata": {},
   "outputs": [],
   "source": [
    "# Tu napisz funkcję \"create_email\"\n",
    "def create_email(first_name, last_name):\n",
    "    return(first_name[0].lower() + \".\" + last_name.lower() + \"@mojasuperfirma.com\")"
   ]
  },
  {
   "cell_type": "code",
   "execution_count": 8,
   "metadata": {},
   "outputs": [
    {
     "name": "stdout",
     "output_type": "stream",
     "text": [
      "Zaliczone!\n",
      "Zaliczone!\n"
     ]
    }
   ],
   "source": [
    "if create_email('Jan', 'Kowalski') == 'j.kowalski@mojasuperfirma.com':\n",
    "    print('Zaliczone!')\n",
    "else:\n",
    "    print('Oczekiwano, że dla argumentów \"Jan\" i \"Kowalski\" funkcja zwróci j.kowalski@mojasuperfirma.com')\n",
    "    print('Twoja funkcja zwróciła:', create_email('Jan', 'Kowalski'))\n",
    "\n",
    "if create_email('Anna', 'Nowak') == 'a.nowak@mojasuperfirma.com':\n",
    "    print('Zaliczone!')\n",
    "else:\n",
    "    print('Oczekiwano, że dla argumentów \"Anna\" i \"Nowak\" funkcja zwróci a.nowak@mojasuperfirma.com')\n",
    "    print('Twoja funkcja zwróciła:', create_email('Anna', 'Nowak'))"
   ]
  },
  {
   "cell_type": "code",
   "execution_count": null,
   "metadata": {},
   "outputs": [],
   "source": []
  }
 ],
 "metadata": {
  "kernelspec": {
   "display_name": "Python 3 (ipykernel)",
   "language": "python",
   "name": "python3"
  },
  "language_info": {
   "codemirror_mode": {
    "name": "ipython",
    "version": 3
   },
   "file_extension": ".py",
   "mimetype": "text/x-python",
   "name": "python",
   "nbconvert_exporter": "python",
   "pygments_lexer": "ipython3",
   "version": "3.9.13"
  }
 },
 "nbformat": 4,
 "nbformat_minor": 4
}
