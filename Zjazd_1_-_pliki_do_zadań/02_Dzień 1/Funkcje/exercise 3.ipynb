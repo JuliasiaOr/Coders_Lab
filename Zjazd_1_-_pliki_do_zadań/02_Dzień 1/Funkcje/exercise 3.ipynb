{
 "cells": [
  {
   "cell_type": "markdown",
   "metadata": {},
   "source": [
    "# Zadanie 3\n",
    "\n",
    "Napisz funkcję `usd_to_pln(usd)`, która przyjmie jeden argument: kwotę w dolarach (typu `int` lub `float`) oraz zwróci kwotę w złotówkach.\n",
    "\n",
    "Użyj przelicznika `$1 = 3.75zł`."
   ]
  },
  {
   "cell_type": "code",
   "execution_count": null,
   "metadata": {},
   "outputs": [],
   "source": [
    "# Tutaj napisz funkcję \"usd_to_pln\""
   ]
  },
  {
   "cell_type": "code",
   "execution_count": 1,
   "metadata": {},
   "outputs": [],
   "source": [
    "def usd_to_pln (usd):\n",
    "    return usd * 3.75"
   ]
  },
  {
   "cell_type": "code",
   "execution_count": 2,
   "metadata": {},
   "outputs": [
    {
     "name": "stdout",
     "output_type": "stream",
     "text": [
      "$100 = 375.0 zł (oczekiwany wynik to 375.0 zł)\n",
      "$1.55 = 5.8125 zł (oczekiwany wynik to 5.8125 zł)\n",
      "$4 - 2zł = 13.0 zł (oczekiwany wynik to 13 zł)\n"
     ]
    }
   ],
   "source": [
    "print('$100 =', usd_to_pln(100), 'zł (oczekiwany wynik to 375.0 zł)')\n",
    "print('$1.55 =', usd_to_pln(1.55), 'zł (oczekiwany wynik to 5.8125 zł)')\n",
    "print('$4 - 2zł =', usd_to_pln(4) - 2, 'zł (oczekiwany wynik to 13 zł)')"
   ]
  },
  {
   "cell_type": "code",
   "execution_count": null,
   "metadata": {},
   "outputs": [],
   "source": []
  }
 ],
 "metadata": {
  "kernelspec": {
   "display_name": "Python 3 (ipykernel)",
   "language": "python",
   "name": "python3"
  },
  "language_info": {
   "codemirror_mode": {
    "name": "ipython",
    "version": 3
   },
   "file_extension": ".py",
   "mimetype": "text/x-python",
   "name": "python",
   "nbconvert_exporter": "python",
   "pygments_lexer": "ipython3",
   "version": "3.9.13"
  }
 },
 "nbformat": 4,
 "nbformat_minor": 4
}
