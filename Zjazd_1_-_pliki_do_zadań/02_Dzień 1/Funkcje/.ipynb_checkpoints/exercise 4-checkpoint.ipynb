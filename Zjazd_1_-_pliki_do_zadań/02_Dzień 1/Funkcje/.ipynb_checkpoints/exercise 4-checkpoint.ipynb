{
 "cells": [
  {
   "cell_type": "markdown",
   "metadata": {},
   "source": [
    "# Zadanie 4\n",
    "\n",
    "Napisz funkcję `is_even(number)`, która przyjmie liczbę i zwróci `True`, jeśli liczba jest parzysta, `False` w przeciwnym wypadku.\n",
    "\n",
    "Napisz funkcję `is_odd(number)`, która przyjmie liczbę i zwróci `True`, jeśli liczba jest nieparzysta, `False` w przeciwnym wypadku. Możesz obliczyć wynik (analogicznie do funkcji `is_even`), lub użyć funkcji `is_even` w kodzie funkcji `is_odd`.\n",
    "\n",
    "### Podpowiedź:\n",
    "\n",
    "Python ma operator zwracacający resztę z dzielenia, a liczba jest parzysta, gdy reszta z dzielenia przez 2 to 0.\n"
   ]
  },
  {
   "cell_type": "code",
   "execution_count": null,
   "metadata": {},
   "outputs": [],
   "source": [
    "# Tutaj napisz funkcje \"is_even\" oraz \"is_odd\""
   ]
  },
  {
   "cell_type": "code",
   "execution_count": 23,
   "metadata": {},
   "outputs": [
    {
     "data": {
      "text/plain": [
       "True"
      ]
     },
     "execution_count": 23,
     "metadata": {},
     "output_type": "execute_result"
    }
   ],
   "source": [
    "def is_even(number):\n",
    "    return number % 2 == 0\n",
    "is_even(4)\n"
   ]
  },
  {
   "cell_type": "code",
   "execution_count": 25,
   "metadata": {},
   "outputs": [
    {
     "data": {
      "text/plain": [
       "True"
      ]
     },
     "execution_count": 25,
     "metadata": {},
     "output_type": "execute_result"
    }
   ],
   "source": [
    "def is_odd(number):\n",
    "    return number % 2 == 1\n",
    "is_odd(9)"
   ]
  },
  {
   "cell_type": "code",
   "execution_count": 1,
   "metadata": {},
   "outputs": [
    {
     "data": {
      "text/plain": [
       "True"
      ]
     },
     "execution_count": 1,
     "metadata": {},
     "output_type": "execute_result"
    }
   ],
   "source": [
    "def is_odd(number):\n",
    "    return number % 2 == 1\n",
    "is_odd(7)"
   ]
  },
  {
   "cell_type": "code",
   "execution_count": 26,
   "metadata": {},
   "outputs": [
    {
     "name": "stdout",
     "output_type": "stream",
     "text": [
      "Liczba 4 jest parzysta\n",
      "Liczba 7 jest nieparzysta\n",
      "Liczba 9 jest nieparzysta\n",
      "Liczba 12 jest parzysta\n"
     ]
    }
   ],
   "source": [
    "if is_even(4):\n",
    "    print('Liczba 4 jest parzysta')\n",
    "else:\n",
    "    print('Liczba 4 jest... nieparzysta? Na pewno?')\n",
    "\n",
    "if is_even(7):\n",
    "    print('Liczba 7 jest... parzysta? Na pewno?')\n",
    "else:\n",
    "    print('Liczba 7 jest nieparzysta')\n",
    "\n",
    "if is_odd(9):\n",
    "    print('Liczba 9 jest nieparzysta')\n",
    "else:\n",
    "    print('Liczba 9 jest... parzysta? Na pewno?')\n",
    "\n",
    "if is_odd(12):\n",
    "    print('Liczba 12 jest... nieparzysta? Na pewno?')\n",
    "else:\n",
    "    print('Liczba 12 jest parzysta')"
   ]
  },
  {
   "cell_type": "code",
   "execution_count": null,
   "metadata": {},
   "outputs": [],
   "source": []
  }
 ],
 "metadata": {
  "kernelspec": {
   "display_name": "Python 3 (ipykernel)",
   "language": "python",
   "name": "python3"
  },
  "language_info": {
   "codemirror_mode": {
    "name": "ipython",
    "version": 3
   },
   "file_extension": ".py",
   "mimetype": "text/x-python",
   "name": "python",
   "nbconvert_exporter": "python",
   "pygments_lexer": "ipython3",
   "version": "3.9.13"
  }
 },
 "nbformat": 4,
 "nbformat_minor": 4
}
