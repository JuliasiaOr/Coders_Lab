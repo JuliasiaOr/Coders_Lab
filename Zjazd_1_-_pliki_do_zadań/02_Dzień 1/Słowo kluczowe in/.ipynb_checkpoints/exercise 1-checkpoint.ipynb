{
 "cells": [
  {
   "cell_type": "code",
   "execution_count": null,
   "metadata": {},
   "outputs": [],
   "source": [
    "# Zadanie 1\n",
    "\n",
    "Napisz funkcję `wordfinder(list_of_words, word)`, która jako argumenty przyjmie listę stringów, oraz jeden string do znalezienia na tej liście.\n",
    "\n",
    "Jeśli string `word` znajduje się na liście `list_of_words`, dopisz na końcu tej listy `\"Found\"`.\n",
    "\n",
    "Przykład:\n",
    "\n",
    "```python\n",
    "words = ['Twinkle', 'twinkle', 'little', 'star']\n",
    "print('words BEFORE:', words)\n",
    "wordfinder(words, 'twinkle')\n",
    "print('words AFTER:', words)\n",
    "```\n",
    "\n",
    "```\n",
    "words BEFORE: ['Twinkle', 'twinkle', 'little', 'star']\n",
    "words AFTER: ['Twinkle', 'twinkle', 'little', 'star', 'Found']\n",
    "```"
   ]
  },
  {
   "cell_type": "code",
   "execution_count": 1,
   "metadata": {
    "scrolled": true
   },
   "outputs": [],
   "source": [
    "```\n",
    "def wordfinder(list_of_words, word):\n",
    "    if word in list_of_words:\n",
    "        list_of_words.append(\"Found\")\n",
    "    return(list_of_words)\n",
    "```"
   ]
  },
  {
   "cell_type": "code",
   "execution_count": 2,
   "metadata": {},
   "outputs": [
    {
     "name": "stdout",
     "output_type": "stream",
     "text": [
      "Zaliczone!\n",
      "Zaliczone!\n"
     ]
    }
   ],
   "source": [
    "test_words = ['A', 'to', 'kawa', 'kota']\n",
    "wordfinder(test_words, 'kawa')\n",
    "if test_words == ['A', 'to', 'kawa', 'kota', 'Found']:\n",
    "    print('Zaliczone!')\n",
    "else:\n",
    "    print('Funkcja nie dopisała \"Found\" na końcu listy!')\n",
    "\n",
    "test_words = ['Może', 'jutro', 'ta', 'dama', 'sama', 'da', 'tortu', 'jeżom']\n",
    "wordfinder(test_words, 'kawa')\n",
    "if test_words == ['Może', 'jutro', 'ta', 'dama', 'sama', 'da', 'tortu', 'jeżom']:\n",
    "    print('Zaliczone!')\n",
    "else:\n",
    "    print('Funkcja niepotrzebnie zmodyfikowała listę!')"
   ]
  },
  {
   "cell_type": "code",
   "execution_count": null,
   "metadata": {},
   "outputs": [],
   "source": []
  }
 ],
 "metadata": {
  "kernelspec": {
   "display_name": "Python 3 (ipykernel)",
   "language": "python",
   "name": "python3"
  },
  "language_info": {
   "codemirror_mode": {
    "name": "ipython",
    "version": 3
   },
   "file_extension": ".py",
   "mimetype": "text/x-python",
   "name": "python",
   "nbconvert_exporter": "python",
   "pygments_lexer": "ipython3",
   "version": "3.9.13"
  }
 },
 "nbformat": 4,
 "nbformat_minor": 4
}
