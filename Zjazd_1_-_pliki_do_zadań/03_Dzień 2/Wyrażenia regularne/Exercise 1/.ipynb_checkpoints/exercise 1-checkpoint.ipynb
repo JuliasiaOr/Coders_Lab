{
 "cells": [
  {
   "cell_type": "markdown",
   "metadata": {},
   "source": [
    "# Zadanie 1\n",
    "\n",
    "Napisz funkcję `find_emails_in_file(filename)`, która przyjmie jeden argument: nazwę pliku do przeszukania.\n",
    "\n",
    "Funkcja powinna zwrócić listę stringów - adresów email znalezionych we wskazanym pliku.\n",
    "\n",
    "Regex opisujący poprawny adres email jest wbrew pozorom bardzo trudny: możesz go znaleźć [tutaj](https://stackoverflow.com/questions/201323/how-to-validate-an-email-address-using-a-regular-expression/201378#201378)"
   ]
  },
  {
   "cell_type": "code",
   "execution_count": 3,
   "metadata": {},
   "outputs": [],
   "source": [
    "def find_emails_in_file(filename):\n",
    "    import re\n",
    "    with open(filename, encoding = \"utf-8\") as text_file:\n",
    "        file_text = text_file.read()\n",
    "        regex = r \n",
    "        found = re.findall(regex, file_text)\n",
    "    return found"
   ]
  },
  {
   "cell_type": "code",
   "execution_count": 4,
   "metadata": {},
   "outputs": [
    {
     "name": "stdout",
     "output_type": "stream",
     "text": [
      "Funkcja find_emails_in_file znalazła 40 adresów email (oczekiwano 40)\n",
      "Pierwszy znaleziony adres to kszpyra@gmail.com - zgodnie z oczekiwaniami\n",
      "Ostatni znaleziony adres to n.strzelczak@wp.pl - zgodnie z oczekiwaniami\n"
     ]
    }
   ],
   "source": [
    "print(\n",
    "    'Funkcja find_emails_in_file znalazła',\n",
    "    len(find_emails_in_file('data.txt')),\n",
    "    'adresów email (oczekiwano 40)'\n",
    ")\n",
    "\n",
    "if find_emails_in_file('data.txt')[0] == 'kszpyra@gmail.com':\n",
    "    print('Pierwszy znaleziony adres to kszpyra@gmail.com - zgodnie z oczekiwaniami')\n",
    "else:\n",
    "    print(\n",
    "        f'Pierwszy adres zwrócony przez funkcję to '\n",
    "        f'{find_emails_in_file(\"data.txt\")[0]!r} - oczekiwano kszpyra@gmail.com'\n",
    "    )\n",
    "\n",
    "if find_emails_in_file('data.txt')[-1] == 'n.strzelczak@wp.pl':\n",
    "    print('Ostatni znaleziony adres to n.strzelczak@wp.pl - zgodnie z oczekiwaniami')\n",
    "else:\n",
    "    print(\n",
    "        f'Ostatni adres zwrócony przez funkcję to '\n",
    "        f'{find_emails_in_file(\"data.txt\")[-1]!r} - oczekiwano n.strzelczak@wp.pl'\n",
    "    )"
   ]
  },
  {
   "cell_type": "code",
   "execution_count": null,
   "metadata": {},
   "outputs": [],
   "source": [
    "import re\n",
    "def find_emails_in_file(filename):\n",
    "    results = []\n",
    "    with open(filename, encoding = 'utf-8') as file_1:\n",
    "        regex = r'[a-zA-Z0-9._%-]+@[a-zA-Z0-9.-]+\\.[a-zA-Z]{2,6}'\n",
    "        file_contents = file_1.read()\n",
    "        found = re.findall(regex, file_contents)\n",
    "        results.extend(found)\n",
    "        return results "
   ]
  }
 ],
 "metadata": {
  "kernelspec": {
   "display_name": "Python 3 (ipykernel)",
   "language": "python",
   "name": "python3"
  },
  "language_info": {
   "codemirror_mode": {
    "name": "ipython",
    "version": 3
   },
   "file_extension": ".py",
   "mimetype": "text/x-python",
   "name": "python",
   "nbconvert_exporter": "python",
   "pygments_lexer": "ipython3",
   "version": "3.9.13"
  }
 },
 "nbformat": 4,
 "nbformat_minor": 4
}
