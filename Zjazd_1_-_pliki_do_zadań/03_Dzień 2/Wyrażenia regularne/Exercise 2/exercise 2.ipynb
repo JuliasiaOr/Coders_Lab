{
 "cells": [
  {
   "cell_type": "markdown",
   "metadata": {},
   "source": [
    "# Zadanie 2\n",
    "\n",
    "Napisz funkcję `strip_non_letters(text)`, która jako argument przyjmie tekst, oraz zwróci go pozostawiając tylko małe i duże litery, bez akcentów i znaków diakrytycznych.\n"
   ]
  },
  {
   "cell_type": "code",
   "execution_count": 1,
   "metadata": {},
   "outputs": [],
   "source": [
    "# Tu napisz funkcję \"strip_non_letters\"\n",
    "def strip_non_letters(text):\n",
    "    import re\n",
    "    regex = r'[^a-zA-Z\\s]'\n",
    "    found = re.sub(regex, '', text)\n",
    "    return found\n"
   ]
  },
  {
   "cell_type": "code",
   "execution_count": 2,
   "metadata": {},
   "outputs": [
    {
     "name": "stdout",
     "output_type": "stream",
     "text": [
      "Funkcja poprawnie pozbywa się polskich znaków\n"
     ]
    }
   ],
   "source": [
    "if strip_non_letters('Zażółć gęślą jaźń') == 'Za gl ja':\n",
    "    print('Funkcja poprawnie pozbywa się polskich znaków')\n",
    "else:\n",
    "    print('Dla frazy \"Zażółć gęślą jaźń\" oczekiwano wyniku \"Za gl ja\",')\n",
    "    print('ale funkcja zwróciła', repr(strip_non_letters('Zażółć gęślą jaźń')))"
   ]
  }
 ],
 "metadata": {
  "kernelspec": {
   "display_name": "Python 3 (ipykernel)",
   "language": "python",
   "name": "python3"
  },
  "language_info": {
   "codemirror_mode": {
    "name": "ipython",
    "version": 3
   },
   "file_extension": ".py",
   "mimetype": "text/x-python",
   "name": "python",
   "nbconvert_exporter": "python",
   "pygments_lexer": "ipython3",
   "version": "3.9.13"
  }
 },
 "nbformat": 4,
 "nbformat_minor": 4
}
