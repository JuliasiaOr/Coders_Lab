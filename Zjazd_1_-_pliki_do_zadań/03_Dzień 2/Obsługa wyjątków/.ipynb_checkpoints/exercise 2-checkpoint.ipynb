{
 "cells": [
  {
   "cell_type": "markdown",
   "metadata": {},
   "source": [
    "# Zadanie 2\n",
    "\n",
    "Napisz funkcję `check_zip_code(code)`, która sprawdzi poprawność kodu pocztowego.\n",
    "\n",
    "Poprawny kod to: `\"CC-CCC\"`, gdzie C to cyfra.\n",
    "\n",
    "Jeśli podany kod nie ma dokładnie sześciu znaków, rzuć wyjątek `ValueError` z komentarzem `\"Niepoprawna długość\"`.\n",
    "\n",
    "Jeśli podany kod nie ma znaku `-` na trzecim miejscu, rzuć wyjątek `ValueError` z komentarzem `\"Brak minusa\"`.\n",
    "\n",
    "Jeśli pozostałe znaki nie są cyframi, rzuć wyjątek `ValueError` z komentarzem `\"Niedozwolony znak\"`.\n",
    "\n",
    "Podpowiedź: aby sprawdzić, czy dany string składa się tylko z cyfr, użyj metody `.isdigit()`.\n"
   ]
  },
  {
   "cell_type": "code",
   "execution_count": 1,
   "metadata": {},
   "outputs": [],
   "source": [
    "# Tutaj napisz funkcję \"check_zip_code\"\n",
    "def check_zip_code(code):\n",
    "    if len(code) != 6:\n",
    "        raise ValueError(\"Niepoprawna długość\")\n",
    "    elif code[2] != '-':\n",
    "        raise ValueError(\"Brak minusa\")\n",
    "    elif code [0:2].isdigit() == False or code[3:6].isdigit() == False:\n",
    "        raise ValueError(\"Niedozwolony znak\")\n",
    "    else:\n",
    "        return True"
   ]
  },
  {
   "cell_type": "code",
   "execution_count": 2,
   "metadata": {},
   "outputs": [
    {
     "name": "stdout",
     "output_type": "stream",
     "text": [
      "Zaliczone!\n",
      "Zaliczone!\n",
      "Zaliczone!\n",
      "Zaliczone!\n"
     ]
    }
   ],
   "source": [
    "try:\n",
    "    if check_zip_code:\n",
    "        pass\n",
    "except:\n",
    "    print('Nie znaleziono funkcji check_zip_code, wyniki testów poniżej mogą być fałszywe!')\n",
    "\n",
    "try:\n",
    "    check_zip_code('12-345')\n",
    "except Exception as e:\n",
    "    print('Dla kodu 12-345 funkcja niespodziewanie rzuciła wyjątek', e)\n",
    "\n",
    "try:\n",
    "    check_zip_code('12-34')\n",
    "except ValueError as e:\n",
    "    if str(e) == 'Niepoprawna długość':\n",
    "        print('Zaliczone!')\n",
    "    else:\n",
    "        print('Niepoprawny komunikat: funkcja rzuciła wyjątek ValueError z komentarzem:', str(e))\n",
    "        print('zamiast oczekiwanego \"Niepoprawna długość\"')\n",
    "except Exception as e:\n",
    "    print('Funkcja rzuciła niepoprawny wyjątek:', e.__class__.__name__, 'zamiast ValueError')\n",
    "else:\n",
    "    print('Funkcja nie rzuciła wyjątku!')\n",
    "\n",
    "try:\n",
    "    check_zip_code('12-3456')\n",
    "except ValueError as e:\n",
    "    if str(e) == 'Niepoprawna długość':\n",
    "        print('Zaliczone!')\n",
    "    else:\n",
    "        print('Niepoprawny komunikat: funkcja rzuciła wyjątek ValueError z komentarzem:', str(e))\n",
    "        print('zamiast oczekiwanego \"Niepoprawna długość\"')\n",
    "except Exception as e:\n",
    "    print('Funkcja rzuciła niepoprawny wyjątek:', e.__class__.__name__, 'zamiast ValueError')\n",
    "else:\n",
    "    print('Funkcja nie rzuciła wyjątku!')\n",
    "\n",
    "try:\n",
    "    check_zip_code('12@345')\n",
    "except ValueError as e:\n",
    "    if str(e) == 'Brak minusa':\n",
    "        print('Zaliczone!')\n",
    "    else:\n",
    "        print('Niepoprawny komunikat: funkcja rzuciła wyjątek ValueError z komentarzem:', str(e))\n",
    "        print('zamiast oczekiwanego \"Brak minusa\"')\n",
    "except Exception as e:\n",
    "    print('Funkcja rzuciła niepoprawny wyjątek:', e.__class__.__name__, 'zamiast ValueError')\n",
    "else:\n",
    "    print('Funkcja nie rzuciła wyjątku!')\n",
    "\n",
    "try:\n",
    "    check_zip_code('12-34X')\n",
    "except ValueError as e:\n",
    "    if str(e) == 'Niedozwolony znak':\n",
    "        print('Zaliczone!')\n",
    "    else:\n",
    "        print('Niepoprawny komunikat: funkcja rzuciła wyjątek ValueError z komentarzem:', str(e))\n",
    "        print('zamiast oczekiwanego \"Niedozwolony znak\"')\n",
    "except Exception as e:\n",
    "    print('Funkcja rzuciła niepoprawny wyjątek:', e.__class__.__name__, 'zamiast ValueError')\n",
    "else:\n",
    "    print('Funkcja nie rzuciła wyjątku!')"
   ]
  },
  {
   "cell_type": "code",
   "execution_count": null,
   "metadata": {},
   "outputs": [],
   "source": [
    "def check_zip_code(code):\n",
    "    if len(code) != 6:\n",
    "        raise ValueError(\"Niepoprawna długość\")\n",
    "    if code[2] != \"-\":\n",
    "        raise ValueError(\"Brak minusa\")\n",
    "    if not code[0:2].isdigit() or not code[3:6].isdigit():\n",
    "        raise ValueError(\"Niedozwolony znak\")"
   ]
  },
  {
   "cell_type": "code",
   "execution_count": null,
   "metadata": {},
   "outputs": [],
   "source": [
    "def check_zip_code(code):\n",
    "    if len(code) != 6:\n",
    "        raise ValueError(\"Niepoprawna długość\")\n",
    "    elif code[2] != '-':\n",
    "        raise ValueError(\"Brak minusa\")\n",
    "    elif not(code[0:2].isdigit() and code[3:6].isdigit()):\n",
    "        raise ValueError(\"Niedozwolony znak\")"
   ]
  },
  {
   "cell_type": "code",
   "execution_count": null,
   "metadata": {},
   "outputs": [],
   "source": [
    "def check_zip_code(code):\n",
    "    if len(code) != 6:\n",
    "        raise ValueError(\"Niepoprawna długość\")\n",
    "    elif code[2] != \"-\":\n",
    "        raise ValueError(\"Brak minusa\")\n",
    "    elif not (code[0:2]+code[3:6]).isdigit():\n",
    "        raise ValueError(\"Niedozwolony znak\")"
   ]
  }
 ],
 "metadata": {
  "kernelspec": {
   "display_name": "Python 3 (ipykernel)",
   "language": "python",
   "name": "python3"
  },
  "language_info": {
   "codemirror_mode": {
    "name": "ipython",
    "version": 3
   },
   "file_extension": ".py",
   "mimetype": "text/x-python",
   "name": "python",
   "nbconvert_exporter": "python",
   "pygments_lexer": "ipython3",
   "version": "3.9.13"
  }
 },
 "nbformat": 4,
 "nbformat_minor": 4
}
