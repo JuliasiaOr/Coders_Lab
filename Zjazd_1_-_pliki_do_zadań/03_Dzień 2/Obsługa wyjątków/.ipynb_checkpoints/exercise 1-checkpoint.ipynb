{
 "cells": [
  {
   "cell_type": "markdown",
   "metadata": {},
   "source": [
    "# Zadanie 1\n",
    "\n",
    "W pliku `exercise_1.py` znajdziesz funkcję `proverb()`, która miała znać przysłowie na każdą sekundę. Niestety, zna ich tylko siedem, więc przez większość czasu rzuca wyjątek `KeyError`.\n",
    "\n",
    "Napisz funkcję `proverb_safe()`, która **użyje** funkcji `proverb()` do pobrania przysłowia na daną sekundę; gdy się nie uda - powinna **złapać wyjątek** i zamiast niego **zwrócić** string `\"Brak przysłowia\"`.\n"
   ]
  },
  {
   "cell_type": "code",
   "execution_count": 1,
   "metadata": {},
   "outputs": [],
   "source": [
    "import datetime\n",
    "\n",
    "def proverb():\n",
    "    phrases = {\n",
    "        0 :'a co po czyjej wielkości, jak nie ma w głowie mądrości',\n",
    "        4:'Adam cóż by poradził, gdyby Bóg w raju Ewy nie posadził',\n",
    "        12:'Adam i Ewa pokazują, jaki styczeń i luty po nich następują',\n",
    "        13:'adwokat niech głowę, a koń niech ma nogi',\n",
    "        35:'Agnieszka łaskawa puszcza skowronka z rękawa',\n",
    "        44:'ani kura za darmo nie gdacze',\n",
    "        59:'apetyt rośnie w miarę jedzenia',\n",
    "    }\n",
    "    return phrases[datetime.datetime.now().second]"
   ]
  },
  {
   "cell_type": "code",
   "execution_count": 2,
   "metadata": {},
   "outputs": [],
   "source": [
    "# Tutaj napisz funkcję \"proverb_safe\"\n",
    "def proverb_safe():\n",
    "    try:\n",
    "        return proverb()\n",
    "    except KeyError:\n",
    "        return \"Brak przysłowia\""
   ]
  },
  {
   "cell_type": "code",
   "execution_count": 3,
   "metadata": {},
   "outputs": [
    {
     "name": "stdout",
     "output_type": "stream",
     "text": [
      "Zaliczone!\n",
      "Zaliczone!\n",
      "Zaliczone!\n"
     ]
    }
   ],
   "source": [
    "from unittest.mock import patch\n",
    "\n",
    "with patch('datetime.datetime') as dt:\n",
    "    dt.now().second = 40\n",
    "    if proverb_safe() == 'Brak przysłowia':\n",
    "        print('Zaliczone!')\n",
    "    else:\n",
    "        print('Oczekiwano, że dla 40. sekundy, funkcja proverb_safe zwróci: \"Brak przysłowia\"')\n",
    "        print('Funkcja zwróciła:', proverb_safe())\n",
    "\n",
    "with patch('datetime.datetime') as dt:\n",
    "    dt.now().second = 44\n",
    "    if proverb_safe() == 'ani kura za darmo nie gdacze':\n",
    "        print('Zaliczone!')\n",
    "    else:\n",
    "        print('Oczekiwano, że dla 44. sekundy, funkcja proverb_safe zwróci: \"ani kura za darmo nie gdacze\"')\n",
    "        print('Funkcja zwróciła:', proverb_safe())\n",
    "\n",
    "with patch('datetime.datetime') as dt:\n",
    "    dt.now().second = 50\n",
    "    if proverb_safe() == 'Brak przysłowia':\n",
    "        print('Zaliczone!')\n",
    "    else:\n",
    "        print('Oczekiwano, że dla 50. sekundy, funkcja proverb_safe zwróci: \"Brak przysłowia\"')\n",
    "        print('Funkcja zwróciła:', proverb_safe())"
   ]
  },
  {
   "cell_type": "code",
   "execution_count": null,
   "metadata": {},
   "outputs": [],
   "source": [
    "ef proverb_safe():\n",
    "    try:\n",
    "        return proverb()\n",
    "    except KeyError:\n",
    "        return(\"Brak przysłowia\")"
   ]
  }
 ],
 "metadata": {
  "kernelspec": {
   "display_name": "Python 3 (ipykernel)",
   "language": "python",
   "name": "python3"
  },
  "language_info": {
   "codemirror_mode": {
    "name": "ipython",
    "version": 3
   },
   "file_extension": ".py",
   "mimetype": "text/x-python",
   "name": "python",
   "nbconvert_exporter": "python",
   "pygments_lexer": "ipython3",
   "version": "3.9.13"
  }
 },
 "nbformat": 4,
 "nbformat_minor": 4
}
