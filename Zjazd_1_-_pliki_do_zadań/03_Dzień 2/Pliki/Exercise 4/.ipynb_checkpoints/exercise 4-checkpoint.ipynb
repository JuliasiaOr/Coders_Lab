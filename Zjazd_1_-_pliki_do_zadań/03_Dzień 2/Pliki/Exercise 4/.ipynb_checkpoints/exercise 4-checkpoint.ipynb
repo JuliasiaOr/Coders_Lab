{
 "cells": [
  {
   "cell_type": "markdown",
   "metadata": {},
   "source": [
    "# Zadanie 4\n",
    "\n",
    "Znajdź wszystkie pliki z rozszerzeniem **.txt** w folderze `data/`, w pętli otwórz każdy z nich, i wyświetl jego treść na ekranie.\n",
    "\n",
    "Zadanie będzie poprawnie wykonane, gdy na ekranie zobaczysz trzy polskie palindromy, oraz zero czeskich (bo te są w plikach **.py**, a nie **.txt**) i rosyjskich (te są w plikach **.html**).\n"
   ]
  },
  {
   "cell_type": "code",
   "execution_count": 3,
   "metadata": {},
   "outputs": [
    {
     "name": "stdout",
     "output_type": "stream",
     "text": [
      "Kamil ślimak\n",
      "\n",
      "Ada butelki, pikle tu bada\n",
      "\n",
      "A tu mamy mamuta\n",
      "\n"
     ]
    }
   ],
   "source": [
    "import glob\n",
    "lista_plikow  = glob.glob(\"data/*.txt\")\n",
    "for nazwa_pliku in lista_plikow:\n",
    "    plik = open(nazwa_pliku)\n",
    "    print(plik.read())\n",
    "    plik.close()"
   ]
  },
  {
   "cell_type": "code",
   "execution_count": 1,
   "metadata": {},
   "outputs": [
    {
     "name": "stdout",
     "output_type": "stream",
     "text": [
      "Kamil ślimak\n",
      "\n",
      "Ada butelki, pikle tu bada\n",
      "\n",
      "A tu mamy mamuta\n",
      "\n"
     ]
    }
   ],
   "source": [
    "import glob\n",
    "path = glob.glob('data/*.txt')\n",
    "\n",
    "for i in path:\n",
    "    with open(i) as plk:\n",
    "        print(plk.read())"
   ]
  }
 ],
 "metadata": {
  "kernelspec": {
   "display_name": "Python 3 (ipykernel)",
   "language": "python",
   "name": "python3"
  },
  "language_info": {
   "codemirror_mode": {
    "name": "ipython",
    "version": 3
   },
   "file_extension": ".py",
   "mimetype": "text/x-python",
   "name": "python",
   "nbconvert_exporter": "python",
   "pygments_lexer": "ipython3",
   "version": "3.9.13"
  }
 },
 "nbformat": 4,
 "nbformat_minor": 4
}
