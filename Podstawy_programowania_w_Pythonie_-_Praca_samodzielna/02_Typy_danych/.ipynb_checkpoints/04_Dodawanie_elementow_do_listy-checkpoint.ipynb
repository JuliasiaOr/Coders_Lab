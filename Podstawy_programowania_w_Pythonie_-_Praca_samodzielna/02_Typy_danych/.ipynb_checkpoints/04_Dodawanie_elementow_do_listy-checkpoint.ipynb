{
 "cells": [
  {
   "cell_type": "markdown",
   "metadata": {},
   "source": [
    "### Typy danych > Dodawanie elementów do listy\n",
    "\n",
    "Utwórz **pustą listę** o nazwie `animals`.\n",
    "\n",
    "Następnie dodaj do niej imiona co najmniej trzech bajkowych zwierząt, które znasz. Wyświetl listę po każdej operacji.\n",
    "\n",
    "Zauważ, do którego końca listy dodawane są nowe elementy.\n",
    "\n",
    "> Podpowiedź: Możesz wykorzystać metodę `append`.\n"
   ]
  },
  {
   "cell_type": "code",
   "execution_count": 34,
   "metadata": {},
   "outputs": [
    {
     "name": "stdout",
     "output_type": "stream",
     "text": [
      "Astro\n",
      "Balto\n",
      "Boss\n",
      "Tin\n",
      "Odie\n"
     ]
    }
   ],
   "source": [
    "animals = [\"Astro\", \"Balto\", \"Boss\", \"Tin\", \"Odie\"]\n",
    "print(animals[0])\n",
    "print(animals[1])\n",
    "print(animals[2])\n",
    "print(animals[3])\n",
    "print(animals[4])"
   ]
  },
  {
   "cell_type": "code",
   "execution_count": 35,
   "metadata": {},
   "outputs": [
    {
     "name": "stdout",
     "output_type": "stream",
     "text": [
      "['Astro', 'Balto', 'Boss', 'Tin', 'Odie', 'Ko']\n"
     ]
    }
   ],
   "source": [
    "animals = [\"Astro\", \"Balto\", \"Boss\", \"Tin\", \"Odie\"]\n",
    "animals.append(\"Ko\")\n",
    "print(animals)"
   ]
  },
  {
   "cell_type": "code",
   "execution_count": 36,
   "metadata": {},
   "outputs": [
    {
     "name": "stdout",
     "output_type": "stream",
     "text": [
      "['Astro', 'Balto', 'Boss', 'Tin', 'Odie', 'Saba', 'Lampo']\n"
     ]
    }
   ],
   "source": [
    "animals = [\"Astro\", \"Balto\", \"Boss\", \"Tin\", \"Odie\"]\n",
    "animals.extend([\"Saba\", \"Lampo\"])\n",
    "print(animals)"
   ]
  },
  {
   "cell_type": "code",
   "execution_count": null,
   "metadata": {},
   "outputs": [],
   "source": []
  }
 ],
 "metadata": {
  "kernelspec": {
   "display_name": "Python 3 (ipykernel)",
   "language": "python",
   "name": "python3"
  },
  "language_info": {
   "codemirror_mode": {
    "name": "ipython",
    "version": 3
   },
   "file_extension": ".py",
   "mimetype": "text/x-python",
   "name": "python",
   "nbconvert_exporter": "python",
   "pygments_lexer": "ipython3",
   "version": "3.9.13"
  }
 },
 "nbformat": 4,
 "nbformat_minor": 2
}
