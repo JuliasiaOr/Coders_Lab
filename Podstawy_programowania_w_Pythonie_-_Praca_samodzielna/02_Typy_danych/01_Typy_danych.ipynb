{
 "cells": [
  {
   "cell_type": "markdown",
   "metadata": {},
   "source": [
    "### Typy danych > Typy danych\n",
    "\n",
    "Utwórz 5 zmiennych i wstaw do nich następujące dane:\n",
    "\n",
    "* liczbę całkowitą,\n",
    "* liczbę zmiennoprzecinkową,\n",
    "* string (napis),\n",
    "* wielolinijkowy napis,\n",
    "* wartość logiczną.\n",
    "\n",
    "Skomentuj odpowiednio każdą zmienną, podając informację, jaki typ danych przechowuje.\n",
    "\n",
    "Każdą zmienną wyświetl za pomocą funkcji `print`, w postaci: \n",
    "\n",
    "`Zmienna <zmienna> typu <typ>`.\n",
    "\n",
    "> Podpowiedź: do pobrania typu służy funkcja `type()`."
   ]
  },
  {
   "cell_type": "code",
   "execution_count": 40,
   "metadata": {},
   "outputs": [
    {
     "name": "stdout",
     "output_type": "stream",
     "text": [
      "Zmienna income typu <class 'int'>\n"
     ]
    }
   ],
   "source": [
    "income=900\n",
    "print(\"Zmienna income typu\", type(income))"
   ]
  },
  {
   "cell_type": "code",
   "execution_count": 1,
   "metadata": {},
   "outputs": [
    {
     "name": "stdout",
     "output_type": "stream",
     "text": [
      "Zmienna text tupy <class 'str'>\n"
     ]
    }
   ],
   "source": [
    "text=\"first line\"\n",
    "print(\"Zmienna text tupy\", type(text))\n"
   ]
  },
  {
   "cell_type": "code",
   "execution_count": 2,
   "metadata": {},
   "outputs": [
    {
     "name": "stdout",
     "output_type": "stream",
     "text": [
      "Alice has a cat namedGarfield. <class 'str'>\n"
     ]
    }
   ],
   "source": [
    "cat =\"Garfield\"\n",
    "result=\"{} has a cat named{}.\".format (\"Alice\", cat)\n",
    "print(result, type(result))"
   ]
  },
  {
   "cell_type": "code",
   "execution_count": 4,
   "metadata": {},
   "outputs": [
    {
     "name": "stdout",
     "output_type": "stream",
     "text": [
      "Zmienna product_price typu <class 'float'>\n"
     ]
    }
   ],
   "source": [
    "product_price=99.9\n",
    "print(\"Zmienna product_price typu\", type(product_price))"
   ]
  },
  {
   "cell_type": "code",
   "execution_count": 2,
   "metadata": {},
   "outputs": [
    {
     "name": "stdout",
     "output_type": "stream",
     "text": [
      "Zmienna result tupy <class 'bool'>\n"
     ]
    }
   ],
   "source": [
    "result=\"Alice\"==\"Alice\"\n",
    "print(\"Zmienna result tupy\", type(result))"
   ]
  },
  {
   "cell_type": "code",
   "execution_count": null,
   "metadata": {},
   "outputs": [],
   "source": []
  }
 ],
 "metadata": {
  "kernelspec": {
   "display_name": "Python 3 (ipykernel)",
   "language": "python",
   "name": "python3"
  },
  "language_info": {
   "codemirror_mode": {
    "name": "ipython",
    "version": 3
   },
   "file_extension": ".py",
   "mimetype": "text/x-python",
   "name": "python",
   "nbconvert_exporter": "python",
   "pygments_lexer": "ipython3",
   "version": "3.9.13"
  }
 },
 "nbformat": 4,
 "nbformat_minor": 2
}
