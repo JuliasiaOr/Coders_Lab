{
 "cells": [
  {
   "cell_type": "markdown",
   "metadata": {},
   "source": [
    "### Typy danych > Pobieranie elementów z listy\n",
    "\n",
    "Dana jest lista:\n",
    "\n",
    "```\n",
    "words = ['is', 'wrong', 'dough', 'correspondence', 'Python', 'snake', 'tolerate', 'conflict', \n",
    "'chase', 'begin', 'fun','confidence', 'beat']\n",
    "```\n",
    "\n",
    "Wykonaj następujące polecenia:\n",
    "\n",
    "* wyświetl **piąty** element tablicy,\n",
    "* wyświetl **pierwszy** element tablicy,\n",
    "* wyświetl **trzeci** od końca element tablicy.\n",
    "\n",
    "> Podpowiedź: możesz użyć również odwrotnego indeksowania do pobierania elementów licząc od końca listy.\n"
   ]
  },
  {
   "cell_type": "code",
   "execution_count": 2,
   "metadata": {},
   "outputs": [
    {
     "name": "stdout",
     "output_type": "stream",
     "text": [
      "snake\n",
      "wrong\n",
      "fun\n"
     ]
    }
   ],
   "source": [
    "words = ['is', 'wrong', 'dough', 'correspondence', 'Python', 'snake', 'tolerate', 'conflict', \n",
    "'chase', 'begin', 'fun','confidence', 'beat']\n",
    "print(words[5])\n",
    "print(words[1])\n",
    "print(words[-3])"
   ]
  },
  {
   "cell_type": "code",
   "execution_count": null,
   "metadata": {},
   "outputs": [],
   "source": []
  }
 ],
 "metadata": {
  "kernelspec": {
   "display_name": "Python 3 (ipykernel)",
   "language": "python",
   "name": "python3"
  },
  "language_info": {
   "codemirror_mode": {
    "name": "ipython",
    "version": 3
   },
   "file_extension": ".py",
   "mimetype": "text/x-python",
   "name": "python",
   "nbconvert_exporter": "python",
   "pygments_lexer": "ipython3",
   "version": "3.9.13"
  }
 },
 "nbformat": 4,
 "nbformat_minor": 2
}
