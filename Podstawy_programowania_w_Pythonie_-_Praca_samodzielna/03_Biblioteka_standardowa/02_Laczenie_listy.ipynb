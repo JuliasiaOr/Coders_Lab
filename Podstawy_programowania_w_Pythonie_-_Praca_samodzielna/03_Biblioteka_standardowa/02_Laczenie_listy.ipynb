{
 "cells": [
  {
   "cell_type": "markdown",
   "metadata": {},
   "source": [
    "### Biblioteka standardowa > Łączenie listy\n",
    "\n",
    "1. Zdefiniuj tablicę składającą się z liter od `a` do `e`.\n",
    "1. Wypisz te litery połączone znakiem spacji.\n",
    "\n",
    "Wynikiem działania Twojego programu ma być ciąg: `\"a b c d e\"`.\n",
    "\n",
    "> Podpowiedź: skorzystaj z metody `join`.\n"
   ]
  },
  {
   "cell_type": "code",
   "execution_count": 8,
   "metadata": {},
   "outputs": [
    {
     "name": "stdout",
     "output_type": "stream",
     "text": [
      "a b c d e\n"
     ]
    }
   ],
   "source": [
    "str = \" \"\n",
    "words = (\"a\", \"b\", \"c\", \"d\", \"e\")\n",
    "print (str.join(words))"
   ]
  },
  {
   "cell_type": "code",
   "execution_count": null,
   "metadata": {},
   "outputs": [],
   "source": []
  }
 ],
 "metadata": {
  "kernelspec": {
   "display_name": "Python 3 (ipykernel)",
   "language": "python",
   "name": "python3"
  },
  "language_info": {
   "codemirror_mode": {
    "name": "ipython",
    "version": 3
   },
   "file_extension": ".py",
   "mimetype": "text/x-python",
   "name": "python",
   "nbconvert_exporter": "python",
   "pygments_lexer": "ipython3",
   "version": "3.9.13"
  }
 },
 "nbformat": 4,
 "nbformat_minor": 2
}
