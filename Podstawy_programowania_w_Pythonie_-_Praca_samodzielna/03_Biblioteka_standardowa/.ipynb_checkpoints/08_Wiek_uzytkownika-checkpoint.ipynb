{
 "cells": [
  {
   "cell_type": "markdown",
   "metadata": {},
   "source": [
    "### Biblioteka standardowa > Wiek użytkownika\n",
    "\n",
    "Napisz program, który:\n",
    "\n",
    "*    zapisze imię użytkownika do zmiennej `name`,\n",
    "*    zapisze rok urodzenia użytkownika do zmiennej `year`,\n",
    "*    zamieni rok urodzenia użytkownika na **liczbę**,\n",
    "*    obliczy aktualny wiek użytkownika i zapisze go do zmiennej `age`,\n",
    "*    wyświetli komunikat, w którym poda imię i aktualny wiek użytkownika w formacie: \n",
    "\n",
    "```\n",
    "Użytkownik: <name> jest w wieku <age> lat.\n",
    "```"
   ]
  },
  {
   "cell_type": "code",
   "execution_count": 1,
   "metadata": {},
   "outputs": [
    {
     "name": "stdout",
     "output_type": "stream",
     "text": [
      "podaj imię Julia\n",
      "podaj rok urodzienia 1993\n",
      "1993\n",
      "29\n",
      "Julia jest w wieku 29 lat.\n"
     ]
    }
   ],
   "source": [
    "name=input(\"podaj imię \")\n",
    "year=input(\"podaj rok urodzienia \")\n",
    "print(int(year))\n",
    "age=2022-1993\n",
    "print(age)\n",
    "result = \"{} jest w wieku {} lat.\".format(name,age)\n",
    "print(result)\n",
    "\n",
    "\n",
    "\n"
   ]
  },
  {
   "cell_type": "code",
   "execution_count": null,
   "metadata": {},
   "outputs": [],
   "source": []
  },
  {
   "cell_type": "code",
   "execution_count": null,
   "metadata": {},
   "outputs": [],
   "source": []
  }
 ],
 "metadata": {
  "kernelspec": {
   "display_name": "Python 3 (ipykernel)",
   "language": "python",
   "name": "python3"
  },
  "language_info": {
   "codemirror_mode": {
    "name": "ipython",
    "version": 3
   },
   "file_extension": ".py",
   "mimetype": "text/x-python",
   "name": "python",
   "nbconvert_exporter": "python",
   "pygments_lexer": "ipython3",
   "version": "3.9.13"
  }
 },
 "nbformat": 4,
 "nbformat_minor": 2
}
