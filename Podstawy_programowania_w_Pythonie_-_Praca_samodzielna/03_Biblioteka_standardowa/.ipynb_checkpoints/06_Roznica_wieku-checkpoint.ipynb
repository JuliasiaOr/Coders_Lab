{
 "cells": [
  {
   "cell_type": "markdown",
   "metadata": {},
   "source": [
    "### Biblioteka standardowa > Różnica wieku\n",
    "\n",
    "1.    Utwórz zmienną o nazwie `father` i nadaj jej wartość `1974`.\n",
    "1.    Utwórz drugą zmienną o nazwie `child` i nadaj jej wartość `2007`.\n",
    "1.    Wypisz komunikat w formacie: `\"Ojciec jest starszy od dziecka o <roznica> lat.\"`\n",
    "\n",
    "> Podpowiedź: najwygodniej jest użyć konstrukcji `fstring` lub metody `format`."
   ]
  },
  {
   "cell_type": "code",
   "execution_count": 6,
   "metadata": {},
   "outputs": [
    {
     "name": "stdout",
     "output_type": "stream",
     "text": [
      "Ojciec jest starszy od dziecka o 33.\n"
     ]
    }
   ],
   "source": [
    "father=1974\n",
    "child=2007\n",
    "roznica=child-father\n",
    "print(f\"Ojciec jest starszy od dziecka o {roznica}.\")"
   ]
  },
  {
   "cell_type": "code",
   "execution_count": null,
   "metadata": {},
   "outputs": [],
   "source": []
  }
 ],
 "metadata": {
  "kernelspec": {
   "display_name": "Python 3 (ipykernel)",
   "language": "python",
   "name": "python3"
  },
  "language_info": {
   "codemirror_mode": {
    "name": "ipython",
    "version": 3
   },
   "file_extension": ".py",
   "mimetype": "text/x-python",
   "name": "python",
   "nbconvert_exporter": "python",
   "pygments_lexer": "ipython3",
   "version": "3.9.13"
  }
 },
 "nbformat": 4,
 "nbformat_minor": 2
}
