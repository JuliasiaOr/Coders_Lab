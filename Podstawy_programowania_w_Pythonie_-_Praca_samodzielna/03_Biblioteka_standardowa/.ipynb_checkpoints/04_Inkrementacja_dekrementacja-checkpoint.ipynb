{
 "cells": [
  {
   "cell_type": "markdown",
   "metadata": {},
   "source": [
    "### Biblioteka standardowa > Inkrementacja i dekrementacja\n",
    "\n",
    "* Stwórz zmienną o nazwie `counter`.\n",
    "* Wstaw do niej liczbę 145.\n",
    "* Wypisz wartość zmiennej `counter`,\n",
    "* Za pomocą inkrementacji o 1 zwiększ wartość zmiennej `counter`,\n",
    "* Wypisz wartość zmiennej `counter`,\n",
    "* Za pomocą dekrementacji o 1 zmniejsz wartość zmiennej `counter`,\n",
    "* Wypisz wartość zmiennej `counter`,\n",
    "\n",
    "> Użyj zapisu skróconego"
   ]
  },
  {
   "cell_type": "code",
   "execution_count": 9,
   "metadata": {},
   "outputs": [
    {
     "name": "stdout",
     "output_type": "stream",
     "text": [
      "145\n",
      "146\n",
      "145\n"
     ]
    }
   ],
   "source": [
    "counter=145\n",
    "print(counter)\n",
    "\n",
    "counter +=1\n",
    "print(counter)\n",
    "\n",
    "counter -=1\n",
    "print(counter)\n"
   ]
  },
  {
   "cell_type": "code",
   "execution_count": null,
   "metadata": {},
   "outputs": [],
   "source": []
  }
 ],
 "metadata": {
  "kernelspec": {
   "display_name": "Python 3 (ipykernel)",
   "language": "python",
   "name": "python3"
  },
  "language_info": {
   "codemirror_mode": {
    "name": "ipython",
    "version": 3
   },
   "file_extension": ".py",
   "mimetype": "text/x-python",
   "name": "python",
   "nbconvert_exporter": "python",
   "pygments_lexer": "ipython3",
   "version": "3.9.13"
  }
 },
 "nbformat": 4,
 "nbformat_minor": 2
}
