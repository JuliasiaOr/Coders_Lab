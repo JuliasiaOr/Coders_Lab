{
 "cells": [
  {
   "cell_type": "markdown",
   "metadata": {},
   "source": [
    "### Biblioteka standardowa > Pobieranie danych od użytkownika\n",
    "\n",
    "Napisz program, który:\n",
    "\n",
    "1. przypisze do zmiennej imię użytkownika (pobierając je za pomocą odpowiedniej funkcji),\n",
    "1. przypisze do zmiennej nazwisko użytkownika (pobierając je za pomocą odpowiedniej funkcji),\n",
    "1. wyświetli komunikat w postaci `\"Imię Nazwisko jest programistą Pythona!\"`\n",
    "\n",
    "Przykład wywołania kodu:\n",
    "\n",
    "```\n",
    "Podaj imię: Guido\n",
    "Podaj nazwisko: van Rossum\n",
    "Guido van Rossum jest programistą Pythona!\n",
    "```"
   ]
  },
  {
   "cell_type": "code",
   "execution_count": 1,
   "metadata": {},
   "outputs": [
    {
     "name": "stdout",
     "output_type": "stream",
     "text": [
      "podaj imię:Julia\n",
      "podaj nazwisko:Or\n",
      "Julia Or jest programistą Pythona!\n"
     ]
    }
   ],
   "source": [
    "name = input(\"podaj imię:\")\n",
    "surname = input(\"podaj nazwisko:\")\n",
    "print(name, surname, \"jest programistą Pythona!\")\n",
    "\n",
    "\n"
   ]
  }
 ],
 "metadata": {
  "kernelspec": {
   "display_name": "Python 3 (ipykernel)",
   "language": "python",
   "name": "python3"
  },
  "language_info": {
   "codemirror_mode": {
    "name": "ipython",
    "version": 3
   },
   "file_extension": ".py",
   "mimetype": "text/x-python",
   "name": "python",
   "nbconvert_exporter": "python",
   "pygments_lexer": "ipython3",
   "version": "3.9.13"
  }
 },
 "nbformat": 4,
 "nbformat_minor": 2
}
