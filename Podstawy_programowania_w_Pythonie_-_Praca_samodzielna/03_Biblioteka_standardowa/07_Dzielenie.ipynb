{
 "cells": [
  {
   "cell_type": "markdown",
   "metadata": {},
   "source": [
    "### Biblioteka standardowa > Dzielenie\n",
    "\n",
    "* Podziel 11 przez 7 i zapisz wynik do zmiennej `result`,\n",
    "* Zaokrągl wynik do dwóch miejsc po przecinku\n",
    "* Wyświetl wynik w postaci:\n",
    "```\n",
    "11 : 7 = <result>\n",
    "```\n",
    "\n",
    "> Podpowiedź: użyj funkcji `round`"
   ]
  },
  {
   "cell_type": "code",
   "execution_count": 5,
   "metadata": {},
   "outputs": [
    {
     "name": "stdout",
     "output_type": "stream",
     "text": [
      "11:7= 1.57\n"
     ]
    }
   ],
   "source": [
    "result= round(11/7, 2)\n",
    "print(f\"11:7= {result}\")"
   ]
  },
  {
   "cell_type": "code",
   "execution_count": null,
   "metadata": {},
   "outputs": [],
   "source": []
  }
 ],
 "metadata": {
  "kernelspec": {
   "display_name": "Python 3 (ipykernel)",
   "language": "python",
   "name": "python3"
  },
  "language_info": {
   "codemirror_mode": {
    "name": "ipython",
    "version": 3
   },
   "file_extension": ".py",
   "mimetype": "text/x-python",
   "name": "python",
   "nbconvert_exporter": "python",
   "pygments_lexer": "ipython3",
   "version": "3.9.13"
  }
 },
 "nbformat": 4,
 "nbformat_minor": 2
}
