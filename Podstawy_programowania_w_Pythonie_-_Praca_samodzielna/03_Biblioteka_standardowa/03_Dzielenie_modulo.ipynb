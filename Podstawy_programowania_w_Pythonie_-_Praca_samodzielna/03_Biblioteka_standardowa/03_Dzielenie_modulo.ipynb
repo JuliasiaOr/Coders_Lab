{
 "cells": [
  {
   "cell_type": "markdown",
   "metadata": {},
   "source": [
    "### Biblioteka standardowa > Dzielenie modulo\n",
    "\n",
    "1.    Stwórz dwie zmienne i przypisz do nich dowolne liczby.\n",
    "1.    Oblicz resztę z dzielenia (`modulo`) tych liczb i przypisz wynik do zmiennej `modulo_result`.\n",
    "1.    Wyświetl zmienną `modulo_result`.\n",
    "\n",
    ">    Jeżeli nie do końca rozumiesz działanie operatora modulo przećwicz to z innymi liczbami.\n"
   ]
  },
  {
   "cell_type": "code",
   "execution_count": 9,
   "metadata": {},
   "outputs": [
    {
     "name": "stdout",
     "output_type": "stream",
     "text": [
      "6\n"
     ]
    }
   ],
   "source": [
    "name=240\n",
    "name1=13\n",
    "modulo_result=name%name1\n",
    "print(modulo_result)"
   ]
  },
  {
   "cell_type": "code",
   "execution_count": null,
   "metadata": {},
   "outputs": [],
   "source": []
  }
 ],
 "metadata": {
  "kernelspec": {
   "display_name": "Python 3 (ipykernel)",
   "language": "python",
   "name": "python3"
  },
  "language_info": {
   "codemirror_mode": {
    "name": "ipython",
    "version": 3
   },
   "file_extension": ".py",
   "mimetype": "text/x-python",
   "name": "python",
   "nbconvert_exporter": "python",
   "pygments_lexer": "ipython3",
   "version": "3.9.13"
  }
 },
 "nbformat": 4,
 "nbformat_minor": 2
}
