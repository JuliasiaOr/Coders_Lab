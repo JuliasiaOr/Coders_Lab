{
 "cells": [
  {
   "cell_type": "markdown",
   "metadata": {},
   "source": [
    "### Kontrola przepłwu > Tabliczka mnożenia\n",
    "\n",
    "Napisz program, który:\n",
    "\n",
    "1. Pobierze od użytkownika liczbę `n` z przedziału od 1 do 10.\n",
    "1. Wygeneruje tabliczę mnożenia dla podanej liczby.\n",
    "\n",
    "**Przykład**:\n",
    "```\n",
    "Podaj liczbę: `3`\n",
    "```\n",
    "\n",
    "**Wynik**:\n",
    "\n",
    "```\n",
    "1 * 3 = 3\n",
    "2 * 3 = 6\n",
    "3 * 3 = 9\n",
    "4 * 3 = 12\n",
    "5 * 3 = 15\n",
    "6 * 3 = 18\n",
    "7 * 3 = 21\n",
    "8 * 3 = 24\n",
    "9 * 3 = 27\n",
    "10 * 3 = 30\n",
    "```\n",
    "\n",
    ">Podpowiedź: Pamiętaj o skonwertowaniu `n`"
   ]
  },
  {
   "cell_type": "markdown",
   "metadata": {},
   "source": [
    "## "
   ]
  },
  {
   "cell_type": "code",
   "execution_count": 11,
   "metadata": {},
   "outputs": [
    {
     "name": "stdout",
     "output_type": "stream",
     "text": [
      "number 1 1\n",
      "1 * 3 = 3\n",
      "2 * 3 = 6\n",
      "3 * 3 = 9\n",
      "4 * 3 = 12\n",
      "5 * 3 = 15\n",
      "6 * 3 = 18\n",
      "7 * 3 = 21\n",
      "8 * 3 = 24\n",
      "9 * 3 = 27\n",
      "10 * 3 = 30\n"
     ]
    }
   ],
   "source": [
    "number = int(input(\"number 1 \"))\n",
    "\n",
    "for i in range (0, 10):\n",
    "    i += 1\n",
    "    result = (i * 3)\n",
    "    print(i, \"* 3 =\", result)"
   ]
  }
 ],
 "metadata": {
  "kernelspec": {
   "display_name": "Python 3 (ipykernel)",
   "language": "python",
   "name": "python3"
  },
  "language_info": {
   "codemirror_mode": {
    "name": "ipython",
    "version": 3
   },
   "file_extension": ".py",
   "mimetype": "text/x-python",
   "name": "python",
   "nbconvert_exporter": "python",
   "pygments_lexer": "ipython3",
   "version": "3.9.13"
  }
 },
 "nbformat": 4,
 "nbformat_minor": 2
}
