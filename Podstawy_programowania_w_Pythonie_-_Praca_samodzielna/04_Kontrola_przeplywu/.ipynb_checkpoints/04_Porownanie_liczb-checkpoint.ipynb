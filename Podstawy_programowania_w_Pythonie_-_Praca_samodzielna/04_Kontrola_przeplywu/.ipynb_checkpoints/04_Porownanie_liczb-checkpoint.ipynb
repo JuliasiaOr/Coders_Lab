{
 "cells": [
  {
   "cell_type": "markdown",
   "metadata": {},
   "source": [
    "### Kontrola przepływu > Porównanie licz\n",
    "\n",
    "Napisz program, który:\n",
    "* Pobierze od użytkownika dwie zmienne liczbowe (nazwij je `a` i `b`).\n",
    "* Dokona rzutowanie tych zmiennych na `float`.\n",
    "* Wypisze informację o wyniku porównania, przykładowo:\n",
    "\n",
    "```\n",
    "a jest większe!\n",
    "```"
   ]
  },
  {
   "cell_type": "code",
   "execution_count": null,
   "metadata": {},
   "outputs": [],
   "source": [
    "a = input(\"a\")\n",
    "b = input(\"b\")\n",
    "if a == b:\n",
    "    print(\"a równe b!\")\n",
    "elif a > b:\n",
    "    print(\"a jest większe!\")\n",
    "else:\n",
    "    print(\"a jest mnięsze!\")\n",
    "    \n",
    "    \n",
    "    \n"
   ]
  },
  {
   "cell_type": "code",
   "execution_count": null,
   "metadata": {},
   "outputs": [],
   "source": []
  }
 ],
 "metadata": {
  "kernelspec": {
   "display_name": "Python 3 (ipykernel)",
   "language": "python",
   "name": "python3"
  },
  "language_info": {
   "codemirror_mode": {
    "name": "ipython",
    "version": 3
   },
   "file_extension": ".py",
   "mimetype": "text/x-python",
   "name": "python",
   "nbconvert_exporter": "python",
   "pygments_lexer": "ipython3",
   "version": "3.9.13"
  }
 },
 "nbformat": 4,
 "nbformat_minor": 2
}
