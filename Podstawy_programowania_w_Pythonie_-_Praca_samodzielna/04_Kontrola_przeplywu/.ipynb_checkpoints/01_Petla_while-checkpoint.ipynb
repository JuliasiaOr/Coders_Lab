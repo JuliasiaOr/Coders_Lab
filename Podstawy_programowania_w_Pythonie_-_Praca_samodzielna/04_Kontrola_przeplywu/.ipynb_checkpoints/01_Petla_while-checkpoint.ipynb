{
 "cells": [
  {
   "cell_type": "markdown",
   "metadata": {},
   "source": [
    "### Kontrola przepływu > Pętla `while`\n",
    "\n",
    "Używając pętli `while`, napisz program, który 10 razy wyświetli poniższy komunikat:\n",
    "\n",
    "```\n",
    "Jestę programistą Pythona!\n",
    "```"
   ]
  },
  {
   "cell_type": "code",
   "execution_count": 17,
   "metadata": {},
   "outputs": [
    {
     "name": "stdout",
     "output_type": "stream",
     "text": [
      "Jestę programistą Pythona!\n",
      "Jestę programistą Pythona!\n",
      "Jestę programistą Pythona!\n",
      "Jestę programistą Pythona!\n",
      "Jestę programistą Pythona!\n",
      "Jestę programistą Pythona!\n",
      "Jestę programistą Pythona!\n",
      "Jestę programistą Pythona!\n",
      "Jestę programistą Pythona!\n",
      "Jestę programistą Pythona!\n"
     ]
    }
   ],
   "source": [
    "text = \"Jestę programistą Pythona!\"\n",
    "i=0\n",
    "while i < 10:\n",
    "  print(text)\n",
    "  i += 1\n",
    "\n"
   ]
  },
  {
   "cell_type": "code",
   "execution_count": null,
   "metadata": {},
   "outputs": [],
   "source": []
  }
 ],
 "metadata": {
  "kernelspec": {
   "display_name": "Python 3 (ipykernel)",
   "language": "python",
   "name": "python3"
  },
  "language_info": {
   "codemirror_mode": {
    "name": "ipython",
    "version": 3
   },
   "file_extension": ".py",
   "mimetype": "text/x-python",
   "name": "python",
   "nbconvert_exporter": "python",
   "pygments_lexer": "ipython3",
   "version": "3.9.13"
  }
 },
 "nbformat": 4,
 "nbformat_minor": 2
}
