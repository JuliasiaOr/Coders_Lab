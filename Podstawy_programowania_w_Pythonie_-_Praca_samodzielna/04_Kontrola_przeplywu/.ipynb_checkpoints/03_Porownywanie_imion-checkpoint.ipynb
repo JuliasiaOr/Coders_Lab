{
 "cells": [
  {
   "cell_type": "markdown",
   "metadata": {},
   "source": [
    "### Kontrola przepływu > Porównanie imion\n",
    "\n",
    "Używając instrukcji warunkowej `if` napisz program, który:\n",
    "\n",
    "* pobierze od użytkownika imię do zmiennej `first_name`,\n",
    "* pobierze od użytkownika drugie imię użytkownika do zmiennej `second_name`,\n",
    "* wyświetli na ekranie `Takie same` jeżeli imiona są takie same albo `Różne` jeżeli są różne."
   ]
  },
  {
   "cell_type": "code",
   "execution_count": 1,
   "metadata": {},
   "outputs": [
    {
     "name": "stdout",
     "output_type": "stream",
     "text": [
      "first_name Julia\n",
      "second_name Julia\n",
      "Takie same\n"
     ]
    }
   ],
   "source": [
    "first_name = input (\"first_name \")\n",
    "second_name = input (\"second_name \")\n",
    "if(first_name) == (second_name):\n",
    "    print(\"Takie same\")\n",
    "else:\n",
    "    (first_name) != (second_name)\n",
    "    print(\"Różne\")\n",
    "    "
   ]
  },
  {
   "cell_type": "code",
   "execution_count": null,
   "metadata": {},
   "outputs": [],
   "source": []
  }
 ],
 "metadata": {
  "kernelspec": {
   "display_name": "Python 3 (ipykernel)",
   "language": "python",
   "name": "python3"
  },
  "language_info": {
   "codemirror_mode": {
    "name": "ipython",
    "version": 3
   },
   "file_extension": ".py",
   "mimetype": "text/x-python",
   "name": "python",
   "nbconvert_exporter": "python",
   "pygments_lexer": "ipython3",
   "version": "3.9.13"
  }
 },
 "nbformat": 4,
 "nbformat_minor": 2
}
