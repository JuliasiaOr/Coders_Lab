{
 "cells": [
  {
   "cell_type": "markdown",
   "metadata": {},
   "source": [
    "### Kontrola przepływu > Definiowanie listy liczb\n",
    "\n",
    "1. Zdefiniuj listę składającą się z liczb **parzystych** od `2 do 98`,\n",
    "1. Wypisz każdą z tych liczb w osobnym wierszy używając poniższego szablonu:\n",
    "\n",
    "```\n",
    "Liczba: <liczba>\n",
    "```\n",
    "\n",
    ">Podpowiedź: staraj się nie definiować listy ręcznie, zamiast tego użyj funkcji `range`\n",
    "\n",
    "Szkic wyniku:\n",
    "\n",
    "```\n",
    "Liczba: 2\n",
    "Liczba: 4\n",
    "...\n",
    "Liczba: 98\n",
    "\n",
    "```"
   ]
  },
  {
   "cell_type": "code",
   "execution_count": 4,
   "metadata": {},
   "outputs": [
    {
     "name": "stdout",
     "output_type": "stream",
     "text": [
      "Liczba : 2\n",
      "Liczba : 4\n",
      "Liczba : 6\n",
      "Liczba : 8\n",
      "Liczba : 10\n",
      "Liczba : 12\n",
      "Liczba : 14\n",
      "Liczba : 16\n",
      "Liczba : 18\n",
      "Liczba : 20\n",
      "Liczba : 22\n",
      "Liczba : 24\n",
      "Liczba : 26\n",
      "Liczba : 28\n",
      "Liczba : 30\n",
      "Liczba : 32\n",
      "Liczba : 34\n",
      "Liczba : 36\n",
      "Liczba : 38\n",
      "Liczba : 40\n",
      "Liczba : 42\n",
      "Liczba : 44\n",
      "Liczba : 46\n",
      "Liczba : 48\n",
      "Liczba : 50\n",
      "Liczba : 52\n",
      "Liczba : 54\n",
      "Liczba : 56\n",
      "Liczba : 58\n",
      "Liczba : 60\n",
      "Liczba : 62\n",
      "Liczba : 64\n",
      "Liczba : 66\n",
      "Liczba : 68\n",
      "Liczba : 70\n",
      "Liczba : 72\n",
      "Liczba : 74\n",
      "Liczba : 76\n",
      "Liczba : 78\n",
      "Liczba : 80\n",
      "Liczba : 82\n",
      "Liczba : 84\n",
      "Liczba : 86\n",
      "Liczba : 88\n",
      "Liczba : 90\n",
      "Liczba : 92\n",
      "Liczba : 94\n",
      "Liczba : 96\n",
      "Liczba : 98\n"
     ]
    }
   ],
   "source": [
    "liczby = []\n",
    "for i in range(2, 100):\n",
    "    if i % 2 == 0:\n",
    "        print(f\"Liczba : {i}\")          "
   ]
  },
  {
   "cell_type": "code",
   "execution_count": null,
   "metadata": {},
   "outputs": [],
   "source": []
  }
 ],
 "metadata": {
  "kernelspec": {
   "display_name": "Python 3 (ipykernel)",
   "language": "python",
   "name": "python3"
  },
  "language_info": {
   "codemirror_mode": {
    "name": "ipython",
    "version": 3
   },
   "file_extension": ".py",
   "mimetype": "text/x-python",
   "name": "python",
   "nbconvert_exporter": "python",
   "pygments_lexer": "ipython3",
   "version": "3.9.13"
  }
 },
 "nbformat": 4,
 "nbformat_minor": 2
}
