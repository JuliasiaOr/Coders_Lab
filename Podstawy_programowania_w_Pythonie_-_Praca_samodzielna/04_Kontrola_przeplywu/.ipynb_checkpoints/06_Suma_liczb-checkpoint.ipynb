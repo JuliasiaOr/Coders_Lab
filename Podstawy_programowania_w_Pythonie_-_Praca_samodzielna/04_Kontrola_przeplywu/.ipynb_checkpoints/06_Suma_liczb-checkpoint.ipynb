{
 "cells": [
  {
   "cell_type": "markdown",
   "metadata": {},
   "source": [
    "### Kontrola przepływu > Suma liczb\n",
    "\n",
    "Napisz program, który:\n",
    "* policzy sumę wszystkich liczb od `0` do `n`, gdzie `n` jest dowolną liczbą naturalną.\n",
    "\n",
    "Zadanie rozwiąż na dwa sposoby:\n",
    "\n",
    "1. używając pętli,\n",
    "1. korzystając z wbudowanych w Pythona funkcji: `range` i `sum`."
   ]
  },
  {
   "cell_type": "code",
   "execution_count": 6,
   "metadata": {},
   "outputs": [
    {
     "name": "stdout",
     "output_type": "stream",
     "text": [
      "15\n"
     ]
    }
   ],
   "source": [
    "def suma(n):\n",
    "    s = 0\n",
    "    for i in range(n):\n",
    "        s = s + i\n",
    "    return s\n",
    "\n",
    "print(suma(6))"
   ]
  },
  {
   "cell_type": "code",
   "execution_count": 5,
   "metadata": {},
   "outputs": [
    {
     "name": "stdout",
     "output_type": "stream",
     "text": [
      "6\n"
     ]
    }
   ],
   "source": [
    "result = sum([0, 1, 2, 3])\n",
    "print(result)"
   ]
  },
  {
   "cell_type": "code",
   "execution_count": null,
   "metadata": {},
   "outputs": [],
   "source": []
  }
 ],
 "metadata": {
  "kernelspec": {
   "display_name": "Python 3 (ipykernel)",
   "language": "python",
   "name": "python3"
  },
  "language_info": {
   "codemirror_mode": {
    "name": "ipython",
    "version": 3
   },
   "file_extension": ".py",
   "mimetype": "text/x-python",
   "name": "python",
   "nbconvert_exporter": "python",
   "pygments_lexer": "ipython3",
   "version": "3.9.13"
  }
 },
 "nbformat": 4,
 "nbformat_minor": 2
}
