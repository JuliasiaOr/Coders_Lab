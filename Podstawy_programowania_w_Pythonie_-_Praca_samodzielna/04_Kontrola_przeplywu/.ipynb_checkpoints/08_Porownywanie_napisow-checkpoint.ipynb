{
 "cells": [
  {
   "cell_type": "markdown",
   "metadata": {},
   "source": [
    "### Kontrola przepływu > Porównanie napisów\n",
    "\n",
    "* Zapisz w zmiennych ciągi znaków: `kot` i `pies`.\n",
    "* Wypisz na ekran wynik ich porównania operatorem `<`.\n",
    "\n",
    "Zastanów się, dlaczego wynik jest taki, popróbuj z innymi ciągami znaków, a wynik zapisz w komentarzu.\n",
    "\n",
    "> Podpowiedź: W jaki sposób są uporządkowane np. wpisy w encyklopedii? "
   ]
  },
  {
   "cell_type": "code",
   "execution_count": 7,
   "metadata": {},
   "outputs": [
    {
     "name": "stdout",
     "output_type": "stream",
     "text": [
      "False\n"
     ]
    }
   ],
   "source": [
    "animal1 = ('pies')\n",
    "animal2 = ('kot')\n",
    "if (animal1 < animal2):\n",
    "    print(True)\n",
    "else:\n",
    "    print(False)"
   ]
  },
  {
   "cell_type": "code",
   "execution_count": 8,
   "metadata": {},
   "outputs": [
    {
     "name": "stdout",
     "output_type": "stream",
     "text": [
      "True\n"
     ]
    }
   ],
   "source": [
    "animal1 = ('kot')\n",
    "animal2 = ('pies')\n",
    "if (animal1 < animal2):\n",
    "    print(True)\n",
    "else:\n",
    "    print(False)"
   ]
  },
  {
   "cell_type": "code",
   "execution_count": null,
   "metadata": {},
   "outputs": [],
   "source": [
    "# tak, jak literka \"k\" idzie przed \"p\", słowo 'kot' będzie mniejszy od słowa \"pies\"."
   ]
  }
 ],
 "metadata": {
  "kernelspec": {
   "display_name": "Python 3 (ipykernel)",
   "language": "python",
   "name": "python3"
  },
  "language_info": {
   "codemirror_mode": {
    "name": "ipython",
    "version": 3
   },
   "file_extension": ".py",
   "mimetype": "text/x-python",
   "name": "python",
   "nbconvert_exporter": "python",
   "pygments_lexer": "ipython3",
   "version": "3.9.13"
  }
 },
 "nbformat": 4,
 "nbformat_minor": 2
}
