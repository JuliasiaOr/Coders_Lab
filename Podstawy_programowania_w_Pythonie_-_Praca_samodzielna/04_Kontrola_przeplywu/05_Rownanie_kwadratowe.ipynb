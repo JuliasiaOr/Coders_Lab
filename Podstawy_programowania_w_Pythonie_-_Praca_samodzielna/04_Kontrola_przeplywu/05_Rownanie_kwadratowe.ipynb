{
 "cells": [
  {
   "cell_type": "markdown",
   "metadata": {},
   "source": [
    "### Kontrola przepływu > Równanie kwadratowe\n",
    "\n",
    "Napisz program do pomocy licealistom w liczeniu pierwiastków równań kwadratowych. Program ma:\n",
    "\n",
    "*    wyświetlić na ekranie komunikat: Równanie w postaci `a*x**2 + b*x + c == 0`, **(jako komórkę markdown)**\n",
    "*    pobierze od użytkownika i odpowiednio zapisze wartości dla zmiennych `a`, `b`, `c`,\n",
    "*    policzy `deltę`,\n",
    "*    jeśli `delta > 0`, policzyć wartości `x_1` i `x_2`, a następnie wyświetlić je w postaci:\n",
    "```\n",
    "Pierwiastki równania kwadratowego:\n",
    "x_1 = <wartość>\n",
    "x_2 = <wartość>\n",
    "```\n",
    "* jeżeli `delta = 0`, policzyć wartości `x_1` i `x_2` a następnie wyświetlić ją na ekranie w postaci:\n",
    "```\n",
    "Pierwiastki równania kwadratowego:\n",
    "x_1 = x_2 = <wartość>\n",
    "```\n",
    "* jeżeli delta jest ujemna, wypisz na ekran odpowiednią informację.\n",
    "\n",
    "> Podpowiedź: Jak dodać komórkę `markdown` znajdziesz na LMS w sekcji Przygotowanie do kursu > Przygotowanie do kursu Data Science > Instalacja Pythona i Jupter Notebook"
   ]
  },
  {
   "cell_type": "markdown",
   "metadata": {},
   "source": [
    "a*x**2 + b*x + c == 0"
   ]
  },
  {
   "cell_type": "code",
   "execution_count": null,
   "metadata": {},
   "outputs": [
    {
     "name": "stdout",
     "output_type": "stream",
     "text": [
      "komunikat markdown\n"
     ]
    }
   ],
   "source": [
    "import math\n",
    "print(\"komunikat markdown\")\n",
    "a = int(input(\"a\"))\n",
    "b = int(input(\"b\"))\n",
    "c = int(input(\"c\"))\n",
    "delta = b * b - (4 * a * c)\n",
    "if delta > 0:\n",
    "  dsq = math.sqrt(delta)\n",
    "  x1 = (-b -dsq)/ 2 * a\n",
    "  x2 = (-b + dsq)/ 2 * a\n",
    "  print(\"X1=\",x1,\"X2=\",x2)\n",
    "\n",
    "if delta == 0:\n",
    "  x1= -b/2 * a\n",
    "  print(\"Pierwiastka rownania kwadratowego x1 = x2\", x1)\n",
    "\n",
    "if delta < 0:\n",
    "  print(\"Delta ujemna, rownanie nie posiada perwiastkow\")"
   ]
  },
  {
   "cell_type": "code",
   "execution_count": null,
   "metadata": {},
   "outputs": [],
   "source": []
  }
 ],
 "metadata": {
  "kernelspec": {
   "display_name": "Python 3 (ipykernel)",
   "language": "python",
   "name": "python3"
  },
  "language_info": {
   "codemirror_mode": {
    "name": "ipython",
    "version": 3
   },
   "file_extension": ".py",
   "mimetype": "text/x-python",
   "name": "python",
   "nbconvert_exporter": "python",
   "pygments_lexer": "ipython3",
   "version": "3.9.13"
  }
 },
 "nbformat": 4,
 "nbformat_minor": 2
}
