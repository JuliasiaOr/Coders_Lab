{
 "cells": [
  {
   "cell_type": "markdown",
   "metadata": {},
   "source": [
    "### Kontrola przepłwu > Średnia\n",
    "\n",
    "Napisz program, który:\n",
    "\n",
    "* zapisze dowolne liczby w liście w zmiennej `numbers`,\n",
    "* policzy ich sumę i średnią,\n",
    "* wypisze na ekran te liczby,\n",
    "* porówna ze sobą średnią oraz sumę i wyświetli wynik porównania.\n",
    "\n",
    "Szablon rozwiązania:\n",
    "```\n",
    "Wprowadzone liczby: <liczby>\n",
    "suma: <wartość>, \n",
    "średnia: <wartość> \n",
    "Suma jest większa!\n",
    "```"
   ]
  },
  {
   "cell_type": "code",
   "execution_count": 1,
   "metadata": {},
   "outputs": [
    {
     "name": "stdout",
     "output_type": "stream",
     "text": [
      "Wprowadzone liczby: 2, 4, 6\n",
      "suma: 12\n",
      "średnia: 4.0\n",
      "Suma jest większa\n"
     ]
    }
   ],
   "source": [
    "numbers = ('2, 4, 6')\n",
    "print(\"Wprowadzone liczby:\", numbers)\n",
    "result = sum([2, 4, 6])\n",
    "print(\"suma:\", result)\n",
    "result1 = sum([2, 4, 6])/3\n",
    "print(\"średnia:\", result1)\n",
    "print(\"Suma jest większa\")"
   ]
  },
  {
   "cell_type": "code",
   "execution_count": null,
   "metadata": {},
   "outputs": [],
   "source": []
  }
 ],
 "metadata": {
  "kernelspec": {
   "display_name": "Python 3 (ipykernel)",
   "language": "python",
   "name": "python3"
  },
  "language_info": {
   "codemirror_mode": {
    "name": "ipython",
    "version": 3
   },
   "file_extension": ".py",
   "mimetype": "text/x-python",
   "name": "python",
   "nbconvert_exporter": "python",
   "pygments_lexer": "ipython3",
   "version": "3.9.13"
  }
 },
 "nbformat": 4,
 "nbformat_minor": 2
}
