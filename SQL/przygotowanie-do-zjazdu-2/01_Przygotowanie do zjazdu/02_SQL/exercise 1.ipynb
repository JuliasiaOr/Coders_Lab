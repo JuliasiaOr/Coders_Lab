{
 "cells": [
  {
   "cell_type": "markdown",
   "metadata": {},
   "source": [
    "# Zadanie 1\n",
    "\n",
    "Zainstaluj bibliotekę do komunikacji z bazą danych: `psycopg2`.\n",
    "\n",
    "Zaimportuj bazę danych `classicmodels.sql` do swojej bazy PostgreSQL. Jeśli potrzebujesz pomocy, instrukcję znajdziesz w Preworku w artykule **Przygotowanie bazy danych** z rozdziału **Podstawy SQL - praca samodzielna**. Możesz też poprosić mentora o pomoc.\n",
    "\n",
    "Uzupełnij kod danymi do połączenia z bazą PostgreSQL. Po uruchomieniu go powinna się wyświetlić lista biur firmy handlującej modelami klasycznych samochodów i motocykli.\n"
   ]
  },
  {
   "cell_type": "code",
   "execution_count": 3,
   "metadata": {},
   "outputs": [],
   "source": [
    "# tu zainstaluj bibliotekę do komunikacji z bazą danych jeżeli nie udało ci się jej zainstalować za pomocą managera pakietów Conda\n"
   ]
  },
  {
   "cell_type": "code",
   "execution_count": 5,
   "metadata": {},
   "outputs": [
    {
     "name": "stdout",
     "output_type": "stream",
     "text": [
      "Biuro w mieście Boston:\n",
      "1550 Court Place\n",
      "Suite 102\n",
      "MA, USA\n",
      "\n",
      "Biuro w mieście London:\n",
      "25 Old Broad Street\n",
      "Level 7\n",
      "UK\n",
      "\n",
      "Biuro w mieście NYC:\n",
      "523 East 53rd Street\n",
      "apt. 5A\n",
      "NY, USA\n",
      "\n",
      "Biuro w mieście Paris:\n",
      "43 Rue Jouffroy D'abbans\n",
      "France\n",
      "\n",
      "Biuro w mieście San Francisco:\n",
      "100 Market Street\n",
      "Suite 300\n",
      "CA, USA\n",
      "\n",
      "Biuro w mieście Sydney:\n",
      "5-11 Wentworth Avenue\n",
      "Floor #2\n",
      "Australia\n",
      "\n",
      "Biuro w mieście Tokyo:\n",
      "4-1 Kioicho\n",
      "Chiyoda-Ku, Japan\n",
      "\n"
     ]
    }
   ],
   "source": [
    "import psycopg2\n",
    "\n",
    "connection = psycopg2.connect(\n",
    "    host='localhost',\n",
    "    user='postgres',  # popraw jeśli to konieczne\n",
    "    password='1234',  # popraw jeśli to konieczne\n",
    "    dbname='classicmodels',  # popraw jeśli to konieczne\n",
    ")\n",
    "\n",
    "cursor = connection.cursor()\n",
    "\n",
    "cursor.execute('SELECT city, addressLine1, addressLine2, state, country FROM offices ORDER BY city')\n",
    "\n",
    "for row in cursor:\n",
    "    print(f'Biuro w mieście {row[0]}:')\n",
    "    print(row[1])\n",
    "\n",
    "    if row[2] is not None:  # wyświetlamy drugą linię adresu tylko jeśli biuro ją posiada\n",
    "        print(row[2])\n",
    "    \n",
    "    if row[3] is None:  # jeśli adres nie ma stanu/regionu, wyświetlamy tylko kraj\n",
    "        print(row[4])\n",
    "    else:\n",
    "        print(f'{row[3]}, {row[4]}')\n",
    "    \n",
    "    print('')"
   ]
  },
  {
   "cell_type": "code",
   "execution_count": null,
   "metadata": {},
   "outputs": [],
   "source": []
  }
 ],
 "metadata": {
  "kernelspec": {
   "display_name": "Python 3 (ipykernel)",
   "language": "python",
   "name": "python3"
  },
  "language_info": {
   "codemirror_mode": {
    "name": "ipython",
    "version": 3
   },
   "file_extension": ".py",
   "mimetype": "text/x-python",
   "name": "python",
   "nbconvert_exporter": "python",
   "pygments_lexer": "ipython3",
   "version": "3.9.13"
  }
 },
 "nbformat": 4,
 "nbformat_minor": 4
}
