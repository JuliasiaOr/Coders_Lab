{
 "cells": [
  {
   "cell_type": "markdown",
   "metadata": {},
   "source": [
    "# Zamiana danych\n",
    "\n",
    "Za pomocą pythona wylicz, jaka jest średnia cena zakupu (`buyPrice`) produktu. \n",
    "\n",
    "W tym celu:\n",
    "1. Stwórz obiekt połączenia z bazą danych,\n",
    "1. Odpytaj bazę danych o wszystkie produkty (zapytanie można zawęzić tylko do ceny zakupu),\n",
    "1. W pętli przeiteruj przez wszystkie wyniki oraz zsumuj je,\n",
    "1. Po zsumowaniu wszystkich wyników podziel je przez ilość zwróconych rzędów.\n",
    "\n",
    "Hint:\n",
    "Żeby uzyskać liczbę rzędów, które zostały zwrócone możesz użyć właściwości obiektu `courseor` o nazwie `rowcount`.\n",
    "```\n",
    "rows_count = my_coursor.rowcount\n",
    "```\n"
   ]
  },
  {
   "cell_type": "code",
   "execution_count": 11,
   "metadata": {},
   "outputs": [],
   "source": [
    "import psycopg2\n",
    "\n",
    "connection = psycopg2.connect(\n",
    "    host='localhost',\n",
    "    user='postgres',  \n",
    "    password='1234',\n",
    "    dbname='classicmodels', \n",
    ")\n",
    "cursor = connection.cursor()\n",
    "\n",
    "cursor.execute(\"SELECT BuyPrice FROM products;\")\n",
    "suma = 0\n",
    "for i in cursor:\n",
    "    suma = suma + i[0]\n"
   ]
  },
  {
   "cell_type": "code",
   "execution_count": 12,
   "metadata": {},
   "outputs": [
    {
     "data": {
      "text/plain": [
       "5983.470000000001"
      ]
     },
     "execution_count": 12,
     "metadata": {},
     "output_type": "execute_result"
    }
   ],
   "source": [
    "suma"
   ]
  },
  {
   "cell_type": "code",
   "execution_count": 13,
   "metadata": {},
   "outputs": [],
   "source": [
    "ave = suma / cursor.rowcount"
   ]
  },
  {
   "cell_type": "code",
   "execution_count": 14,
   "metadata": {},
   "outputs": [
    {
     "name": "stdout",
     "output_type": "stream",
     "text": [
      "54.395181818181825\n"
     ]
    }
   ],
   "source": [
    "print(ave)"
   ]
  },
  {
   "cell_type": "code",
   "execution_count": null,
   "metadata": {},
   "outputs": [],
   "source": []
  }
 ],
 "metadata": {
  "kernelspec": {
   "display_name": "Python 3 (ipykernel)",
   "language": "python",
   "name": "python3"
  },
  "language_info": {
   "codemirror_mode": {
    "name": "ipython",
    "version": 3
   },
   "file_extension": ".py",
   "mimetype": "text/x-python",
   "name": "python",
   "nbconvert_exporter": "python",
   "pygments_lexer": "ipython3",
   "version": "3.9.13"
  }
 },
 "nbformat": 4,
 "nbformat_minor": 4
}
