{
 "cells": [
  {
   "cell_type": "markdown",
   "metadata": {},
   "source": [
    "# Min i maks\n",
    "\n",
    "Za pomocą pythona i SQL dowiedz się, jaki jest najdroższy i najtańszy (patrząc na kolumnę `MRSP` - Manufacturers Suggested Retail Price) produkt sprzedawany przez firmę. W tym celu:\n",
    "\n",
    "W tym celu:\n",
    "1. Stwórz obiekt połączenia z bazą danych,\n",
    "1. Stwórz zmienne, w których będą trzymane najwyższa i najniższa cena. Przypisz im wartości `0` (dla najwyższej ceny) i `math.inf` (dla najniższej ceny). Pamiętaj o zaimportowaniu modułu `math`,\n",
    "1. Odpytaj bazę danych o wszystkie produkty (zapytanie można zawęzić tylko do jednej kolumny),\n",
    "1. W pętli przeiteruj przez wszystkie wyniki oraz:\n",
    "    1. Jeżeli cena produktu jest mniejsza od zmiennej trzymającej najniższą cenę, to wpisz tę wartość do tej zmiennej,\n",
    "    1. Jeżeli cena produktu jest większa od zmiennej trzymającej najwyższą cenę, to wpisz tę wartość do tej zmiennej, \n",
    "    \n",
    "Na koniec skryptu wyświetl informacje o tych cenach.\n"
   ]
  },
  {
   "cell_type": "code",
   "execution_count": 9,
   "metadata": {
    "scrolled": true
   },
   "outputs": [],
   "source": [
    "import psycopg2\n",
    "\n",
    "connection = psycopg2.connect(\n",
    "    host='localhost',\n",
    "    user='postgres',  \n",
    "    password='1234',\n",
    "    dbname='classicmodels', \n",
    ")\n",
    "cursor = connection.cursor()"
   ]
  },
  {
   "cell_type": "code",
   "execution_count": 10,
   "metadata": {},
   "outputs": [],
   "source": [
    "import math\n",
    "maximum = 0 \n",
    "minimum = math.inf"
   ]
  },
  {
   "cell_type": "code",
   "execution_count": 11,
   "metadata": {},
   "outputs": [],
   "source": [
    "cursor.execute(\"SELECT msrp FROM products\")"
   ]
  },
  {
   "cell_type": "code",
   "execution_count": 12,
   "metadata": {},
   "outputs": [
    {
     "name": "stdout",
     "output_type": "stream",
     "text": [
      "95.7\n",
      "214.3\n",
      "118.94\n",
      "193.66\n",
      "136.0\n",
      "147.74\n",
      "194.57\n",
      "207.8\n",
      "150.62\n",
      "151.08\n",
      "117.44\n",
      "173.02\n",
      "79.8\n",
      "115.16\n",
      "141.54\n",
      "102.74\n",
      "53.91\n",
      "124.44\n",
      "157.69\n",
      "170.0\n",
      "77.0\n",
      "118.5\n",
      "142.25\n",
      "163.73\n",
      "60.54\n",
      "127.13\n",
      "84.48\n",
      "60.57\n",
      "168.75\n",
      "132.0\n",
      "101.31\n",
      "62.46\n",
      "86.02\n",
      "104.72\n",
      "136.59\n",
      "169.34\n",
      "107.57\n",
      "100.84\n",
      "80.41\n",
      "99.21\n",
      "146.99\n",
      "141.28\n",
      "62.17\n",
      "105.87\n",
      "143.62\n",
      "92.03\n",
      "87.77\n",
      "50.31\n",
      "148.8\n",
      "71.27\n",
      "73.49\n",
      "57.8\n",
      "112.7\n",
      "50.31\n",
      "109.42\n",
      "33.19\n",
      "76.17\n",
      "122.89\n",
      "44.8\n",
      "69.26\n",
      "90.87\n",
      "35.36\n",
      "68.51\n",
      "117.44\n",
      "37.76\n",
      "88.51\n",
      "85.61\n",
      "61.23\n",
      "65.75\n",
      "107.08\n",
      "83.86\n",
      "140.43\n",
      "68.24\n",
      "41.03\n",
      "118.28\n",
      "97.39\n",
      "72.45\n",
      "80.84\n",
      "99.89\n",
      "40.23\n",
      "62.14\n",
      "68.79\n",
      "102.05\n",
      "43.64\n",
      "58.58\n",
      "81.36\n",
      "66.67\n",
      "91.34\n",
      "86.61\n",
      "90.52\n",
      "99.72\n",
      "72.28\n",
      "101.15\n",
      "118.65\n",
      "80.0\n",
      "100.17\n",
      "99.31\n",
      "74.03\n",
      "49.66\n",
      "54.6\n",
      "136.67\n",
      "116.67\n",
      "122.73\n",
      "60.77\n",
      "121.08\n",
      "127.79\n",
      "96.31\n",
      "54.11\n",
      "64.64\n",
      "115.75\n"
     ]
    }
   ],
   "source": [
    "for dane in cursor:\n",
    "    print(dane[0])"
   ]
  },
  {
   "cell_type": "code",
   "execution_count": 13,
   "metadata": {},
   "outputs": [],
   "source": [
    "cursor.execute(\"SELECT msrp FROM products\")"
   ]
  },
  {
   "cell_type": "code",
   "execution_count": 14,
   "metadata": {},
   "outputs": [],
   "source": [
    "for dane in cursor:\n",
    "    if dane [0] < minimum:\n",
    "        minimum = dane[0]\n",
    "    if dane[0] > maximum:\n",
    "        maximum = dane[0]\n",
    "       "
   ]
  },
  {
   "cell_type": "code",
   "execution_count": 15,
   "metadata": {},
   "outputs": [
    {
     "name": "stdout",
     "output_type": "stream",
     "text": [
      "33.19\n"
     ]
    }
   ],
   "source": [
    "print(minimum)"
   ]
  },
  {
   "cell_type": "code",
   "execution_count": 16,
   "metadata": {},
   "outputs": [
    {
     "name": "stdout",
     "output_type": "stream",
     "text": [
      "214.3\n"
     ]
    }
   ],
   "source": [
    "print(maximum)"
   ]
  },
  {
   "cell_type": "code",
   "execution_count": null,
   "metadata": {},
   "outputs": [],
   "source": []
  }
 ],
 "metadata": {
  "kernelspec": {
   "display_name": "Python 3 (ipykernel)",
   "language": "python",
   "name": "python3"
  },
  "language_info": {
   "codemirror_mode": {
    "name": "ipython",
    "version": 3
   },
   "file_extension": ".py",
   "mimetype": "text/x-python",
   "name": "python",
   "nbconvert_exporter": "python",
   "pygments_lexer": "ipython3",
   "version": "3.9.13"
  }
 },
 "nbformat": 4,
 "nbformat_minor": 4
}
