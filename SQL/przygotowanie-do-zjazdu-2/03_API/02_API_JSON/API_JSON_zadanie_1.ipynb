{
 "cells": [
  {
   "cell_type": "markdown",
   "id": "d45c2280",
   "metadata": {},
   "source": [
    "### Zadania 1\n",
    "\n",
    "Za pomocą biblioteki requests pobierz aktualne kursy walut zwracane przez API pod adresem http://api.nbp.pl/api/exchangerates/tables/a/, oraz wyświetl je jeden pod drugim."
   ]
  },
  {
   "cell_type": "code",
   "execution_count": 1,
   "id": "5cf7d60b",
   "metadata": {},
   "outputs": [],
   "source": [
    "import requests"
   ]
  },
  {
   "cell_type": "code",
   "execution_count": 2,
   "id": "8e6c83e8",
   "metadata": {},
   "outputs": [],
   "source": [
    "res = requests.get(\"http://api.nbp.pl/api/exchangerates/tables/a/\")"
   ]
  },
  {
   "cell_type": "code",
   "execution_count": 3,
   "id": "9dfd8276",
   "metadata": {},
   "outputs": [
    {
     "name": "stdout",
     "output_type": "stream",
     "text": [
      "<Response [200]>\n"
     ]
    }
   ],
   "source": [
    "print(res)"
   ]
  },
  {
   "cell_type": "code",
   "execution_count": 4,
   "id": "e4a56f2c",
   "metadata": {},
   "outputs": [],
   "source": [
    "data = res.json()"
   ]
  },
  {
   "cell_type": "code",
   "execution_count": 5,
   "id": "3b5af42a",
   "metadata": {},
   "outputs": [
    {
     "data": {
      "text/plain": [
       "[{'table': 'A',\n",
       "  'no': '014/A/NBP/2023',\n",
       "  'effectiveDate': '2023-01-20',\n",
       "  'rates': [{'currency': 'bat (Tajlandia)', 'code': 'THB', 'mid': 0.1326},\n",
       "   {'currency': 'dolar amerykański', 'code': 'USD', 'mid': 4.352},\n",
       "   {'currency': 'dolar australijski', 'code': 'AUD', 'mid': 3.0169},\n",
       "   {'currency': 'dolar Hongkongu', 'code': 'HKD', 'mid': 0.5556},\n",
       "   {'currency': 'dolar kanadyjski', 'code': 'CAD', 'mid': 3.2311},\n",
       "   {'currency': 'dolar nowozelandzki', 'code': 'NZD', 'mid': 2.7919},\n",
       "   {'currency': 'dolar singapurski', 'code': 'SGD', 'mid': 3.2908},\n",
       "   {'currency': 'euro', 'code': 'EUR', 'mid': 4.7137},\n",
       "   {'currency': 'forint (Węgry)', 'code': 'HUF', 'mid': 0.011907},\n",
       "   {'currency': 'frank szwajcarski', 'code': 'CHF', 'mid': 4.7281},\n",
       "   {'currency': 'funt szterling', 'code': 'GBP', 'mid': 5.3711},\n",
       "   {'currency': 'hrywna (Ukraina)', 'code': 'UAH', 'mid': 0.1258},\n",
       "   {'currency': 'jen (Japonia)', 'code': 'JPY', 'mid': 0.033614},\n",
       "   {'currency': 'korona czeska', 'code': 'CZK', 'mid': 0.1969},\n",
       "   {'currency': 'korona duńska', 'code': 'DKK', 'mid': 0.6336},\n",
       "   {'currency': 'korona islandzka', 'code': 'ISK', 'mid': 0.030509},\n",
       "   {'currency': 'korona norweska', 'code': 'NOK', 'mid': 0.4401},\n",
       "   {'currency': 'korona szwedzka', 'code': 'SEK', 'mid': 0.4221},\n",
       "   {'currency': 'lej rumuński', 'code': 'RON', 'mid': 0.9569},\n",
       "   {'currency': 'lew (Bułgaria)', 'code': 'BGN', 'mid': 2.4101},\n",
       "   {'currency': 'lira turecka', 'code': 'TRY', 'mid': 0.2315},\n",
       "   {'currency': 'nowy izraelski szekel', 'code': 'ILS', 'mid': 1.2764},\n",
       "   {'currency': 'peso chilijskie', 'code': 'CLP', 'mid': 0.005283},\n",
       "   {'currency': 'peso filipińskie', 'code': 'PHP', 'mid': 0.0799},\n",
       "   {'currency': 'peso meksykańskie', 'code': 'MXN', 'mid': 0.2293},\n",
       "   {'currency': 'rand (Republika Południowej Afryki)',\n",
       "    'code': 'ZAR',\n",
       "    'mid': 0.2514},\n",
       "   {'currency': 'real (Brazylia)', 'code': 'BRL', 'mid': 0.841},\n",
       "   {'currency': 'ringgit (Malezja)', 'code': 'MYR', 'mid': 1.0155},\n",
       "   {'currency': 'rupia indonezyjska', 'code': 'IDR', 'mid': 0.00028869},\n",
       "   {'currency': 'rupia indyjska', 'code': 'INR', 'mid': 0.053646},\n",
       "   {'currency': 'won południowokoreański', 'code': 'KRW', 'mid': 0.003524},\n",
       "   {'currency': 'yuan renminbi (Chiny)', 'code': 'CNY', 'mid': 0.6416},\n",
       "   {'currency': 'SDR (MFW)', 'code': 'XDR', 'mid': 5.8803}]}]"
      ]
     },
     "execution_count": 5,
     "metadata": {},
     "output_type": "execute_result"
    }
   ],
   "source": [
    "# zerknięcie na zaczytane dane\n",
    "data"
   ]
  },
  {
   "cell_type": "code",
   "execution_count": 6,
   "id": "bb817a5e",
   "metadata": {},
   "outputs": [
    {
     "data": {
      "text/plain": [
       "[{'currency': 'bat (Tajlandia)', 'code': 'THB', 'mid': 0.1326},\n",
       " {'currency': 'dolar amerykański', 'code': 'USD', 'mid': 4.352},\n",
       " {'currency': 'dolar australijski', 'code': 'AUD', 'mid': 3.0169},\n",
       " {'currency': 'dolar Hongkongu', 'code': 'HKD', 'mid': 0.5556},\n",
       " {'currency': 'dolar kanadyjski', 'code': 'CAD', 'mid': 3.2311},\n",
       " {'currency': 'dolar nowozelandzki', 'code': 'NZD', 'mid': 2.7919},\n",
       " {'currency': 'dolar singapurski', 'code': 'SGD', 'mid': 3.2908},\n",
       " {'currency': 'euro', 'code': 'EUR', 'mid': 4.7137},\n",
       " {'currency': 'forint (Węgry)', 'code': 'HUF', 'mid': 0.011907},\n",
       " {'currency': 'frank szwajcarski', 'code': 'CHF', 'mid': 4.7281},\n",
       " {'currency': 'funt szterling', 'code': 'GBP', 'mid': 5.3711},\n",
       " {'currency': 'hrywna (Ukraina)', 'code': 'UAH', 'mid': 0.1258},\n",
       " {'currency': 'jen (Japonia)', 'code': 'JPY', 'mid': 0.033614},\n",
       " {'currency': 'korona czeska', 'code': 'CZK', 'mid': 0.1969},\n",
       " {'currency': 'korona duńska', 'code': 'DKK', 'mid': 0.6336},\n",
       " {'currency': 'korona islandzka', 'code': 'ISK', 'mid': 0.030509},\n",
       " {'currency': 'korona norweska', 'code': 'NOK', 'mid': 0.4401},\n",
       " {'currency': 'korona szwedzka', 'code': 'SEK', 'mid': 0.4221},\n",
       " {'currency': 'lej rumuński', 'code': 'RON', 'mid': 0.9569},\n",
       " {'currency': 'lew (Bułgaria)', 'code': 'BGN', 'mid': 2.4101},\n",
       " {'currency': 'lira turecka', 'code': 'TRY', 'mid': 0.2315},\n",
       " {'currency': 'nowy izraelski szekel', 'code': 'ILS', 'mid': 1.2764},\n",
       " {'currency': 'peso chilijskie', 'code': 'CLP', 'mid': 0.005283},\n",
       " {'currency': 'peso filipińskie', 'code': 'PHP', 'mid': 0.0799},\n",
       " {'currency': 'peso meksykańskie', 'code': 'MXN', 'mid': 0.2293},\n",
       " {'currency': 'rand (Republika Południowej Afryki)',\n",
       "  'code': 'ZAR',\n",
       "  'mid': 0.2514},\n",
       " {'currency': 'real (Brazylia)', 'code': 'BRL', 'mid': 0.841},\n",
       " {'currency': 'ringgit (Malezja)', 'code': 'MYR', 'mid': 1.0155},\n",
       " {'currency': 'rupia indonezyjska', 'code': 'IDR', 'mid': 0.00028869},\n",
       " {'currency': 'rupia indyjska', 'code': 'INR', 'mid': 0.053646},\n",
       " {'currency': 'won południowokoreański', 'code': 'KRW', 'mid': 0.003524},\n",
       " {'currency': 'yuan renminbi (Chiny)', 'code': 'CNY', 'mid': 0.6416},\n",
       " {'currency': 'SDR (MFW)', 'code': 'XDR', 'mid': 5.8803}]"
      ]
     },
     "execution_count": 6,
     "metadata": {},
     "output_type": "execute_result"
    }
   ],
   "source": [
    "# dostanie się do klucza \"rates\"\n",
    "data[0]['rates']"
   ]
  },
  {
   "cell_type": "code",
   "execution_count": 7,
   "id": "b87f8abc",
   "metadata": {},
   "outputs": [
    {
     "name": "stdout",
     "output_type": "stream",
     "text": [
      "THB (bat (Tajlandia)): 0.1326\n",
      "USD (dolar amerykański): 4.352\n",
      "AUD (dolar australijski): 3.0169\n",
      "HKD (dolar Hongkongu): 0.5556\n",
      "CAD (dolar kanadyjski): 3.2311\n",
      "NZD (dolar nowozelandzki): 2.7919\n",
      "SGD (dolar singapurski): 3.2908\n",
      "EUR (euro): 4.7137\n",
      "HUF (forint (Węgry)): 0.011907\n",
      "CHF (frank szwajcarski): 4.7281\n",
      "GBP (funt szterling): 5.3711\n",
      "UAH (hrywna (Ukraina)): 0.1258\n",
      "JPY (jen (Japonia)): 0.033614\n",
      "CZK (korona czeska): 0.1969\n",
      "DKK (korona duńska): 0.6336\n",
      "ISK (korona islandzka): 0.030509\n",
      "NOK (korona norweska): 0.4401\n",
      "SEK (korona szwedzka): 0.4221\n",
      "RON (lej rumuński): 0.9569\n",
      "BGN (lew (Bułgaria)): 2.4101\n",
      "TRY (lira turecka): 0.2315\n",
      "ILS (nowy izraelski szekel): 1.2764\n",
      "CLP (peso chilijskie): 0.005283\n",
      "PHP (peso filipińskie): 0.0799\n",
      "MXN (peso meksykańskie): 0.2293\n",
      "ZAR (rand (Republika Południowej Afryki)): 0.2514\n",
      "BRL (real (Brazylia)): 0.841\n",
      "MYR (ringgit (Malezja)): 1.0155\n",
      "IDR (rupia indonezyjska): 0.00028869\n",
      "INR (rupia indyjska): 0.053646\n",
      "KRW (won południowokoreański): 0.003524\n",
      "CNY (yuan renminbi (Chiny)): 0.6416\n",
      "XDR (SDR (MFW)): 5.8803\n"
     ]
    }
   ],
   "source": [
    "for rate in data[0].get(\"rates\"):\n",
    "    print(f\"{rate.get('code')} ({rate.get('currency')}): {rate.get('mid')}\")"
   ]
  },
  {
   "cell_type": "code",
   "execution_count": 8,
   "id": "9d406fb8",
   "metadata": {},
   "outputs": [
    {
     "name": "stdout",
     "output_type": "stream",
     "text": [
      "THB\n",
      "USD\n",
      "AUD\n",
      "HKD\n",
      "CAD\n",
      "NZD\n",
      "SGD\n",
      "EUR\n",
      "HUF\n",
      "CHF\n",
      "GBP\n",
      "UAH\n",
      "JPY\n",
      "CZK\n",
      "DKK\n",
      "ISK\n",
      "NOK\n",
      "SEK\n",
      "RON\n",
      "BGN\n",
      "TRY\n",
      "ILS\n",
      "CLP\n",
      "PHP\n",
      "MXN\n",
      "ZAR\n",
      "BRL\n",
      "MYR\n",
      "IDR\n",
      "INR\n",
      "KRW\n",
      "CNY\n",
      "XDR\n"
     ]
    }
   ],
   "source": [
    "for rate in data[0][\"rates\"]:\n",
    "    print(f\"{rate['code']}\")"
   ]
  },
  {
   "cell_type": "code",
   "execution_count": null,
   "id": "328aa894",
   "metadata": {},
   "outputs": [],
   "source": []
  }
 ],
 "metadata": {
  "kernelspec": {
   "display_name": "Python 3 (ipykernel)",
   "language": "python",
   "name": "python3"
  },
  "language_info": {
   "codemirror_mode": {
    "name": "ipython",
    "version": 3
   },
   "file_extension": ".py",
   "mimetype": "text/x-python",
   "name": "python",
   "nbconvert_exporter": "python",
   "pygments_lexer": "ipython3",
   "version": "3.9.7"
  }
 },
 "nbformat": 4,
 "nbformat_minor": 5
}
