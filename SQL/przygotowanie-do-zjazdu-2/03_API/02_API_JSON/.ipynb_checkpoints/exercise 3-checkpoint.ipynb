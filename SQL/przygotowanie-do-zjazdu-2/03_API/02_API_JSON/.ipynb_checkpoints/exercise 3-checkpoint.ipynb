{
 "cells": [
  {
   "cell_type": "markdown",
   "metadata": {},
   "source": [
    "# Zadanie 3\n",
    "\n",
    "Zapoznaj się z dokumentacją API [https://www.boredapi.com/documentation](boredapi.com). Jest to API, które sugeruje losowo wybraną aktywność, którą możesz się zająć aby zabić nudę. Znajdź w niej informację o tym, jak filtrować zwracane aktywności na podstawie ilości uczestników.\n",
    "\n",
    "Za pomocą funkcji `input(...)` zapytaj użytkownia o to, z iloma znajomymi chce się spotkać.\n",
    "\n",
    "Za pomocą biblioteki `requests` wykonaj zapytanie do API (pamiętaj o filtrze `participants`), i wyświetl sugerowaną aktywność.\n",
    "\n",
    "Pamiętaj, że podając w zapytaniu liczbę osób, oprócz liczby znajomych trzeba uwzględnić także samego użytkownika skryptu! "
   ]
  },
  {
   "cell_type": "code",
   "execution_count": 13,
   "metadata": {},
   "outputs": [],
   "source": [
    "import json\n",
    "import requests"
   ]
  },
  {
   "cell_type": "code",
   "execution_count": 14,
   "metadata": {},
   "outputs": [
    {
     "name": "stdout",
     "output_type": "stream",
     "text": [
      "Z iloma znajomymi chcesz się spotkać: 3\n",
      "Host a movie marathon with some friends\n"
     ]
    }
   ],
   "source": [
    "participants = int(input(\"Z iloma znajomymi chcesz się spotkać: \"))\n",
    "http = f\"https://www.boredapi.com/api/activity?participants={participants}.0\"\n",
    "response = requests.get(http)\n",
    "data = response.json() \n",
    "print(data[\"activity\"])"
   ]
  },
  {
   "cell_type": "code",
   "execution_count": null,
   "metadata": {},
   "outputs": [],
   "source": []
  }
 ],
 "metadata": {
  "kernelspec": {
   "display_name": "Python 3 (ipykernel)",
   "language": "python",
   "name": "python3"
  },
  "language_info": {
   "codemirror_mode": {
    "name": "ipython",
    "version": 3
   },
   "file_extension": ".py",
   "mimetype": "text/x-python",
   "name": "python",
   "nbconvert_exporter": "python",
   "pygments_lexer": "ipython3",
   "version": "3.9.13"
  }
 },
 "nbformat": 4,
 "nbformat_minor": 4
}
