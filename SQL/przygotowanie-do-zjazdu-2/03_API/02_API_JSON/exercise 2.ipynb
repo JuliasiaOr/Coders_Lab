{
 "cells": [
  {
   "cell_type": "markdown",
   "metadata": {},
   "source": [
    "# Zadanie 2\n",
    "\n",
    "Za pomocą funkcji `input(...)` zapytaj użytkownika, jaki kurs waluty go interesuje.\n",
    "\n",
    "Za pomocą biblioteki `requests` pobierz aktualny kurs waluty zwracany przez API pod adresem [http://api.nbp.pl/api/exchangerates/rates/a/chf/](http://api.nbp.pl/api/exchangerates/rates/a/PODANA_WALUTA/), i wyświetl w postaci:\n",
    "\n",
    "```\n",
    "SYMBOL (pełna nazwa): ??? PLN\n",
    "```"
   ]
  },
  {
   "cell_type": "code",
   "execution_count": null,
   "metadata": {},
   "outputs": [],
   "source": [
    "import json\n",
    "import requests\n",
    "waluta = input(\"Podaj walutę:\")\n",
    "http = f\"http://api.nbp.pl/api/exchangerates/tables/a/{waluta}/\"\n",
    "print(http)\n",
    "\n",
    "response = requests.get(http)\n",
    "data = response.json()\n",
    "\n",
    "print(data['code'],data['currency'],data['rates'][0]['mid'])"
   ]
  },
  {
   "cell_type": "code",
   "execution_count": null,
   "metadata": {},
   "outputs": [],
   "source": []
  }
 ],
 "metadata": {
  "kernelspec": {
   "display_name": "Python 3 (ipykernel)",
   "language": "python",
   "name": "python3"
  },
  "language_info": {
   "codemirror_mode": {
    "name": "ipython",
    "version": 3
   },
   "file_extension": ".py",
   "mimetype": "text/x-python",
   "name": "python",
   "nbconvert_exporter": "python",
   "pygments_lexer": "ipython3",
   "version": "3.9.13"
  }
 },
 "nbformat": 4,
 "nbformat_minor": 4
}
