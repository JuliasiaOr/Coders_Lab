{
 "cells": [
  {
   "cell_type": "markdown",
   "id": "ab6cdb4c",
   "metadata": {},
   "source": [
    "Obejrzyj zawartość pliku clients.json. Twoim zadaniem jest wyświetlenie kilku list:\n",
    "\n",
    "1. Lista imion i nazwisk kobiet\n",
    "\n",
    "2. Lista imion i nazwisk mężczyzn\n",
    "\n",
    "3. Lista aktywnych klientów\n",
    "\n",
    "4. Lista klientów z tagiem adipisicing\n",
    "\n",
    "5. Lista klientów o zielonych oczach\n",
    "\n",
    "6. Lista klientów z polskim numerem telefonu"
   ]
  },
  {
   "cell_type": "code",
   "execution_count": 1,
   "id": "acad1544",
   "metadata": {},
   "outputs": [],
   "source": [
    "import json"
   ]
  },
  {
   "cell_type": "markdown",
   "id": "bffebb45",
   "metadata": {},
   "source": [
    "### Wczytanie pliku"
   ]
  },
  {
   "cell_type": "code",
   "execution_count": 2,
   "id": "18aab140",
   "metadata": {},
   "outputs": [],
   "source": [
    "with open('clients.json') as plik:\n",
    "    data = json.loads(plik.read())"
   ]
  },
  {
   "cell_type": "code",
   "execution_count": 3,
   "id": "5a35a378",
   "metadata": {
    "scrolled": false
   },
   "outputs": [
    {
     "data": {
      "text/plain": [
       "{'clients': [{'guid': '68c625a8-8558-4e8d-bd07-dccf028aaf9a',\n",
       "   'isActive': False,\n",
       "   'balance': '$3,911.63',\n",
       "   'picture': 'http://placehold.it/32x32',\n",
       "   'age': 37,\n",
       "   'eyeColor': 'brown',\n",
       "   'name': 'Bennett Walter',\n",
       "   'gender': 'male',\n",
       "   'company': 'ZENSURE',\n",
       "   'email': 'bennettwalter@zensure.com',\n",
       "   'phone': '+48 549 572 114',\n",
       "   'address': '542 Reeve Place, Allensworth, Idaho, 4192',\n",
       "   'about': 'Amet consectetur amet eiusmod laborum cillum aute tempor Lorem sint consectetur occaecat eiusmod. In quis sunt consequat excepteur dolor consequat sint consequat dolor elit nostrud nisi excepteur. Dolore nisi proident ullamco ut proident aute labore officia eu velit proident aute tempor. Est quis anim ut irure est qui sunt enim consequat fugiat ex deserunt sunt. Ex duis ea aliqua elit et. Ut quis elit in nulla labore eu dolor cupidatat ut nisi sit velit eu ut. Eiusmod officia commodo ex in nostrud.\\r\\n',\n",
       "   'registered': '2020-12-06T07:46:47 -01:00',\n",
       "   'latitude': 9.469153,\n",
       "   'longitude': 117.293317,\n",
       "   'tags': ['occaecat',\n",
       "    'irure',\n",
       "    'dolore',\n",
       "    'eu',\n",
       "    'culpa',\n",
       "    'incididunt',\n",
       "    'adipisicing'],\n",
       "   'friends': [{'id': 0, 'name': 'Perez Thornton'},\n",
       "    {'id': 1, 'name': 'Willis Berry'},\n",
       "    {'id': 2, 'name': 'Malinda Nunez'}]},\n",
       "  {'guid': '6c8202a0-a6e6-47af-ac1a-ba5b4feadf60',\n",
       "   'isActive': False,\n",
       "   'balance': '$1,442.29',\n",
       "   'picture': 'http://placehold.it/32x32',\n",
       "   'age': 33,\n",
       "   'eyeColor': 'green',\n",
       "   'name': 'Alexandra Garrison',\n",
       "   'gender': 'female',\n",
       "   'company': 'FARMAGE',\n",
       "   'email': 'alexandragarrison@farmage.com',\n",
       "   'phone': '+1 (956) 578-2293',\n",
       "   'address': '572 Adelphi Street, Trucksville, Wyoming, 6804',\n",
       "   'about': 'Fugiat velit officia veniam sunt ea eu. Consequat consectetur qui esse cillum. Ex laboris et ad voluptate do voluptate ipsum amet velit. Aliquip nostrud duis velit nulla laborum ipsum ut fugiat. Aute nostrud cillum adipisicing sit enim nisi adipisicing dolore cillum veniam qui incididunt culpa.\\r\\n',\n",
       "   'registered': '2020-05-22T03:23:06 -02:00',\n",
       "   'latitude': 39.309021,\n",
       "   'longitude': 44.935689,\n",
       "   'tags': ['adipisicing',\n",
       "    'tempor',\n",
       "    'sit',\n",
       "    'eiusmod',\n",
       "    'officia',\n",
       "    'aliquip',\n",
       "    'ea'],\n",
       "   'friends': [{'id': 0, 'name': 'Mcguire Rosales'},\n",
       "    {'id': 1, 'name': 'Vonda Lara'},\n",
       "    {'id': 2, 'name': 'Floyd Wall'}]},\n",
       "  {'guid': 'b9d382d1-2ae9-4499-a021-6a5b35155ede',\n",
       "   'isActive': False,\n",
       "   'balance': '$3,361.84',\n",
       "   'picture': 'http://placehold.it/32x32',\n",
       "   'age': 30,\n",
       "   'eyeColor': 'green',\n",
       "   'name': 'Jane Nash',\n",
       "   'gender': 'female',\n",
       "   'company': 'ECRATER',\n",
       "   'email': 'janenash@ecrater.com',\n",
       "   'phone': '+1 (850) 595-2594',\n",
       "   'address': '942 Story Court, Nogal, Massachusetts, 665',\n",
       "   'about': 'Sint eu labore est qui. Est dolor dolore do laboris culpa eiusmod dolor ullamco ea irure in esse. Non adipisicing quis enim mollit. In sunt do eu ad culpa et. Laboris voluptate exercitation deserunt amet dolor non incididunt incididunt nulla.\\r\\n',\n",
       "   'registered': '2018-06-30T06:42:49 -02:00',\n",
       "   'latitude': -52.908724,\n",
       "   'longitude': 95.765699,\n",
       "   'tags': ['esse',\n",
       "    'aliquip',\n",
       "    'cupidatat',\n",
       "    'labore',\n",
       "    'minim',\n",
       "    'dolore',\n",
       "    'proident'],\n",
       "   'friends': [{'id': 0, 'name': 'Fran Ward'},\n",
       "    {'id': 1, 'name': 'Mcgowan Mosley'},\n",
       "    {'id': 2, 'name': 'Leanne Horne'}]},\n",
       "  {'guid': 'a5406784-ca1e-44f4-a6a7-e6ad123680e5',\n",
       "   'isActive': False,\n",
       "   'balance': '$2,958.51',\n",
       "   'picture': 'http://placehold.it/32x32',\n",
       "   'age': 23,\n",
       "   'eyeColor': 'blue',\n",
       "   'name': 'Edwina Whitley',\n",
       "   'gender': 'female',\n",
       "   'company': 'BARKARAMA',\n",
       "   'email': 'edwinawhitley@barkarama.com',\n",
       "   'phone': '+1 (886) 456-3827',\n",
       "   'address': '888 Maujer Street, Ezel, Hawaii, 7415',\n",
       "   'about': 'Esse nostrud eiusmod fugiat amet esse proident fugiat cupidatat labore eiusmod. Nulla et mollit do sunt elit adipisicing voluptate aliquip sint cupidatat velit eiusmod adipisicing exercitation. Culpa labore id veniam eu cillum. Amet velit dolore reprehenderit sunt dolore tempor velit ut veniam esse culpa Lorem.\\r\\n',\n",
       "   'registered': '2016-12-08T07:37:01 -01:00',\n",
       "   'latitude': 48.935139,\n",
       "   'longitude': 169.440289,\n",
       "   'tags': ['est', 'consequat', 'labore', 'ex', 'Lorem', 'laboris', 'nostrud'],\n",
       "   'friends': [{'id': 0, 'name': 'Desiree Bray'},\n",
       "    {'id': 1, 'name': 'Nadia Snow'},\n",
       "    {'id': 2, 'name': 'Leann Cunningham'}]},\n",
       "  {'guid': '2325ae08-94c3-43f4-8fee-ea6917ea1e82',\n",
       "   'isActive': True,\n",
       "   'balance': '$3,148.31',\n",
       "   'picture': 'http://placehold.it/32x32',\n",
       "   'age': 38,\n",
       "   'eyeColor': 'green',\n",
       "   'name': 'Burris Rodriquez',\n",
       "   'gender': 'male',\n",
       "   'company': 'GORGANIC',\n",
       "   'email': 'burrisrodriquez@gorganic.com',\n",
       "   'phone': '+1 (857) 463-3165',\n",
       "   'address': '668 Kiely Place, Olney, Tennessee, 2269',\n",
       "   'about': 'Ipsum irure dolore eiusmod nostrud et aliquip ea anim consectetur aliquip duis eu. Et qui qui sit eu fugiat enim sint. Qui et Lorem voluptate proident. Elit proident voluptate dolore aliqua nulla aliquip et exercitation occaecat consequat enim enim voluptate eiusmod.\\r\\n',\n",
       "   'registered': '2019-05-03T08:51:23 -02:00',\n",
       "   'latitude': -69.41408,\n",
       "   'longitude': -33.37304,\n",
       "   'tags': ['qui',\n",
       "    'labore',\n",
       "    'consequat',\n",
       "    'enim',\n",
       "    'magna',\n",
       "    'aliquip',\n",
       "    'minim',\n",
       "    'adipisicing'],\n",
       "   'friends': [{'id': 0, 'name': 'Antoinette Brennan'},\n",
       "    {'id': 1, 'name': 'Horn Powell'},\n",
       "    {'id': 2, 'name': 'Gilliam Hooper'}]}]}"
      ]
     },
     "execution_count": 3,
     "metadata": {},
     "output_type": "execute_result"
    }
   ],
   "source": [
    "data"
   ]
  },
  {
   "cell_type": "code",
   "execution_count": 4,
   "id": "9a6e1761",
   "metadata": {},
   "outputs": [
    {
     "name": "stdout",
     "output_type": "stream",
     "text": [
      "[{'guid': '68c625a8-8558-4e8d-bd07-dccf028aaf9a', 'isActive': False, 'balance': '$3,911.63', 'picture': 'http://placehold.it/32x32', 'age': 37, 'eyeColor': 'brown', 'name': 'Bennett Walter', 'gender': 'male', 'company': 'ZENSURE', 'email': 'bennettwalter@zensure.com', 'phone': '+48 549 572 114', 'address': '542 Reeve Place, Allensworth, Idaho, 4192', 'about': 'Amet consectetur amet eiusmod laborum cillum aute tempor Lorem sint consectetur occaecat eiusmod. In quis sunt consequat excepteur dolor consequat sint consequat dolor elit nostrud nisi excepteur. Dolore nisi proident ullamco ut proident aute labore officia eu velit proident aute tempor. Est quis anim ut irure est qui sunt enim consequat fugiat ex deserunt sunt. Ex duis ea aliqua elit et. Ut quis elit in nulla labore eu dolor cupidatat ut nisi sit velit eu ut. Eiusmod officia commodo ex in nostrud.\\r\\n', 'registered': '2020-12-06T07:46:47 -01:00', 'latitude': 9.469153, 'longitude': 117.293317, 'tags': ['occaecat', 'irure', 'dolore', 'eu', 'culpa', 'incididunt', 'adipisicing'], 'friends': [{'id': 0, 'name': 'Perez Thornton'}, {'id': 1, 'name': 'Willis Berry'}, {'id': 2, 'name': 'Malinda Nunez'}]}, {'guid': '6c8202a0-a6e6-47af-ac1a-ba5b4feadf60', 'isActive': False, 'balance': '$1,442.29', 'picture': 'http://placehold.it/32x32', 'age': 33, 'eyeColor': 'green', 'name': 'Alexandra Garrison', 'gender': 'female', 'company': 'FARMAGE', 'email': 'alexandragarrison@farmage.com', 'phone': '+1 (956) 578-2293', 'address': '572 Adelphi Street, Trucksville, Wyoming, 6804', 'about': 'Fugiat velit officia veniam sunt ea eu. Consequat consectetur qui esse cillum. Ex laboris et ad voluptate do voluptate ipsum amet velit. Aliquip nostrud duis velit nulla laborum ipsum ut fugiat. Aute nostrud cillum adipisicing sit enim nisi adipisicing dolore cillum veniam qui incididunt culpa.\\r\\n', 'registered': '2020-05-22T03:23:06 -02:00', 'latitude': 39.309021, 'longitude': 44.935689, 'tags': ['adipisicing', 'tempor', 'sit', 'eiusmod', 'officia', 'aliquip', 'ea'], 'friends': [{'id': 0, 'name': 'Mcguire Rosales'}, {'id': 1, 'name': 'Vonda Lara'}, {'id': 2, 'name': 'Floyd Wall'}]}, {'guid': 'b9d382d1-2ae9-4499-a021-6a5b35155ede', 'isActive': False, 'balance': '$3,361.84', 'picture': 'http://placehold.it/32x32', 'age': 30, 'eyeColor': 'green', 'name': 'Jane Nash', 'gender': 'female', 'company': 'ECRATER', 'email': 'janenash@ecrater.com', 'phone': '+1 (850) 595-2594', 'address': '942 Story Court, Nogal, Massachusetts, 665', 'about': 'Sint eu labore est qui. Est dolor dolore do laboris culpa eiusmod dolor ullamco ea irure in esse. Non adipisicing quis enim mollit. In sunt do eu ad culpa et. Laboris voluptate exercitation deserunt amet dolor non incididunt incididunt nulla.\\r\\n', 'registered': '2018-06-30T06:42:49 -02:00', 'latitude': -52.908724, 'longitude': 95.765699, 'tags': ['esse', 'aliquip', 'cupidatat', 'labore', 'minim', 'dolore', 'proident'], 'friends': [{'id': 0, 'name': 'Fran Ward'}, {'id': 1, 'name': 'Mcgowan Mosley'}, {'id': 2, 'name': 'Leanne Horne'}]}, {'guid': 'a5406784-ca1e-44f4-a6a7-e6ad123680e5', 'isActive': False, 'balance': '$2,958.51', 'picture': 'http://placehold.it/32x32', 'age': 23, 'eyeColor': 'blue', 'name': 'Edwina Whitley', 'gender': 'female', 'company': 'BARKARAMA', 'email': 'edwinawhitley@barkarama.com', 'phone': '+1 (886) 456-3827', 'address': '888 Maujer Street, Ezel, Hawaii, 7415', 'about': 'Esse nostrud eiusmod fugiat amet esse proident fugiat cupidatat labore eiusmod. Nulla et mollit do sunt elit adipisicing voluptate aliquip sint cupidatat velit eiusmod adipisicing exercitation. Culpa labore id veniam eu cillum. Amet velit dolore reprehenderit sunt dolore tempor velit ut veniam esse culpa Lorem.\\r\\n', 'registered': '2016-12-08T07:37:01 -01:00', 'latitude': 48.935139, 'longitude': 169.440289, 'tags': ['est', 'consequat', 'labore', 'ex', 'Lorem', 'laboris', 'nostrud'], 'friends': [{'id': 0, 'name': 'Desiree Bray'}, {'id': 1, 'name': 'Nadia Snow'}, {'id': 2, 'name': 'Leann Cunningham'}]}, {'guid': '2325ae08-94c3-43f4-8fee-ea6917ea1e82', 'isActive': True, 'balance': '$3,148.31', 'picture': 'http://placehold.it/32x32', 'age': 38, 'eyeColor': 'green', 'name': 'Burris Rodriquez', 'gender': 'male', 'company': 'GORGANIC', 'email': 'burrisrodriquez@gorganic.com', 'phone': '+1 (857) 463-3165', 'address': '668 Kiely Place, Olney, Tennessee, 2269', 'about': 'Ipsum irure dolore eiusmod nostrud et aliquip ea anim consectetur aliquip duis eu. Et qui qui sit eu fugiat enim sint. Qui et Lorem voluptate proident. Elit proident voluptate dolore aliqua nulla aliquip et exercitation occaecat consequat enim enim voluptate eiusmod.\\r\\n', 'registered': '2019-05-03T08:51:23 -02:00', 'latitude': -69.41408, 'longitude': -33.37304, 'tags': ['qui', 'labore', 'consequat', 'enim', 'magna', 'aliquip', 'minim', 'adipisicing'], 'friends': [{'id': 0, 'name': 'Antoinette Brennan'}, {'id': 1, 'name': 'Horn Powell'}, {'id': 2, 'name': 'Gilliam Hooper'}]}]\n"
     ]
    }
   ],
   "source": [
    "# wypisz wszystkich klientow\n",
    "clients = data['clients']\n",
    "print(clients)"
   ]
  },
  {
   "cell_type": "markdown",
   "id": "8da69266",
   "metadata": {},
   "source": [
    "### 1. Lista imion i nazwisk kobiet"
   ]
  },
  {
   "cell_type": "code",
   "execution_count": 5,
   "id": "0fa15127",
   "metadata": {},
   "outputs": [
    {
     "name": "stdout",
     "output_type": "stream",
     "text": [
      "['Alexandra Garrison', 'Jane Nash', 'Edwina Whitley']\n"
     ]
    }
   ],
   "source": [
    "# utworz liste kobiet\n",
    "womens = []\n",
    "\n",
    "for client in clients:\n",
    "    if client['gender'] == 'female':\n",
    "        womens.append(client['name'])\n",
    "\n",
    "print(womens)"
   ]
  },
  {
   "cell_type": "markdown",
   "id": "5eff1914",
   "metadata": {},
   "source": [
    "### 2. Lista imion i nazwisk mężczyzn"
   ]
  },
  {
   "cell_type": "code",
   "execution_count": 6,
   "id": "88a49593",
   "metadata": {},
   "outputs": [
    {
     "name": "stdout",
     "output_type": "stream",
     "text": [
      "['Bennett Walter', 'Burris Rodriquez']\n"
     ]
    }
   ],
   "source": [
    "# utworz liste kobiet\n",
    "mens = []\n",
    "\n",
    "for client in clients:\n",
    "    if client['gender'] == 'male':\n",
    "        mens.append(client['name'])\n",
    "\n",
    "print(mens)"
   ]
  },
  {
   "cell_type": "markdown",
   "id": "e702312b",
   "metadata": {},
   "source": [
    "### 3. Lista aktywnych klientów"
   ]
  },
  {
   "cell_type": "code",
   "execution_count": 7,
   "id": "c470b54e",
   "metadata": {},
   "outputs": [
    {
     "name": "stdout",
     "output_type": "stream",
     "text": [
      "['Burris Rodriquez']\n"
     ]
    }
   ],
   "source": [
    "active_client = []\n",
    "for client in clients:\n",
    "    if client['isActive'] == True:\n",
    "        active_client.append(client['name'])\n",
    "        \n",
    "print(active_client)"
   ]
  },
  {
   "cell_type": "markdown",
   "id": "4ed9bf77",
   "metadata": {},
   "source": [
    "### 4. Lista klientów z tagiem adipisicing"
   ]
  },
  {
   "cell_type": "code",
   "execution_count": 8,
   "id": "785d7dec",
   "metadata": {},
   "outputs": [
    {
     "name": "stdout",
     "output_type": "stream",
     "text": [
      "['Bennett Walter', 'Alexandra Garrison', 'Burris Rodriquez']\n"
     ]
    }
   ],
   "source": [
    "tag = []\n",
    "\n",
    "for client in clients:\n",
    "    if 'adipisicing' in client['tags']:\n",
    "        tag.append(client['name'])\n",
    "\n",
    "print(tag)"
   ]
  },
  {
   "cell_type": "markdown",
   "id": "b52042c8",
   "metadata": {},
   "source": [
    "### 5. Lista klientów o zielonych oczach"
   ]
  },
  {
   "cell_type": "code",
   "execution_count": 9,
   "id": "35c24936",
   "metadata": {},
   "outputs": [
    {
     "name": "stdout",
     "output_type": "stream",
     "text": [
      "['Alexandra Garrison', 'Jane Nash', 'Burris Rodriquez']\n"
     ]
    }
   ],
   "source": [
    "green_eyes = []\n",
    "\n",
    "for client in clients:\n",
    "    if 'green' in client['eyeColor']:\n",
    "        green_eyes.append(client['name'])\n",
    "\n",
    "print(green_eyes)"
   ]
  },
  {
   "cell_type": "markdown",
   "id": "b9bbbbc1",
   "metadata": {},
   "source": [
    "### 6. Lista klientów z polskim numerem telefonu"
   ]
  },
  {
   "cell_type": "code",
   "execution_count": 10,
   "id": "18048957",
   "metadata": {},
   "outputs": [
    {
     "name": "stdout",
     "output_type": "stream",
     "text": [
      "['Bennett Walter']\n"
     ]
    }
   ],
   "source": [
    "polish_number = []\n",
    "for client in clients:\n",
    "    if client['phone'].startswith(\"+48\"):\n",
    "        polish_number.append(client['name'])\n",
    "print(polish_number)"
   ]
  },
  {
   "cell_type": "code",
   "execution_count": null,
   "id": "ae3a8a7c",
   "metadata": {},
   "outputs": [],
   "source": []
  }
 ],
 "metadata": {
  "kernelspec": {
   "display_name": "Python 3 (ipykernel)",
   "language": "python",
   "name": "python3"
  },
  "language_info": {
   "codemirror_mode": {
    "name": "ipython",
    "version": 3
   },
   "file_extension": ".py",
   "mimetype": "text/x-python",
   "name": "python",
   "nbconvert_exporter": "python",
   "pygments_lexer": "ipython3",
   "version": "3.9.7"
  }
 },
 "nbformat": 4,
 "nbformat_minor": 5
}
