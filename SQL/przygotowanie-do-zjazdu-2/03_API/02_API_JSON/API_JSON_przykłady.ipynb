{
 "cells": [
  {
   "cell_type": "markdown",
   "id": "b0159dc7",
   "metadata": {},
   "source": [
    "### 1. Requests"
   ]
  },
  {
   "cell_type": "code",
   "execution_count": 1,
   "id": "3d6913d3",
   "metadata": {},
   "outputs": [],
   "source": [
    "import requests"
   ]
  },
  {
   "cell_type": "markdown",
   "id": "758136db",
   "metadata": {},
   "source": [
    "***Przykład 1: błąd połączenia***"
   ]
  },
  {
   "cell_type": "code",
   "execution_count": 6,
   "id": "6306902e",
   "metadata": {},
   "outputs": [],
   "source": [
    "response = requests.get('https://goweather.herokuapp.com/weather/Warszawa')"
   ]
  },
  {
   "cell_type": "code",
   "execution_count": 3,
   "id": "b0416469",
   "metadata": {},
   "outputs": [
    {
     "data": {
      "text/plain": [
       "<Response [404]>"
      ]
     },
     "execution_count": 3,
     "metadata": {},
     "output_type": "execute_result"
    }
   ],
   "source": [
    "response"
   ]
  },
  {
   "cell_type": "code",
   "execution_count": 4,
   "id": "8dce447c",
   "metadata": {},
   "outputs": [
    {
     "name": "stdout",
     "output_type": "stream",
     "text": [
      "False\n"
     ]
    }
   ],
   "source": [
    "print(response.ok) "
   ]
  },
  {
   "cell_type": "code",
   "execution_count": 5,
   "id": "ad49bf0d",
   "metadata": {},
   "outputs": [
    {
     "name": "stdout",
     "output_type": "stream",
     "text": [
      "{'message': 'NOT_FOUND'}\n"
     ]
    }
   ],
   "source": [
    "print(response.json()) "
   ]
  },
  {
   "cell_type": "markdown",
   "id": "153b8e69",
   "metadata": {},
   "source": [
    "***Przykład 2: połączenie udane***"
   ]
  },
  {
   "cell_type": "code",
   "execution_count": 8,
   "id": "6d294d7a",
   "metadata": {},
   "outputs": [],
   "source": [
    "response = requests.get('https://httpbin.org/get')"
   ]
  },
  {
   "cell_type": "code",
   "execution_count": 9,
   "id": "2ede244c",
   "metadata": {},
   "outputs": [
    {
     "data": {
      "text/plain": [
       "<Response [200]>"
      ]
     },
     "execution_count": 9,
     "metadata": {},
     "output_type": "execute_result"
    }
   ],
   "source": [
    "response"
   ]
  },
  {
   "cell_type": "code",
   "execution_count": 10,
   "id": "c74ceecd",
   "metadata": {},
   "outputs": [
    {
     "name": "stdout",
     "output_type": "stream",
     "text": [
      "True\n"
     ]
    }
   ],
   "source": [
    "print(response.ok) "
   ]
  },
  {
   "cell_type": "code",
   "execution_count": 11,
   "id": "e8d5907e",
   "metadata": {},
   "outputs": [
    {
     "name": "stdout",
     "output_type": "stream",
     "text": [
      "{'args': {}, 'headers': {'Accept': '*/*', 'Accept-Encoding': 'gzip, deflate, br', 'Host': 'httpbin.org', 'User-Agent': 'python-requests/2.28.1', 'X-Amzn-Trace-Id': 'Root=1-63833e01-5883348b59ad261b084e4fd7'}, 'origin': '80.238.118.34', 'url': 'https://httpbin.org/get'}\n"
     ]
    }
   ],
   "source": [
    "print(response.json()) "
   ]
  },
  {
   "cell_type": "markdown",
   "id": "a2fdb8c4",
   "metadata": {},
   "source": [
    "***Przykład 3.*** API narodowego banku polskiego ceny złota"
   ]
  },
  {
   "cell_type": "code",
   "execution_count": 12,
   "id": "35ce37d8",
   "metadata": {},
   "outputs": [],
   "source": [
    "response = requests.get('http://api.nbp.pl/api/cenyzlota')"
   ]
  },
  {
   "cell_type": "code",
   "execution_count": 17,
   "id": "71cf57a0",
   "metadata": {},
   "outputs": [
    {
     "name": "stdout",
     "output_type": "stream",
     "text": [
      "<Response [200]>\n",
      "200\n"
     ]
    }
   ],
   "source": [
    "print(response)\n",
    "print(response.status_code)"
   ]
  },
  {
   "cell_type": "code",
   "execution_count": 16,
   "id": "61669b1c",
   "metadata": {},
   "outputs": [
    {
     "name": "stdout",
     "output_type": "stream",
     "text": [
      "[{'data': '2022-11-25', 'cena': 254.55}]\n",
      "[{\"data\":\"2022-11-25\",\"cena\":254.55}]\n"
     ]
    }
   ],
   "source": [
    "print(response.json())\n",
    "print(response.text)"
   ]
  },
  {
   "cell_type": "markdown",
   "id": "d7a70023",
   "metadata": {},
   "source": [
    "***Przykład 4.***  API narodowego banku polskiego: CHF"
   ]
  },
  {
   "cell_type": "code",
   "execution_count": 18,
   "id": "7eb5720c",
   "metadata": {},
   "outputs": [],
   "source": [
    "response = requests.get('http://api.nbp.pl/api/exchangerates/rates/a/chf/')"
   ]
  },
  {
   "cell_type": "code",
   "execution_count": 19,
   "id": "91686882",
   "metadata": {},
   "outputs": [
    {
     "name": "stdout",
     "output_type": "stream",
     "text": [
      "200\n"
     ]
    }
   ],
   "source": [
    "print(response.status_code)"
   ]
  },
  {
   "cell_type": "code",
   "execution_count": 20,
   "id": "f84fa335",
   "metadata": {},
   "outputs": [
    {
     "name": "stdout",
     "output_type": "stream",
     "text": [
      "{\"table\":\"A\",\"currency\":\"frank szwajcarski\",\"code\":\"CHF\",\"rates\":[{\"no\":\"228/A/NBP/2022\",\"effectiveDate\":\"2022-11-25\",\"mid\":4.7729}]}\n"
     ]
    }
   ],
   "source": [
    "print(response.text)"
   ]
  },
  {
   "cell_type": "markdown",
   "id": "5e7c4114",
   "metadata": {},
   "source": [
    "***Przykład 5.*** Odpytwanie za pomocą API o ceny złota w styczniu 2013 roku (ogólnie) oraz 2 stycznia i 31."
   ]
  },
  {
   "cell_type": "code",
   "execution_count": 22,
   "id": "3382e0a0",
   "metadata": {},
   "outputs": [],
   "source": [
    "response = requests.get('http://api.nbp.pl/api/cenyzlota/2013-01-01/2013-12-31/')"
   ]
  },
  {
   "cell_type": "code",
   "execution_count": 23,
   "id": "55da2e85",
   "metadata": {},
   "outputs": [
    {
     "name": "stdout",
     "output_type": "stream",
     "text": [
      "200\n"
     ]
    }
   ],
   "source": [
    "print(response.status_code)"
   ]
  },
  {
   "cell_type": "code",
   "execution_count": 24,
   "id": "6ab51209",
   "metadata": {},
   "outputs": [],
   "source": [
    "curreny_data = response.json()"
   ]
  },
  {
   "cell_type": "code",
   "execution_count": 25,
   "id": "b8b81a38",
   "metadata": {
    "scrolled": false
   },
   "outputs": [
    {
     "data": {
      "text/plain": [
       "[{'data': '2013-01-02', 'cena': 165.83},\n",
       " {'data': '2013-01-03', 'cena': 166.97},\n",
       " {'data': '2013-01-04', 'cena': 167.43},\n",
       " {'data': '2013-01-07', 'cena': 167.98},\n",
       " {'data': '2013-01-08', 'cena': 167.26},\n",
       " {'data': '2013-01-09', 'cena': 167.48},\n",
       " {'data': '2013-01-10', 'cena': 167.98},\n",
       " {'data': '2013-01-11', 'cena': 167.59},\n",
       " {'data': '2013-01-14', 'cena': 164.61},\n",
       " {'data': '2013-01-15', 'cena': 165.18},\n",
       " {'data': '2013-01-16', 'cena': 166.14},\n",
       " {'data': '2013-01-17', 'cena': 167.58},\n",
       " {'data': '2013-01-18', 'cena': 166.14},\n",
       " {'data': '2013-01-21', 'cena': 167.89},\n",
       " {'data': '2013-01-22', 'cena': 170.11},\n",
       " {'data': '2013-01-23', 'cena': 170.34},\n",
       " {'data': '2013-01-24', 'cena': 169.51},\n",
       " {'data': '2013-01-25', 'cena': 169.23},\n",
       " {'data': '2013-01-28', 'cena': 166.44},\n",
       " {'data': '2013-01-29', 'cena': 165.5},\n",
       " {'data': '2013-01-30', 'cena': 167.01},\n",
       " {'data': '2013-01-31', 'cena': 166.85},\n",
       " {'data': '2013-02-01', 'cena': 165.24},\n",
       " {'data': '2013-02-04', 'cena': 164.97},\n",
       " {'data': '2013-02-05', 'cena': 163.7},\n",
       " {'data': '2013-02-06', 'cena': 165.9},\n",
       " {'data': '2013-02-07', 'cena': 166.16},\n",
       " {'data': '2013-02-08', 'cena': 165.64},\n",
       " {'data': '2013-02-11', 'cena': 166.58},\n",
       " {'data': '2013-02-12', 'cena': 164.59},\n",
       " {'data': '2013-02-13', 'cena': 165.05},\n",
       " {'data': '2013-02-14', 'cena': 164.02},\n",
       " {'data': '2013-02-15', 'cena': 165.16},\n",
       " {'data': '2013-02-18', 'cena': 162.77},\n",
       " {'data': '2013-02-19', 'cena': 162.67},\n",
       " {'data': '2013-02-20', 'cena': 162.1},\n",
       " {'data': '2013-02-21', 'cena': 158.33},\n",
       " {'data': '2013-02-22', 'cena': 160.38},\n",
       " {'data': '2013-02-25', 'cena': 159.38},\n",
       " {'data': '2013-02-26', 'cena': 160.2},\n",
       " {'data': '2013-02-27', 'cena': 162.28},\n",
       " {'data': '2013-02-28', 'cena': 164.24},\n",
       " {'data': '2013-03-01', 'cena': 161.78},\n",
       " {'data': '2013-03-04', 'cena': 161.61},\n",
       " {'data': '2013-03-05', 'cena': 161.13},\n",
       " {'data': '2013-03-06', 'cena': 160.83},\n",
       " {'data': '2013-03-07', 'cena': 160.23},\n",
       " {'data': '2013-03-08', 'cena': 161.52},\n",
       " {'data': '2013-03-11', 'cena': 161.18},\n",
       " {'data': '2013-03-12', 'cena': 161.59},\n",
       " {'data': '2013-03-13', 'cena': 163.42},\n",
       " {'data': '2013-03-14', 'cena': 162.82},\n",
       " {'data': '2013-03-15', 'cena': 163.17},\n",
       " {'data': '2013-03-18', 'cena': 163.48},\n",
       " {'data': '2013-03-19', 'cena': 165.07},\n",
       " {'data': '2013-03-20', 'cena': 166.01},\n",
       " {'data': '2013-03-21', 'cena': 166.25},\n",
       " {'data': '2013-03-22', 'cena': 168.02},\n",
       " {'data': '2013-03-25', 'cena': 167.27},\n",
       " {'data': '2013-03-26', 'cena': 164.29},\n",
       " {'data': '2013-03-27', 'cena': 166.61},\n",
       " {'data': '2013-03-28', 'cena': 168.2},\n",
       " {'data': '2013-03-29', 'cena': 168.42},\n",
       " {'data': '2013-04-02', 'cena': 167.48},\n",
       " {'data': '2013-04-03', 'cena': 165.72},\n",
       " {'data': '2013-04-04', 'cena': 165.52},\n",
       " {'data': '2013-04-05', 'cena': 162.83},\n",
       " {'data': '2013-04-08', 'cena': 163.12},\n",
       " {'data': '2013-04-09', 'cena': 161.51},\n",
       " {'data': '2013-04-10', 'cena': 160.73},\n",
       " {'data': '2013-04-11', 'cena': 159.03},\n",
       " {'data': '2013-04-12', 'cena': 157.91},\n",
       " {'data': '2013-04-15', 'cena': 155.7},\n",
       " {'data': '2013-04-16', 'cena': 141.29},\n",
       " {'data': '2013-04-17', 'cena': 140.03},\n",
       " {'data': '2013-04-18', 'cena': 139.44},\n",
       " {'data': '2013-04-19', 'cena': 141.28},\n",
       " {'data': '2013-04-22', 'cena': 141.94},\n",
       " {'data': '2013-04-23', 'cena': 144.03},\n",
       " {'data': '2013-04-24', 'cena': 144.01},\n",
       " {'data': '2013-04-25', 'cena': 146.16},\n",
       " {'data': '2013-04-26', 'cena': 148.31},\n",
       " {'data': '2013-04-29', 'cena': 151.12},\n",
       " {'data': '2013-04-30', 'cena': 149.62},\n",
       " {'data': '2013-05-02', 'cena': 148.36},\n",
       " {'data': '2013-05-06', 'cena': 148.77},\n",
       " {'data': '2013-05-07', 'cena': 149.5},\n",
       " {'data': '2013-05-08', 'cena': 147.49},\n",
       " {'data': '2013-05-09', 'cena': 149.19},\n",
       " {'data': '2013-05-10', 'cena': 147.92},\n",
       " {'data': '2013-05-13', 'cena': 146.11},\n",
       " {'data': '2013-05-14', 'cena': 147.43},\n",
       " {'data': '2013-05-15', 'cena': 147.51},\n",
       " {'data': '2013-05-16', 'cena': 146.6},\n",
       " {'data': '2013-05-17', 'cena': 144.39},\n",
       " {'data': '2013-05-20', 'cena': 143.12},\n",
       " {'data': '2013-05-21', 'cena': 141.05},\n",
       " {'data': '2013-05-22', 'cena': 142.14},\n",
       " {'data': '2013-05-23', 'cena': 146.39},\n",
       " {'data': '2013-05-24', 'cena': 144.62},\n",
       " {'data': '2013-05-27', 'cena': 144.83},\n",
       " {'data': '2013-05-28', 'cena': 144.9},\n",
       " {'data': '2013-05-29', 'cena': 143.69},\n",
       " {'data': '2013-05-31', 'cena': 149.22},\n",
       " {'data': '2013-06-03', 'cena': 147.73},\n",
       " {'data': '2013-06-04', 'cena': 148.19},\n",
       " {'data': '2013-06-05', 'cena': 146.36},\n",
       " {'data': '2013-06-06', 'cena': 146.35},\n",
       " {'data': '2013-06-07', 'cena': 146.57},\n",
       " {'data': '2013-06-10', 'cena': 145.02},\n",
       " {'data': '2013-06-11', 'cena': 143.24},\n",
       " {'data': '2013-06-12', 'cena': 142.26},\n",
       " {'data': '2013-06-13', 'cena': 142.28},\n",
       " {'data': '2013-06-14', 'cena': 142.5},\n",
       " {'data': '2013-06-17', 'cena': 141.59},\n",
       " {'data': '2013-06-18', 'cena': 141.21},\n",
       " {'data': '2013-06-19', 'cena': 139.21},\n",
       " {'data': '2013-06-20', 'cena': 140.26},\n",
       " {'data': '2013-06-21', 'cena': 135.87},\n",
       " {'data': '2013-06-24', 'cena': 136.34},\n",
       " {'data': '2013-06-25', 'cena': 137.09},\n",
       " {'data': '2013-06-26', 'cena': 135.04},\n",
       " {'data': '2013-06-27', 'cena': 132.13},\n",
       " {'data': '2013-06-28', 'cena': 131.73},\n",
       " {'data': '2013-07-01', 'cena': 127.13},\n",
       " {'data': '2013-07-02', 'cena': 132.71},\n",
       " {'data': '2013-07-03', 'cena': 133.78},\n",
       " {'data': '2013-07-04', 'cena': 134.7},\n",
       " {'data': '2013-07-05', 'cena': 133.82},\n",
       " {'data': '2013-07-08', 'cena': 129.62},\n",
       " {'data': '2013-07-09', 'cena': 133.33},\n",
       " {'data': '2013-07-10', 'cena': 135.59},\n",
       " {'data': '2013-07-11', 'cena': 136.18},\n",
       " {'data': '2013-07-12', 'cena': 137.25},\n",
       " {'data': '2013-07-15', 'cena': 136.62},\n",
       " {'data': '2013-07-16', 'cena': 136.14},\n",
       " {'data': '2013-07-17', 'cena': 135.92},\n",
       " {'data': '2013-07-18', 'cena': 135.18},\n",
       " {'data': '2013-07-19', 'cena': 133.53},\n",
       " {'data': '2013-07-22', 'cena': 134.76},\n",
       " {'data': '2013-07-23', 'cena': 137.12},\n",
       " {'data': '2013-07-24', 'cena': 137.19},\n",
       " {'data': '2013-07-25', 'cena': 136.49},\n",
       " {'data': '2013-07-26', 'cena': 137.03},\n",
       " {'data': '2013-07-29', 'cena': 136.2},\n",
       " {'data': '2013-07-30', 'cena': 136.2},\n",
       " {'data': '2013-07-31', 'cena': 135.36},\n",
       " {'data': '2013-08-01', 'cena': 134.93},\n",
       " {'data': '2013-08-02', 'cena': 135.13},\n",
       " {'data': '2013-08-05', 'cena': 135.53},\n",
       " {'data': '2013-08-06', 'cena': 133.28},\n",
       " {'data': '2013-08-07', 'cena': 130.69},\n",
       " {'data': '2013-08-08', 'cena': 130.8},\n",
       " {'data': '2013-08-09', 'cena': 131.49},\n",
       " {'data': '2013-08-12', 'cena': 131.89},\n",
       " {'data': '2013-08-13', 'cena': 135.84},\n",
       " {'data': '2013-08-14', 'cena': 134.49},\n",
       " {'data': '2013-08-16', 'cena': 135.27},\n",
       " {'data': '2013-08-19', 'cena': 139.39},\n",
       " {'data': '2013-08-20', 'cena': 139.89},\n",
       " {'data': '2013-08-21', 'cena': 140.16},\n",
       " {'data': '2013-08-22', 'cena': 138.9},\n",
       " {'data': '2013-08-23', 'cena': 140.67},\n",
       " {'data': '2013-08-26', 'cena': 140.28},\n",
       " {'data': '2013-08-27', 'cena': 140.21},\n",
       " {'data': '2013-08-28', 'cena': 145.33},\n",
       " {'data': '2013-08-29', 'cena': 145.32},\n",
       " {'data': '2013-08-30', 'cena': 146.05},\n",
       " {'data': '2013-09-02', 'cena': 144.43},\n",
       " {'data': '2013-09-03', 'cena': 143.97},\n",
       " {'data': '2013-09-04', 'cena': 145.95},\n",
       " {'data': '2013-09-05', 'cena': 144.74},\n",
       " {'data': '2013-09-06', 'cena': 144.56},\n",
       " {'data': '2013-09-09', 'cena': 145.95},\n",
       " {'data': '2013-09-10', 'cena': 144.6},\n",
       " {'data': '2013-09-11', 'cena': 140.53},\n",
       " {'data': '2013-09-12', 'cena': 140.12},\n",
       " {'data': '2013-09-13', 'cena': 135.71},\n",
       " {'data': '2013-09-16', 'cena': 134.36},\n",
       " {'data': '2013-09-17', 'cena': 133.82},\n",
       " {'data': '2013-09-18', 'cena': 133.12},\n",
       " {'data': '2013-09-19', 'cena': 132.56},\n",
       " {'data': '2013-09-20', 'cena': 135.36},\n",
       " {'data': '2013-09-23', 'cena': 135.14},\n",
       " {'data': '2013-09-24', 'cena': 132.98},\n",
       " {'data': '2013-09-25', 'cena': 132.4},\n",
       " {'data': '2013-09-26', 'cena': 132.84},\n",
       " {'data': '2013-09-27', 'cena': 134.05},\n",
       " {'data': '2013-09-30', 'cena': 135.06},\n",
       " {'data': '2013-10-01', 'cena': 133.18},\n",
       " {'data': '2013-10-02', 'cena': 129.36},\n",
       " {'data': '2013-10-03', 'cena': 131.09},\n",
       " {'data': '2013-10-04', 'cena': 130.95},\n",
       " {'data': '2013-10-07', 'cena': 130.13},\n",
       " {'data': '2013-10-08', 'cena': 131.8},\n",
       " {'data': '2013-10-09', 'cena': 131.98},\n",
       " {'data': '2013-10-10', 'cena': 130.22},\n",
       " {'data': '2013-10-11', 'cena': 129.4},\n",
       " {'data': '2013-10-14', 'cena': 125.53},\n",
       " {'data': '2013-10-15', 'cena': 127.86},\n",
       " {'data': '2013-10-16', 'cena': 126.2},\n",
       " {'data': '2013-10-17', 'cena': 126.32},\n",
       " {'data': '2013-10-18', 'cena': 129.91},\n",
       " {'data': '2013-10-21', 'cena': 129.13},\n",
       " {'data': '2013-10-22', 'cena': 129.71},\n",
       " {'data': '2013-10-23', 'cena': 131.0},\n",
       " {'data': '2013-10-24', 'cena': 130.05},\n",
       " {'data': '2013-10-25', 'cena': 131.12},\n",
       " {'data': '2013-10-28', 'cena': 131.4},\n",
       " {'data': '2013-10-29', 'cena': 132.47},\n",
       " {'data': '2013-10-30', 'cena': 132.03},\n",
       " {'data': '2013-10-31', 'cena': 132.57},\n",
       " {'data': '2013-11-04', 'cena': 129.87},\n",
       " {'data': '2013-11-05', 'cena': 131.52},\n",
       " {'data': '2013-11-06', 'cena': 130.21},\n",
       " {'data': '2013-11-07', 'cena': 131.03},\n",
       " {'data': '2013-11-08', 'cena': 129.64},\n",
       " {'data': '2013-11-12', 'cena': 128.67},\n",
       " {'data': '2013-11-13', 'cena': 129.53},\n",
       " {'data': '2013-11-14', 'cena': 128.29},\n",
       " {'data': '2013-11-15', 'cena': 128.81},\n",
       " {'data': '2013-11-18', 'cena': 129.02},\n",
       " {'data': '2013-11-19', 'cena': 127.74},\n",
       " {'data': '2013-11-20', 'cena': 126.85},\n",
       " {'data': '2013-11-21', 'cena': 125.06},\n",
       " {'data': '2013-11-22', 'cena': 124.5},\n",
       " {'data': '2013-11-25', 'cena': 124.53},\n",
       " {'data': '2013-11-26', 'cena': 123.95},\n",
       " {'data': '2013-11-27', 'cena': 124.12},\n",
       " {'data': '2013-11-28', 'cena': 123.69},\n",
       " {'data': '2013-11-29', 'cena': 123.61},\n",
       " {'data': '2013-12-02', 'cena': 124.28},\n",
       " {'data': '2013-12-03', 'cena': 122.4},\n",
       " {'data': '2013-12-04', 'cena': 121.23},\n",
       " {'data': '2013-12-05', 'cena': 122.03},\n",
       " {'data': '2013-12-06', 'cena': 121.32},\n",
       " {'data': '2013-12-09', 'cena': 121.59},\n",
       " {'data': '2013-12-10', 'cena': 121.43},\n",
       " {'data': '2013-12-11', 'cena': 123.86},\n",
       " {'data': '2013-12-12', 'cena': 123.15},\n",
       " {'data': '2013-12-13', 'cena': 119.8},\n",
       " {'data': '2013-12-16', 'cena': 120.54},\n",
       " {'data': '2013-12-17', 'cena': 120.49},\n",
       " {'data': '2013-12-18', 'cena': 120.23},\n",
       " {'data': '2013-12-19', 'cena': 120.23},\n",
       " {'data': '2013-12-20', 'cena': 117.23},\n",
       " {'data': '2013-12-23', 'cena': 117.31},\n",
       " {'data': '2013-12-24', 'cena': 117.36},\n",
       " {'data': '2013-12-27', 'cena': 116.74},\n",
       " {'data': '2013-12-30', 'cena': 117.56},\n",
       " {'data': '2013-12-31', 'cena': 116.89}]"
      ]
     },
     "execution_count": 25,
     "metadata": {},
     "output_type": "execute_result"
    }
   ],
   "source": [
    "curreny_data"
   ]
  },
  {
   "cell_type": "code",
   "execution_count": 28,
   "id": "282d90ae",
   "metadata": {},
   "outputs": [
    {
     "name": "stdout",
     "output_type": "stream",
     "text": [
      "Na poczatku stycznia 2013 cena złota wybiosła: 165.83\n",
      "Na poczatku stycznia 2013 cena złota wybiosła: 116.89\n"
     ]
    }
   ],
   "source": [
    "print(\"Na poczatku stycznia 2013 cena złota wybiosła:\", curreny_data[0][\"cena\"])\n",
    "print(\"Na poczatku stycznia 2013 cena złota wybiosła:\", curreny_data[-1][\"cena\"])"
   ]
  },
  {
   "cell_type": "code",
   "execution_count": null,
   "id": "99100b14",
   "metadata": {},
   "outputs": [],
   "source": []
  }
 ],
 "metadata": {
  "kernelspec": {
   "display_name": "Python 3 (ipykernel)",
   "language": "python",
   "name": "python3"
  },
  "language_info": {
   "codemirror_mode": {
    "name": "ipython",
    "version": 3
   },
   "file_extension": ".py",
   "mimetype": "text/x-python",
   "name": "python",
   "nbconvert_exporter": "python",
   "pygments_lexer": "ipython3",
   "version": "3.9.7"
  }
 },
 "nbformat": 4,
 "nbformat_minor": 5
}
