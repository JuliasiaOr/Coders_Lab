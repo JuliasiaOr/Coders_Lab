{
 "cells": [
  {
   "cell_type": "markdown",
   "id": "3d0aa25b",
   "metadata": {},
   "source": [
    "### Otwórz plik todo.json i zapoznaj się z jego kształtem i treścią"
   ]
  },
  {
   "cell_type": "code",
   "execution_count": 1,
   "id": "b12a7db8",
   "metadata": {},
   "outputs": [],
   "source": [
    "import json"
   ]
  },
  {
   "cell_type": "code",
   "execution_count": 2,
   "id": "d10b015c",
   "metadata": {},
   "outputs": [],
   "source": [
    "with open('todo.json', encoding='utf-8') as f:\n",
    "    content = f.read()"
   ]
  },
  {
   "cell_type": "code",
   "execution_count": 3,
   "id": "cc6c23d4",
   "metadata": {},
   "outputs": [],
   "source": [
    "c"
   ]
  },
  {
   "cell_type": "code",
   "execution_count": 4,
   "id": "ad8ea2f0",
   "metadata": {},
   "outputs": [
    {
     "data": {
      "text/plain": [
       "{'owner': 'Jan', 'tasks': ['kupić chleb', 'kupić masło']}"
      ]
     },
     "execution_count": 4,
     "metadata": {},
     "output_type": "execute_result"
    }
   ],
   "source": [
    "data"
   ]
  },
  {
   "cell_type": "markdown",
   "id": "13e082bf",
   "metadata": {},
   "source": [
    "### 1.  Kod, który wyświetli treść pliku za pomocą funkcji print, w formie:"
   ]
  },
  {
   "cell_type": "code",
   "execution_count": 5,
   "id": "a24bf1a7",
   "metadata": {},
   "outputs": [
    {
     "name": "stdout",
     "output_type": "stream",
     "text": [
      "Jan, twoje bojowe zadanie na dziś to kupić chleb\n",
      "Jan, twoje bojowe zadanie na dziś to kupić masło\n"
     ]
    }
   ],
   "source": [
    "owner = data['owner']\n",
    "for task in data['tasks']:\n",
    "    print(f\"{owner}, twoje bojowe zadanie na dziś to {task}\")"
   ]
  },
  {
   "cell_type": "markdown",
   "id": "8f273f9b",
   "metadata": {},
   "source": [
    "### 2. Kod, który zapyta użytkownika o imię (za pomocą funkcji input), a następnie utworzy plik todo.json o treści:"
   ]
  },
  {
   "cell_type": "code",
   "execution_count": 5,
   "id": "cdce98cc",
   "metadata": {},
   "outputs": [
    {
     "name": "stdout",
     "output_type": "stream",
     "text": [
      "Podaj imię użytkownika: Klaudia\n"
     ]
    }
   ],
   "source": [
    "owner = input(\"Podaj imię użytkownika: \")"
   ]
  },
  {
   "cell_type": "code",
   "execution_count": 6,
   "id": "062c774c",
   "metadata": {},
   "outputs": [],
   "source": [
    "data =  {\n",
    "    'owner': owner,\n",
    "    'tasks': []\n",
    "}\n",
    "content = json.dumps(data)\n",
    "\n",
    "with open('todo_2.json', 'w', encoding='utf-8') as f:\n",
    "    f.write(content)"
   ]
  },
  {
   "cell_type": "markdown",
   "id": "53c1359c",
   "metadata": {},
   "source": [
    "### 3. Kod, który zapyta o treść nowego zadania (ponownie funkcja input), wczyta obecną zawartość pliku, a następnie dopisze je jako string do listy \"tasks\" w pliku. Uruchamiając tą komórkę Jupytera kilka razy zapiszesz kilka zadań na liście:"
   ]
  },
  {
   "cell_type": "code",
   "execution_count": 14,
   "id": "c3fad28e",
   "metadata": {
    "scrolled": true
   },
   "outputs": [
    {
     "name": "stdout",
     "output_type": "stream",
     "text": [
      "Podaj nowe zadanie: posprzątać\n"
     ]
    }
   ],
   "source": [
    "new_task = input(\"Podaj nowe zadanie: \")"
   ]
  },
  {
   "cell_type": "code",
   "execution_count": 8,
   "id": "a8e4c698",
   "metadata": {},
   "outputs": [],
   "source": [
    "with open('todo_2.json', encoding='utf-8') as f:\n",
    "    content = f.read()"
   ]
  },
  {
   "cell_type": "code",
   "execution_count": 9,
   "id": "5708bdf8",
   "metadata": {},
   "outputs": [],
   "source": [
    "data = json.loads(content)"
   ]
  },
  {
   "cell_type": "code",
   "execution_count": 10,
   "id": "4d15c562",
   "metadata": {},
   "outputs": [
    {
     "data": {
      "text/plain": [
       "{'owner': 'Klaudia', 'tasks': []}"
      ]
     },
     "execution_count": 10,
     "metadata": {},
     "output_type": "execute_result"
    }
   ],
   "source": [
    "data"
   ]
  },
  {
   "cell_type": "code",
   "execution_count": 11,
   "id": "e2f0193c",
   "metadata": {},
   "outputs": [
    {
     "data": {
      "text/plain": [
       "[]"
      ]
     },
     "execution_count": 11,
     "metadata": {},
     "output_type": "execute_result"
    }
   ],
   "source": [
    "data[\"tasks\"]"
   ]
  },
  {
   "cell_type": "code",
   "execution_count": 15,
   "id": "803dfaf0",
   "metadata": {},
   "outputs": [],
   "source": [
    "data[\"tasks\"].append(new_task)"
   ]
  },
  {
   "cell_type": "code",
   "execution_count": 16,
   "id": "4bd65089",
   "metadata": {},
   "outputs": [
    {
     "data": {
      "text/plain": [
       "{'owner': 'Klaudia', 'tasks': ['umyć rower', 'posprzątać']}"
      ]
     },
     "execution_count": 16,
     "metadata": {},
     "output_type": "execute_result"
    }
   ],
   "source": [
    "data"
   ]
  },
  {
   "cell_type": "code",
   "execution_count": 9,
   "id": "ac5465eb",
   "metadata": {},
   "outputs": [],
   "source": [
    "content = json.dumps(data, ensure_ascii=False)\n",
    "\n",
    "with open('todo.json', 'w', encoding='utf-8') as f:\n",
    "    f.write(content)"
   ]
  }
 ],
 "metadata": {
  "kernelspec": {
   "display_name": "Python 3 (ipykernel)",
   "language": "python",
   "name": "python3"
  },
  "language_info": {
   "codemirror_mode": {
    "name": "ipython",
    "version": 3
   },
   "file_extension": ".py",
   "mimetype": "text/x-python",
   "name": "python",
   "nbconvert_exporter": "python",
   "pygments_lexer": "ipython3",
   "version": "3.9.7"
  }
 },
 "nbformat": 4,
 "nbformat_minor": 5
}
