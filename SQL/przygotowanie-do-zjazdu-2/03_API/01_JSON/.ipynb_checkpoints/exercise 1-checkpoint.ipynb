{
 "cells": [
  {
   "cell_type": "markdown",
   "metadata": {},
   "source": [
    "# Zadanie 1\n",
    "\n",
    "Obejrzyj zawartość pliku `clients.json`. Twoim zadaniem jest wyświetlenie kilku list:\n",
    "\n",
    "1. Lista imion i nazwisk kobiet\n",
    "2. Lista imion i nazwisk mężczyzn\n",
    "3. Lista aktywnych klientów\n",
    "4. Lista klientów z tagiem `adipisicing`\n",
    "5. Lista klientów o zielonych oczach\n",
    "6. Lista klientów z polskim numerem telefonu\n",
    "\n",
    "## Podpowiedź:\n",
    "\n",
    "**Ad 1.** \n",
    "Najpierw stwórz zmienną, w której będziesz trzymać imiona kobiet. Na początku lista ta powinna być pusta.\n",
    "\n",
    "Następnie wczytaj plik `clients.json` i zamień go na zdeserializuj go do postaci słownika. Zauważ, że słownik ten trzyma w sobie tylko jeden element - listę słowników reprezentujących osoby. Lista ta znajduje się pod kluczem `clients`.\n",
    "\n",
    "Kiedy masz już listę klientów - przeiteruj po niej za pomocą pętli `for`. W środku pętli sprawdź za pomocą `if` czy dana osoba jest mężczyzną, czy kobietą (informacja ta kryje się pod kluczem `gender`). Jeżeli tak to dodaj jej imię do listy (informacja ta kryje się pod kluczem `name`).\n",
    "\n",
    "Kolejne podpunkty będą analogiczne do pierwszego.\n",
    "\n",
    "**Ad 4.**\n",
    "Użyj słowa kluczowego `in` do sprawdzenia, czy element znajduje się w liście.\n",
    "\n",
    "**Ad 6.**\n",
    "Możesz użyć wyrażenia regularnego do sprawdzenia numeru. Przykładowe wyrażenie regularne, któ©e powinno sprawdzić, czy dany numer jest telefonem polskim, wygląda następująco: `\\+48[0-9 ]{9,12}`. Wyrażenie to:\n",
    "1. Sprawdza, czy numer zaczyna się od +48 (pamiętaj, że znak `+` oznacza \"jedno lub więcej powtórzenie\", jeżeli chcesz szukać dosłownie znaku dodaj to musisz użyć `\\+`),\n",
    "2. Następnie sprawdza, czy po kierunkowym do Polski występuje od 9 do 12 znaków z podanego przez nas zakresu: spacji i cyfr od 0 do 9. Różna liczba znaków (od 9 do 12) wynika z faktu różnorodnego zapisu numeru: czasem ze spacjami, czasem bez."
   ]
  },
  {
   "cell_type": "markdown",
   "metadata": {},
   "source": [
    "### Zadanie 1"
   ]
  },
  {
   "cell_type": "code",
   "execution_count": 20,
   "metadata": {},
   "outputs": [
    {
     "name": "stdout",
     "output_type": "stream",
     "text": [
      "Lista imion i nazwisk kobiet:\n"
     ]
    }
   ],
   "source": [
    "print(\"Lista imion i nazwisk kobiet:\")\n",
    "\n",
    "import json\n",
    "with open('clients.json') as file:\n",
    "    data = json.loads(file.read())\n",
    "    \n",
    "\n",
    "# oczekiwany wynik: Alexandra Garrison, Jane Nash, Edwina Whitley"
   ]
  },
  {
   "cell_type": "code",
   "execution_count": 21,
   "metadata": {},
   "outputs": [],
   "source": [
    "clients = data['clients']"
   ]
  },
  {
   "cell_type": "code",
   "execution_count": 22,
   "metadata": {},
   "outputs": [
    {
     "data": {
      "text/plain": [
       "'Alexandra Garrison'"
      ]
     },
     "execution_count": 22,
     "metadata": {},
     "output_type": "execute_result"
    }
   ],
   "source": [
    "clients[1]['name']"
   ]
  },
  {
   "cell_type": "code",
   "execution_count": 23,
   "metadata": {},
   "outputs": [],
   "source": [
    "people = []\n",
    "for i in clients:\n",
    "    people.append(i['name'])"
   ]
  },
  {
   "cell_type": "code",
   "execution_count": 7,
   "metadata": {},
   "outputs": [
    {
     "data": {
      "text/plain": [
       "['Bennett Walter',\n",
       " 'Alexandra Garrison',\n",
       " 'Jane Nash',\n",
       " 'Edwina Whitley',\n",
       " 'Burris Rodriquez']"
      ]
     },
     "execution_count": 7,
     "metadata": {},
     "output_type": "execute_result"
    }
   ],
   "source": [
    "people"
   ]
  },
  {
   "cell_type": "code",
   "execution_count": null,
   "metadata": {},
   "outputs": [],
   "source": [
    "womens = []\n",
    "for i in clients:\n",
    "    if i['gender'] == 'female':\n",
    "        womens.append(i['name'])"
   ]
  },
  {
   "cell_type": "code",
   "execution_count": null,
   "metadata": {},
   "outputs": [],
   "source": [
    "womens"
   ]
  },
  {
   "cell_type": "markdown",
   "metadata": {},
   "source": [
    "### Zadanie 2"
   ]
  },
  {
   "cell_type": "code",
   "execution_count": 24,
   "metadata": {},
   "outputs": [
    {
     "name": "stdout",
     "output_type": "stream",
     "text": [
      "Lista imion i nazwisk mężczyzn:\n"
     ]
    }
   ],
   "source": [
    "print(\"Lista imion i nazwisk mężczyzn:\")\n",
    "\n",
    "import json\n",
    "with open('clients.json') as file:\n",
    "    data = json.loads(file.read())\n",
    "    \n",
    "\n",
    "# oczekiwany wynik: Bennett Walter, Burris Rodriquez"
   ]
  },
  {
   "cell_type": "code",
   "execution_count": 25,
   "metadata": {},
   "outputs": [],
   "source": [
    "clients = data['clients']"
   ]
  },
  {
   "cell_type": "code",
   "execution_count": 26,
   "metadata": {},
   "outputs": [
    {
     "data": {
      "text/plain": [
       "'Alexandra Garrison'"
      ]
     },
     "execution_count": 26,
     "metadata": {},
     "output_type": "execute_result"
    }
   ],
   "source": [
    "clients[1]['name']"
   ]
  },
  {
   "cell_type": "code",
   "execution_count": 27,
   "metadata": {},
   "outputs": [
    {
     "data": {
      "text/plain": [
       "['Bennett Walter',\n",
       " 'Alexandra Garrison',\n",
       " 'Jane Nash',\n",
       " 'Edwina Whitley',\n",
       " 'Burris Rodriquez']"
      ]
     },
     "execution_count": 27,
     "metadata": {},
     "output_type": "execute_result"
    }
   ],
   "source": [
    "people = []\n",
    "for i in clients:\n",
    "    people.append(i['name'])\n",
    "people    "
   ]
  },
  {
   "cell_type": "code",
   "execution_count": 28,
   "metadata": {},
   "outputs": [],
   "source": [
    "mens = []\n",
    "for i in clients:\n",
    "    if i['gender'] == 'male':\n",
    "        mens.append(i['name'])"
   ]
  },
  {
   "cell_type": "code",
   "execution_count": null,
   "metadata": {},
   "outputs": [],
   "source": [
    "mens"
   ]
  },
  {
   "cell_type": "markdown",
   "metadata": {},
   "source": [
    "***Zadanie 3***"
   ]
  },
  {
   "cell_type": "code",
   "execution_count": 8,
   "metadata": {},
   "outputs": [
    {
     "name": "stdout",
     "output_type": "stream",
     "text": [
      "Lista aktywnych klientów:\n",
      "['Burris Rodriquez']\n"
     ]
    }
   ],
   "source": [
    "active = []\n",
    "\n",
    "for i in clients:\n",
    "    if i['isActive'] == True:\n",
    "        active.append(i['name'])\n",
    "    \n",
    "print('Lista aktywnych klientów:')    \n",
    "print(active)\n",
    "\n",
    "# oczekiwany wynik: Burris Rodriquez"
   ]
  },
  {
   "cell_type": "markdown",
   "metadata": {},
   "source": [
    "### Zadanie 4"
   ]
  },
  {
   "cell_type": "code",
   "execution_count": null,
   "metadata": {},
   "outputs": [],
   "source": [
    "print(\"Lista klientów z tagiem `adipisicing`:\")\n",
    "\n",
    "# Tu napisz rozwiązanie\n",
    "\n",
    "# oczekiwany wynik: Bennett Walter, Alexandra Garrison, Burris Rodriquez"
   ]
  },
  {
   "cell_type": "markdown",
   "metadata": {},
   "source": [
    "### Zadanie 5"
   ]
  },
  {
   "cell_type": "code",
   "execution_count": 14,
   "metadata": {},
   "outputs": [
    {
     "name": "stdout",
     "output_type": "stream",
     "text": [
      "Lista klientów o zielonych oczach:\n",
      "['Alexandra Garrison', 'Jane Nash', 'Burris Rodriquez']\n"
     ]
    }
   ],
   "source": [
    "eyes = []\n",
    "\n",
    "for i in clients:\n",
    "    if i['eyeColor'] == 'green':\n",
    "        eyes.append(i['name'])\n",
    "    \n",
    "print(\"Lista klientów o zielonych oczach:\")    \n",
    "print(eyes)\n",
    "\n",
    "# oczekiwany wynik: Alexandra Garrison, Jane Nash, Burris Rodriquez"
   ]
  },
  {
   "cell_type": "markdown",
   "metadata": {},
   "source": [
    "### Zadanie 6"
   ]
  },
  {
   "cell_type": "code",
   "execution_count": 2,
   "metadata": {},
   "outputs": [
    {
     "ename": "NameError",
     "evalue": "name 'clients' is not defined",
     "output_type": "error",
     "traceback": [
      "\u001b[0;31m---------------------------------------------------------------------------\u001b[0m",
      "\u001b[0;31mNameError\u001b[0m                                 Traceback (most recent call last)",
      "\u001b[0;32m/var/folders/m_/n9dj50916w33fdsnql2b71sm0000gn/T/ipykernel_26575/864256315.py\u001b[0m in \u001b[0;36m<module>\u001b[0;34m\u001b[0m\n\u001b[1;32m      2\u001b[0m \u001b[0mphone\u001b[0m \u001b[0;34m=\u001b[0m \u001b[0;34m[\u001b[0m\u001b[0;34m]\u001b[0m\u001b[0;34m\u001b[0m\u001b[0;34m\u001b[0m\u001b[0m\n\u001b[1;32m      3\u001b[0m \u001b[0;34m\u001b[0m\u001b[0m\n\u001b[0;32m----> 4\u001b[0;31m \u001b[0;32mfor\u001b[0m \u001b[0mi\u001b[0m \u001b[0;32min\u001b[0m \u001b[0mclients\u001b[0m\u001b[0;34m:\u001b[0m\u001b[0;34m\u001b[0m\u001b[0;34m\u001b[0m\u001b[0m\n\u001b[0m\u001b[1;32m      5\u001b[0m     \u001b[0;32mif\u001b[0m \u001b[0mi\u001b[0m\u001b[0;34m[\u001b[0m\u001b[0;34m\"phone\"\u001b[0m\u001b[0;34m]\u001b[0m \u001b[0;34m==\u001b[0m \u001b[0mre\u001b[0m\u001b[0;34m.\u001b[0m\u001b[0mfindall\u001b[0m\u001b[0;34m(\u001b[0m\u001b[0;34mr'/+48[0-9 ]{9,12}'\u001b[0m\u001b[0;34m)\u001b[0m\u001b[0;34m:\u001b[0m\u001b[0;34m\u001b[0m\u001b[0;34m\u001b[0m\u001b[0m\n\u001b[1;32m      6\u001b[0m         \u001b[0mphone\u001b[0m\u001b[0;34m.\u001b[0m\u001b[0mappend\u001b[0m\u001b[0;34m(\u001b[0m\u001b[0mi\u001b[0m\u001b[0;34m[\u001b[0m\u001b[0;34m\"name\"\u001b[0m\u001b[0;34m]\u001b[0m\u001b[0;34m)\u001b[0m\u001b[0;34m\u001b[0m\u001b[0;34m\u001b[0m\u001b[0m\n",
      "\u001b[0;31mNameError\u001b[0m: name 'clients' is not defined"
     ]
    }
   ],
   "source": [
    "import re\n",
    "phone = []\n",
    "\n",
    "for i in clients:\n",
    "    if i[\"phone\"] == re.findall(r'/+48[0-9 ]{9,12}'):\n",
    "        phone.append(i[\"name\"])\n",
    "    \n",
    "print(\"Lista klientów z polskim numerem telefonu:\") \n",
    "print(phone)\n",
    "\n",
    "# oczekiwany wynik: Bennett Walter"
   ]
  },
  {
   "cell_type": "code",
   "execution_count": null,
   "metadata": {},
   "outputs": [],
   "source": []
  }
 ],
 "metadata": {
  "kernelspec": {
   "display_name": "Python 3 (ipykernel)",
   "language": "python",
   "name": "python3"
  },
  "language_info": {
   "codemirror_mode": {
    "name": "ipython",
    "version": 3
   },
   "file_extension": ".py",
   "mimetype": "text/x-python",
   "name": "python",
   "nbconvert_exporter": "python",
   "pygments_lexer": "ipython3",
   "version": "3.9.13"
  }
 },
 "nbformat": 4,
 "nbformat_minor": 4
}
