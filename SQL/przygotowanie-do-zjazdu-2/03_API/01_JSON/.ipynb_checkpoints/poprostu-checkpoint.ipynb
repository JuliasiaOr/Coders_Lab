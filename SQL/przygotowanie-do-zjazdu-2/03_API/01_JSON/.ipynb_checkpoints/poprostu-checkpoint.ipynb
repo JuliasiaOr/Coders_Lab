{
 "cells": [
  {
   "cell_type": "code",
   "execution_count": null,
   "id": "34e9efef",
   "metadata": {},
   "outputs": [],
   "source": [
    "import json"
   ]
  },
  {
   "cell_type": "markdown",
   "id": "1348859e",
   "metadata": {},
   "source": [
    "### 1. Róznica pomiedzy jsonem a slownikiem"
   ]
  },
  {
   "cell_type": "code",
   "execution_count": null,
   "id": "5303b2a6",
   "metadata": {},
   "outputs": [],
   "source": [
    "data_as_dict = {'Harry Potter': 'Gryffindor', 'Draco Malfoy': 'Slytherin'}"
   ]
  },
  {
   "cell_type": "code",
   "execution_count": null,
   "id": "84a69e87",
   "metadata": {},
   "outputs": [],
   "source": [
    "type(data_as_dict)"
   ]
  },
  {
   "cell_type": "code",
   "execution_count": null,
   "id": "4f7743a8",
   "metadata": {},
   "outputs": [],
   "source": [
    "data_as_dict['Harry Potter']"
   ]
  },
  {
   "cell_type": "code",
   "execution_count": null,
   "id": "6f14cfb4",
   "metadata": {},
   "outputs": [],
   "source": [
    "data_as_dict['Draco Malfoy']"
   ]
  },
  {
   "cell_type": "code",
   "execution_count": null,
   "id": "8233d740",
   "metadata": {},
   "outputs": [],
   "source": [
    "###data_as_dict.to_csv('dict.csv')"
   ]
  },
  {
   "cell_type": "code",
   "execution_count": null,
   "id": "29068a25",
   "metadata": {},
   "outputs": [],
   "source": [
    "data_as_json = json.dumps(data_as_dict)"
   ]
  },
  {
   "cell_type": "code",
   "execution_count": null,
   "id": "65c1e84b",
   "metadata": {},
   "outputs": [],
   "source": [
    "data_as_json"
   ]
  },
  {
   "cell_type": "code",
   "execution_count": null,
   "id": "3434fb09",
   "metadata": {},
   "outputs": [],
   "source": [
    "type(data_as_json)"
   ]
  },
  {
   "cell_type": "code",
   "execution_count": null,
   "id": "72192674",
   "metadata": {},
   "outputs": [],
   "source": [
    "data_back = json.loads(data_as_json)\n",
    "print(data_back)\n",
    "print(type(data_back))"
   ]
  },
  {
   "cell_type": "code",
   "execution_count": null,
   "id": "1c16ca9c",
   "metadata": {},
   "outputs": [],
   "source": []
  }
 ],
 "metadata": {
  "kernelspec": {
   "display_name": "Python 3 (ipykernel)",
   "language": "python",
   "name": "python3"
  },
  "language_info": {
   "codemirror_mode": {
    "name": "ipython",
    "version": 3
   },
   "file_extension": ".py",
   "mimetype": "text/x-python",
   "name": "python",
   "nbconvert_exporter": "python",
   "pygments_lexer": "ipython3",
   "version": "3.9.13"
  }
 },
 "nbformat": 4,
 "nbformat_minor": 5
}
