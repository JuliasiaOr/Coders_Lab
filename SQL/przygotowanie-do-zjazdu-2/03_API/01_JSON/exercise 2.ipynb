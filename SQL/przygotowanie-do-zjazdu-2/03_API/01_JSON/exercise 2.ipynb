{
 "cells": [
  {
   "cell_type": "markdown",
   "metadata": {},
   "source": [
    "# Zadanie 2\n",
    "\n",
    "Otwórz plik `todo.json` i zapoznaj się z jego kształtem i treścią. Następnie w trzech osobnych komórkach Jupytera napisz:\n",
    "\n",
    "**1.** Kod, który wyświetli treść pliku za pomocą funkcji `print`, w formie:\n",
    "```\n",
    "<IMIĘ PODANE PRZEZ UŻYTKOWNIKA>, twoje bojowe zadanie na dziś to <ZADANIE #1>\n",
    "<IMIĘ PODANE PRZEZ UŻYTKOWNIKA>, twoje bojowe zadanie na dziś to <ZADANIE #2>\n",
    "...\n",
    "```\n",
    "\n",
    "Dla podanego przykładu będzie to:\n",
    "```\n",
    "Jan, twoje bojowe zadanie na dziś to kupić chleb\n",
    "Jan, twoje bojowe zadanie na dziś to kupić masło\n",
    "```\n",
    "\n",
    "**2.** Kod, który zapyta użytkownika o imię (za pomocą funkcji `input`), a następnie utworzy plik `todo.json` o treści:\n",
    "```json\n",
    "{\n",
    "  \"owner\": \"<IMIĘ PODANE PRZEZ UŻYTKOWNIKA>\",\n",
    "  \"tasks\": []\n",
    "}\n",
    "```\n",
    "Jeśli plik już istnieje, powinien zostać nadpisany.\n",
    "\n",
    "**3.** Kod, który zapyta o treść nowego zadania (ponownie funkcja `input`), wczyta obecną zawartość pliku, a następnie dopisze je jako string do listy `\"tasks\"` w pliku. Uruchamiając tą komórkę Jupytera kilka razy zapiszesz kilka zadań na liście:\n",
    "```json\n",
    "{\n",
    "  \"owner\": \"Jan\",\n",
    "  \"tasks\": [\"kupić chleb\", \"kupić masło\", \"kupić mleko\", \"dolać oleju do Hondy\"]\n",
    "}\n",
    "```\n",
    "\n",
    "Jeśli plik już istnieje, powinien zostać nadpisany.\n",
    "\n",
    "**Komórki Jupytera możesz uruchamiać w dowolnej kolejności**\n"
   ]
  },
  {
   "cell_type": "markdown",
   "metadata": {},
   "source": [
    "### Zadanie 1"
   ]
  },
  {
   "cell_type": "code",
   "execution_count": 1,
   "metadata": {},
   "outputs": [
    {
     "data": {
      "text/plain": [
       "{'owner': 'Jan', 'tasks': ['kupić chleb', 'kupić masło']}"
      ]
     },
     "execution_count": 1,
     "metadata": {},
     "output_type": "execute_result"
    }
   ],
   "source": [
    "# Tu przeczytaj plik i wyświetl jego treść\n",
    "import json\n",
    " \n",
    "with open('todo.json',encoding='utf-8') as file:\n",
    "    data = json.loads(file.read())\n",
    "data"
   ]
  },
  {
   "cell_type": "code",
   "execution_count": 2,
   "metadata": {},
   "outputs": [
    {
     "name": "stdout",
     "output_type": "stream",
     "text": [
      "Jan  twoje bojowe zadanie na dziś to  kupić chleb\n",
      "Jan  twoje bojowe zadanie na dziś to  kupić masło\n"
     ]
    }
   ],
   "source": [
    "name = data[\"owner\"]\n",
    "zadanie_1 = data[\"tasks\"][0]\n",
    "zadanie_2 = data[\"tasks\"][1]\n",
    "\n",
    "print(name, \" twoje bojowe zadanie na dziś to \", zadanie_1)\n",
    "print(name, \" twoje bojowe zadanie na dziś to \", zadanie_2)"
   ]
  },
  {
   "cell_type": "code",
   "execution_count": 3,
   "metadata": {},
   "outputs": [
    {
     "name": "stdout",
     "output_type": "stream",
     "text": [
      "coko\n"
     ]
    }
   ],
   "source": [
    "name_1 = input()"
   ]
  },
  {
   "cell_type": "code",
   "execution_count": 4,
   "metadata": {},
   "outputs": [
    {
     "data": {
      "text/plain": [
       "{'owner': 'coko', 'tasks': []}"
      ]
     },
     "execution_count": 4,
     "metadata": {},
     "output_type": "execute_result"
    }
   ],
   "source": [
    "treść={\n",
    "    \"owner\": name_1,\n",
    "    \"tasks\": []\n",
    "}\n",
    "treść"
   ]
  },
  {
   "cell_type": "code",
   "execution_count": 5,
   "metadata": {},
   "outputs": [],
   "source": [
    "with open('todo2.json', 'w') as file:\n",
    "    file.write(json.dumps(treść))"
   ]
  },
  {
   "cell_type": "code",
   "execution_count": 6,
   "metadata": {},
   "outputs": [
    {
     "name": "stdout",
     "output_type": "stream",
     "text": [
      "{'owner': 'coko', 'tasks': []}\n"
     ]
    }
   ],
   "source": [
    "with open('todo2.json',encoding='utf-8') as file:\n",
    "    data = json.loads(file.read())\n",
    "print(data)"
   ]
  },
  {
   "cell_type": "code",
   "execution_count": 7,
   "metadata": {},
   "outputs": [
    {
     "data": {
      "text/plain": [
       "[]"
      ]
     },
     "execution_count": 7,
     "metadata": {},
     "output_type": "execute_result"
    }
   ],
   "source": [
    "data[\"tasks\"]"
   ]
  },
  {
   "cell_type": "code",
   "execution_count": 8,
   "metadata": {},
   "outputs": [
    {
     "name": "stdout",
     "output_type": "stream",
     "text": [
      "Podaj nowe zadanie:kolo\n"
     ]
    }
   ],
   "source": [
    "new_task = input(\"Podaj nowe zadanie:\")"
   ]
  },
  {
   "cell_type": "code",
   "execution_count": 9,
   "metadata": {},
   "outputs": [
    {
     "data": {
      "text/plain": [
       "'kolo'"
      ]
     },
     "execution_count": 9,
     "metadata": {},
     "output_type": "execute_result"
    }
   ],
   "source": [
    "new_task"
   ]
  },
  {
   "cell_type": "code",
   "execution_count": 10,
   "metadata": {},
   "outputs": [],
   "source": [
    "data[\"tasks\"].append(new_task)"
   ]
  },
  {
   "cell_type": "code",
   "execution_count": 11,
   "metadata": {},
   "outputs": [
    {
     "data": {
      "text/plain": [
       "{'owner': 'coko', 'tasks': ['kolo']}"
      ]
     },
     "execution_count": 11,
     "metadata": {},
     "output_type": "execute_result"
    }
   ],
   "source": [
    "data"
   ]
  },
  {
   "cell_type": "code",
   "execution_count": 12,
   "metadata": {},
   "outputs": [],
   "source": [
    "with open('todo1.json', 'w') as file:\n",
    "    file.write(json.dumps(data))"
   ]
  },
  {
   "cell_type": "code",
   "execution_count": 13,
   "metadata": {},
   "outputs": [
    {
     "data": {
      "text/plain": [
       "{'owner': 'coko', 'tasks': ['kolo']}"
      ]
     },
     "execution_count": 13,
     "metadata": {},
     "output_type": "execute_result"
    }
   ],
   "source": [
    "with open('todo1.json',encoding='utf-8') as file:\n",
    "    data = json.loads(file.read())\n",
    "data"
   ]
  },
  {
   "cell_type": "code",
   "execution_count": null,
   "metadata": {},
   "outputs": [],
   "source": []
  }
 ],
 "metadata": {
  "kernelspec": {
   "display_name": "Python 3 (ipykernel)",
   "language": "python",
   "name": "python3"
  },
  "language_info": {
   "codemirror_mode": {
    "name": "ipython",
    "version": 3
   },
   "file_extension": ".py",
   "mimetype": "text/x-python",
   "name": "python",
   "nbconvert_exporter": "python",
   "pygments_lexer": "ipython3",
   "version": "3.9.13"
  }
 },
 "nbformat": 4,
 "nbformat_minor": 4
}
