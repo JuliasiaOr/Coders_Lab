{
 "cells": [
  {
   "cell_type": "markdown",
   "id": "94e4e232",
   "metadata": {},
   "source": [
    "### Zadanie 1\n",
    "\n",
    "Napisz funkcję get_weather, która przyjmie trzy argumenty:\n",
    "\n",
    "1. city - nazwa miasta, wymagany,\n",
    "2. state - nazwa stanu/województwa, opcjonalny,\n",
    "3. country - nazwa kraju, opcjonalny.\n",
    "\n",
    "\n",
    "- https://api.openweathermap.org/data/2.5/weather?q=Warsaw&appid=af3f4cdb82efc648c561c7ee6ed27c13"
   ]
  },
  {
   "cell_type": "code",
   "execution_count": 1,
   "id": "1cad918c",
   "metadata": {},
   "outputs": [],
   "source": [
    "import requests"
   ]
  },
  {
   "cell_type": "code",
   "execution_count": 2,
   "id": "ad99b25d",
   "metadata": {},
   "outputs": [],
   "source": [
    "url = \"https://api.openweathermap.org/data/2.5/weather\""
   ]
  },
  {
   "cell_type": "markdown",
   "id": "8ffb3405",
   "metadata": {},
   "source": [
    "***Przykład*** Sama Warszawa"
   ]
  },
  {
   "cell_type": "code",
   "execution_count": 3,
   "id": "542daca1",
   "metadata": {},
   "outputs": [],
   "source": [
    "q = 'Warsaw'"
   ]
  },
  {
   "cell_type": "code",
   "execution_count": 4,
   "id": "a3fcbdc4",
   "metadata": {},
   "outputs": [],
   "source": [
    "params = {'q': q,\n",
    "          'appid': 'af3f4cdb82efc648c561c7ee6ed27c13'}"
   ]
  },
  {
   "cell_type": "code",
   "execution_count": 5,
   "id": "4bd6b3cb",
   "metadata": {},
   "outputs": [],
   "source": [
    "res = requests.get(url, params=params)"
   ]
  },
  {
   "cell_type": "code",
   "execution_count": 6,
   "id": "25b25b1b",
   "metadata": {},
   "outputs": [
    {
     "data": {
      "text/plain": [
       "<Response [200]>"
      ]
     },
     "execution_count": 6,
     "metadata": {},
     "output_type": "execute_result"
    }
   ],
   "source": [
    "res"
   ]
  },
  {
   "cell_type": "code",
   "execution_count": 7,
   "id": "4986adb5",
   "metadata": {
    "scrolled": false
   },
   "outputs": [
    {
     "name": "stdout",
     "output_type": "stream",
     "text": [
      "{'coord': {'lon': 21.0118, 'lat': 52.2298}, 'weather': [{'id': 803, 'main': 'Clouds', 'description': 'broken clouds', 'icon': '04d'}], 'base': 'stations', 'main': {'temp': 274.62, 'feels_like': 270.28, 'temp_min': 273.68, 'temp_max': 275.28, 'pressure': 1028, 'humidity': 91}, 'visibility': 10000, 'wind': {'speed': 4.63, 'deg': 60}, 'clouds': {'all': 75}, 'dt': 1674396105, 'sys': {'type': 2, 'id': 2035775, 'country': 'PL', 'sunrise': 1674369074, 'sunset': 1674399793}, 'timezone': 3600, 'id': 756135, 'name': 'Warsaw', 'cod': 200}\n"
     ]
    }
   ],
   "source": [
    "data = res.json()\n",
    "print(data)"
   ]
  },
  {
   "cell_type": "code",
   "execution_count": 13,
   "id": "94ef7f20",
   "metadata": {},
   "outputs": [
    {
     "name": "stdout",
     "output_type": "stream",
     "text": [
      "['Warsaw', 'mazowieckie', 'Polska']\n"
     ]
    }
   ],
   "source": [
    "trial = [\"Warsaw\", \"mazowieckie\", \"Poland\"]\n",
    "print(trial)"
   ]
  },
  {
   "cell_type": "code",
   "execution_count": 14,
   "id": "6c46d00b",
   "metadata": {
    "scrolled": true
   },
   "outputs": [
    {
     "data": {
      "text/plain": [
       "'Warsaw,mazowieckie,Polska'"
      ]
     },
     "execution_count": 14,
     "metadata": {},
     "output_type": "execute_result"
    }
   ],
   "source": [
    "\",\".join(trial)"
   ]
  },
  {
   "cell_type": "markdown",
   "id": "3e116094",
   "metadata": {},
   "source": [
    "***Funkcja get_weather***"
   ]
  },
  {
   "cell_type": "code",
   "execution_count": 10,
   "id": "8ec872f9",
   "metadata": {},
   "outputs": [],
   "source": [
    "API_KEY = 'af3f4cdb82efc648c561c7ee6ed27c13'\n",
    "URL = 'https://api.openweathermap.org/data/2.5/weather'\n",
    "\n",
    "def get_weather(city, state=\"\", country=\"\"):\n",
    "    \n",
    "    q = \",\".join([city, state, country])\n",
    "    \n",
    "    params = {'q': q,\n",
    "             'appid': API_KEY}\n",
    "    \n",
    "    res = requests.get(URL, params=params)\n",
    "    data = res.json()\n",
    "    \n",
    "    if data.get('cod') == '404':\n",
    "        return \"error\"\n",
    "    else:\n",
    "        return data.get('weather')[0].get('main')"
   ]
  },
  {
   "cell_type": "code",
   "execution_count": 17,
   "id": "77fce079",
   "metadata": {},
   "outputs": [
    {
     "data": {
      "text/plain": [
       "'Clouds'"
      ]
     },
     "execution_count": 17,
     "metadata": {},
     "output_type": "execute_result"
    }
   ],
   "source": [
    "get_weather('Warszawa', \"mazowieckie\", 'Polska')"
   ]
  },
  {
   "cell_type": "code",
   "execution_count": 18,
   "id": "c5578d8b",
   "metadata": {},
   "outputs": [
    {
     "data": {
      "text/plain": [
       "'Clouds'"
      ]
     },
     "execution_count": 18,
     "metadata": {},
     "output_type": "execute_result"
    }
   ],
   "source": [
    "get_weather('Warszawa')"
   ]
  },
  {
   "cell_type": "code",
   "execution_count": null,
   "id": "7595d59c",
   "metadata": {},
   "outputs": [],
   "source": []
  }
 ],
 "metadata": {
  "kernelspec": {
   "display_name": "Python 3 (ipykernel)",
   "language": "python",
   "name": "python3"
  },
  "language_info": {
   "codemirror_mode": {
    "name": "ipython",
    "version": 3
   },
   "file_extension": ".py",
   "mimetype": "text/x-python",
   "name": "python",
   "nbconvert_exporter": "python",
   "pygments_lexer": "ipython3",
   "version": "3.9.7"
  }
 },
 "nbformat": 4,
 "nbformat_minor": 5
}
