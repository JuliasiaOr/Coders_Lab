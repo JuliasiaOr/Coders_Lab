{
 "cells": [
  {
   "cell_type": "markdown",
   "metadata": {},
   "source": [
    "# Zadanie 1\n",
    "\n",
    "Zapoznaj się z [dokumentacją endpointu /weather](https://openweathermap.org/current#name).\n",
    "\n",
    "Napisz funkcję `get_weather`, która przyjmie trzy argumenty:\n",
    "- `city` - nazwa miasta, **wymagany**,\n",
    "- `state` - nazwa stanu/województwa, opcjonalny,\n",
    "- `country` - nazwa kraju, opcjonalny.\n",
    "\n",
    "W funkcji użyj API [https://openweathermap.org](openweathermap.org) aby sprawdzić aktualną pogodę. W zapytaniu użyj wszystkich dostępnych informacji (`city`, `state`, `country`), ale tak, aby funkcja wciąż działała gdy zostanie podane tylko `city` albo `city` i `country`.\n",
    "\n",
    "Funkcja powinna zwrócić krótką nazwę pogody: `\"Clouds\"`, `\"Rain\"`, `\"Clear\"` - odczytaj ją z JSONa zwracanego przez serwer.\n",
    "\n",
    "Pamiętaj o przekazaniu `appid`.\n"
   ]
  },
  {
   "cell_type": "code",
   "execution_count": 1,
   "metadata": {},
   "outputs": [],
   "source": [
    "import requests\n",
    "import psycopg2\n",
    "connection = psycopg2.connect(\n",
    "    )"
   ]
  },
  {
   "cell_type": "code",
   "execution_count": 2,
   "metadata": {},
   "outputs": [],
   "source": [
    "url = \"https://api.openweathermap.org/data/2.5/weather?q=city,state,country\"\n",
    "hearders = {'apikey':'af3f4cdb82efc648c561c7ee6ed27c13'}"
   ]
  },
  {
   "cell_type": "code",
   "execution_count": 3,
   "metadata": {},
   "outputs": [],
   "source": [
    "# tu napisz funkcję \"get_weather\"\n",
    "def get_weather(city,state=\"\",country=\"\"):\n",
    "    response = requests.get(url,hearders)\n",
    "    return response.json().get('weather')[0]['main']"
   ]
  },
  {
   "cell_type": "code",
   "execution_count": 4,
   "metadata": {},
   "outputs": [
    {
     "name": "stdout",
     "output_type": "stream",
     "text": [
      "Pogoda dla Warszawy: Clouds\n",
      "Warszawa jeszcze raz: Clouds\n"
     ]
    }
   ],
   "source": [
    "print('Pogoda dla Warszawy:', get_weather('Warszawa', 'Mazowiecke', 'Polska'))\n",
    "print('Warszawa jeszcze raz:', get_weather('Warszawa', 'Mazowiecke'))"
   ]
  }
 ],
 "metadata": {
  "kernelspec": {
   "display_name": "Python 3 (ipykernel)",
   "language": "python",
   "name": "python3"
  },
  "language_info": {
   "codemirror_mode": {
    "name": "ipython",
    "version": 3
   },
   "file_extension": ".py",
   "mimetype": "text/x-python",
   "name": "python",
   "nbconvert_exporter": "python",
   "pygments_lexer": "ipython3",
   "version": "3.9.13"
  }
 },
 "nbformat": 4,
 "nbformat_minor": 4
}
